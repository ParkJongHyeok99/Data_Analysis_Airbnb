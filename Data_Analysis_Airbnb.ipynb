{
  "nbformat": 4,
  "nbformat_minor": 0,
  "metadata": {
    "colab": {
      "provenance": [],
      "mount_file_id": "15aZyBqnzmotttiSBquLPChNOUrqYlLUf",
      "authorship_tag": "ABX9TyNYLz4bXOVhZiqz1DMQ/jAi",
      "include_colab_link": true
    },
    "kernelspec": {
      "name": "python3",
      "display_name": "Python 3"
    },
    "language_info": {
      "name": "python"
    },
    "accelerator": "TPU"
  },
  "cells": [
    {
      "cell_type": "markdown",
      "metadata": {
        "id": "view-in-github",
        "colab_type": "text"
      },
      "source": [
        "<a href=\"https://colab.research.google.com/github/ParkJongHyeok99/Data_Analysis_Airbnb/blob/main/Data_Analysis_Airbnb.ipynb\" target=\"_parent\"><img src=\"https://colab.research.google.com/assets/colab-badge.svg\" alt=\"Open In Colab\"/></a>"
      ]
    },
    {
      "cell_type": "markdown",
      "source": [
        "google colab 연동 및 데이터 전처리"
      ],
      "metadata": {
        "id": "_hlxpHr5igby"
      }
    },
    {
      "cell_type": "code",
      "execution_count": 55,
      "metadata": {
        "colab": {
          "base_uri": "https://localhost:8080/"
        },
        "id": "PwHabdoAZNIX",
        "outputId": "7aa42ef6-742b-4627-df29-66bb08db1d5d"
      },
      "outputs": [
        {
          "output_type": "stream",
          "name": "stdout",
          "text": [
            "Drive already mounted at /content/drive; to attempt to forcibly remount, call drive.mount(\"/content/drive\", force_remount=True).\n"
          ]
        }
      ],
      "source": [
        "from google.colab import drive\n",
        "drive.mount('/content/drive')"
      ]
    },
    {
      "cell_type": "code",
      "source": [
        "import pandas as pd\n",
        "import numpy as np\n",
        "\n",
        "source_data = pd.read_csv('/content/drive/MyDrive/Colab Notebooks/Data_Analysis/detailed_listings.csv')\n",
        "\n",
        "source_data.shape\n",
        "\n",
        "delete_columns_data = source_data.drop(labels=['listing_url', 'scrape_id', 'last_scraped', 'source', 'name', 'description', 'neighborhood_overview', 'picture_url',\n",
        "                                               'host_id', 'host_url', 'host_name', 'host_since', 'host_location', 'host_about', 'host_acceptance_rate', 'host_thumbnail_url', 'host_picture_url',\n",
        "                                               'host_neighbourhood', 'host_listings_count', 'host_total_listings_count', 'host_verifications', 'host_has_profile_pic', 'host_identity_verified',\n",
        "                                               'neighbourhood', 'neighbourhood_cleansed', 'property_type', 'bathrooms', 'minimum_nights', 'maximum_nights', 'minimum_minimum_nights',\n",
        "                                               'maximum_minimum_nights', 'minimum_maximum_nights', 'maximum_maximum_nights', 'minimum_nights_avg_ntm', 'maximum_nights_avg_ntm', 'calendar_updated',\n",
        "                                               'has_availability', 'availability_30', 'availability_60', 'calendar_last_scraped', 'number_of_reviews_ltm', 'number_of_reviews_l30d', 'first_review',\n",
        "                                               'last_review', 'license', 'calculated_host_listings_count', 'calculated_host_listings_count_entire_homes', 'calculated_host_listings_count_private_rooms',\n",
        "                                               'calculated_host_listings_count_shared_rooms', 'reviews_per_month'], axis = 1)       #사용하지 않는 열 제거\n",
        "\n",
        "delete_columns_data.shape"
      ],
      "metadata": {
        "id": "WjslTu1YaXcp",
        "colab": {
          "base_uri": "https://localhost:8080/"
        },
        "outputId": "f513014c-620c-4e7d-e235-d1d30ebfb895"
      },
      "execution_count": 56,
      "outputs": [
        {
          "output_type": "execute_result",
          "data": {
            "text/plain": [
              "(38792, 25)"
            ]
          },
          "metadata": {},
          "execution_count": 56
        }
      ]
    },
    {
      "cell_type": "code",
      "source": [
        "delete_columns_data.head(3)"
      ],
      "metadata": {
        "colab": {
          "base_uri": "https://localhost:8080/",
          "height": 245
        },
        "id": "a964yOqkucut",
        "outputId": "30c8294f-de55-4564-e77e-0805c62565da"
      },
      "execution_count": 57,
      "outputs": [
        {
          "output_type": "execute_result",
          "data": {
            "text/plain": [
              "        id host_response_time host_response_rate host_is_superhost  \\\n",
              "0  9630344                NaN                NaN                 f   \n",
              "1  3533741                NaN                NaN                 f   \n",
              "2  9731039                NaN                NaN                 f   \n",
              "\n",
              "  neighbourhood_group_cleansed  latitude  longitude        room_type  \\\n",
              "0                     Brooklyn  40.68457  -73.91181     Private room   \n",
              "1                    Manhattan  40.76878  -73.98719     Private room   \n",
              "2                       Queens  40.74343  -73.91865  Entire home/apt   \n",
              "\n",
              "   accommodates bathrooms_text  ...  availability_365  number_of_reviews  \\\n",
              "0             1  1 shared bath  ...               364                  5   \n",
              "1             2         1 bath  ...                 0                  0   \n",
              "2             1         1 bath  ...                 0                  0   \n",
              "\n",
              "  review_scores_rating review_scores_accuracy  review_scores_cleanliness  \\\n",
              "0                  4.8                    4.6                        5.0   \n",
              "1                  NaN                    NaN                        NaN   \n",
              "2                  NaN                    NaN                        NaN   \n",
              "\n",
              "   review_scores_checkin  review_scores_communication  review_scores_location  \\\n",
              "0                    5.0                          5.0                     4.8   \n",
              "1                    NaN                          NaN                     NaN   \n",
              "2                    NaN                          NaN                     NaN   \n",
              "\n",
              "   review_scores_value  instant_bookable  \n",
              "0                  5.0                 f  \n",
              "1                  NaN                 f  \n",
              "2                  NaN                 f  \n",
              "\n",
              "[3 rows x 25 columns]"
            ],
            "text/html": [
              "\n",
              "  <div id=\"df-f73f695d-eb67-4d37-bc0f-28822e0574f8\" class=\"colab-df-container\">\n",
              "    <div>\n",
              "<style scoped>\n",
              "    .dataframe tbody tr th:only-of-type {\n",
              "        vertical-align: middle;\n",
              "    }\n",
              "\n",
              "    .dataframe tbody tr th {\n",
              "        vertical-align: top;\n",
              "    }\n",
              "\n",
              "    .dataframe thead th {\n",
              "        text-align: right;\n",
              "    }\n",
              "</style>\n",
              "<table border=\"1\" class=\"dataframe\">\n",
              "  <thead>\n",
              "    <tr style=\"text-align: right;\">\n",
              "      <th></th>\n",
              "      <th>id</th>\n",
              "      <th>host_response_time</th>\n",
              "      <th>host_response_rate</th>\n",
              "      <th>host_is_superhost</th>\n",
              "      <th>neighbourhood_group_cleansed</th>\n",
              "      <th>latitude</th>\n",
              "      <th>longitude</th>\n",
              "      <th>room_type</th>\n",
              "      <th>accommodates</th>\n",
              "      <th>bathrooms_text</th>\n",
              "      <th>...</th>\n",
              "      <th>availability_365</th>\n",
              "      <th>number_of_reviews</th>\n",
              "      <th>review_scores_rating</th>\n",
              "      <th>review_scores_accuracy</th>\n",
              "      <th>review_scores_cleanliness</th>\n",
              "      <th>review_scores_checkin</th>\n",
              "      <th>review_scores_communication</th>\n",
              "      <th>review_scores_location</th>\n",
              "      <th>review_scores_value</th>\n",
              "      <th>instant_bookable</th>\n",
              "    </tr>\n",
              "  </thead>\n",
              "  <tbody>\n",
              "    <tr>\n",
              "      <th>0</th>\n",
              "      <td>9630344</td>\n",
              "      <td>NaN</td>\n",
              "      <td>NaN</td>\n",
              "      <td>f</td>\n",
              "      <td>Brooklyn</td>\n",
              "      <td>40.68457</td>\n",
              "      <td>-73.91181</td>\n",
              "      <td>Private room</td>\n",
              "      <td>1</td>\n",
              "      <td>1 shared bath</td>\n",
              "      <td>...</td>\n",
              "      <td>364</td>\n",
              "      <td>5</td>\n",
              "      <td>4.8</td>\n",
              "      <td>4.6</td>\n",
              "      <td>5.0</td>\n",
              "      <td>5.0</td>\n",
              "      <td>5.0</td>\n",
              "      <td>4.8</td>\n",
              "      <td>5.0</td>\n",
              "      <td>f</td>\n",
              "    </tr>\n",
              "    <tr>\n",
              "      <th>1</th>\n",
              "      <td>3533741</td>\n",
              "      <td>NaN</td>\n",
              "      <td>NaN</td>\n",
              "      <td>f</td>\n",
              "      <td>Manhattan</td>\n",
              "      <td>40.76878</td>\n",
              "      <td>-73.98719</td>\n",
              "      <td>Private room</td>\n",
              "      <td>2</td>\n",
              "      <td>1 bath</td>\n",
              "      <td>...</td>\n",
              "      <td>0</td>\n",
              "      <td>0</td>\n",
              "      <td>NaN</td>\n",
              "      <td>NaN</td>\n",
              "      <td>NaN</td>\n",
              "      <td>NaN</td>\n",
              "      <td>NaN</td>\n",
              "      <td>NaN</td>\n",
              "      <td>NaN</td>\n",
              "      <td>f</td>\n",
              "    </tr>\n",
              "    <tr>\n",
              "      <th>2</th>\n",
              "      <td>9731039</td>\n",
              "      <td>NaN</td>\n",
              "      <td>NaN</td>\n",
              "      <td>f</td>\n",
              "      <td>Queens</td>\n",
              "      <td>40.74343</td>\n",
              "      <td>-73.91865</td>\n",
              "      <td>Entire home/apt</td>\n",
              "      <td>1</td>\n",
              "      <td>1 bath</td>\n",
              "      <td>...</td>\n",
              "      <td>0</td>\n",
              "      <td>0</td>\n",
              "      <td>NaN</td>\n",
              "      <td>NaN</td>\n",
              "      <td>NaN</td>\n",
              "      <td>NaN</td>\n",
              "      <td>NaN</td>\n",
              "      <td>NaN</td>\n",
              "      <td>NaN</td>\n",
              "      <td>f</td>\n",
              "    </tr>\n",
              "  </tbody>\n",
              "</table>\n",
              "<p>3 rows × 25 columns</p>\n",
              "</div>\n",
              "    <div class=\"colab-df-buttons\">\n",
              "\n",
              "  <div class=\"colab-df-container\">\n",
              "    <button class=\"colab-df-convert\" onclick=\"convertToInteractive('df-f73f695d-eb67-4d37-bc0f-28822e0574f8')\"\n",
              "            title=\"Convert this dataframe to an interactive table.\"\n",
              "            style=\"display:none;\">\n",
              "\n",
              "  <svg xmlns=\"http://www.w3.org/2000/svg\" height=\"24px\" viewBox=\"0 -960 960 960\">\n",
              "    <path d=\"M120-120v-720h720v720H120Zm60-500h600v-160H180v160Zm220 220h160v-160H400v160Zm0 220h160v-160H400v160ZM180-400h160v-160H180v160Zm440 0h160v-160H620v160ZM180-180h160v-160H180v160Zm440 0h160v-160H620v160Z\"/>\n",
              "  </svg>\n",
              "    </button>\n",
              "\n",
              "  <style>\n",
              "    .colab-df-container {\n",
              "      display:flex;\n",
              "      gap: 12px;\n",
              "    }\n",
              "\n",
              "    .colab-df-convert {\n",
              "      background-color: #E8F0FE;\n",
              "      border: none;\n",
              "      border-radius: 50%;\n",
              "      cursor: pointer;\n",
              "      display: none;\n",
              "      fill: #1967D2;\n",
              "      height: 32px;\n",
              "      padding: 0 0 0 0;\n",
              "      width: 32px;\n",
              "    }\n",
              "\n",
              "    .colab-df-convert:hover {\n",
              "      background-color: #E2EBFA;\n",
              "      box-shadow: 0px 1px 2px rgba(60, 64, 67, 0.3), 0px 1px 3px 1px rgba(60, 64, 67, 0.15);\n",
              "      fill: #174EA6;\n",
              "    }\n",
              "\n",
              "    .colab-df-buttons div {\n",
              "      margin-bottom: 4px;\n",
              "    }\n",
              "\n",
              "    [theme=dark] .colab-df-convert {\n",
              "      background-color: #3B4455;\n",
              "      fill: #D2E3FC;\n",
              "    }\n",
              "\n",
              "    [theme=dark] .colab-df-convert:hover {\n",
              "      background-color: #434B5C;\n",
              "      box-shadow: 0px 1px 3px 1px rgba(0, 0, 0, 0.15);\n",
              "      filter: drop-shadow(0px 1px 2px rgba(0, 0, 0, 0.3));\n",
              "      fill: #FFFFFF;\n",
              "    }\n",
              "  </style>\n",
              "\n",
              "    <script>\n",
              "      const buttonEl =\n",
              "        document.querySelector('#df-f73f695d-eb67-4d37-bc0f-28822e0574f8 button.colab-df-convert');\n",
              "      buttonEl.style.display =\n",
              "        google.colab.kernel.accessAllowed ? 'block' : 'none';\n",
              "\n",
              "      async function convertToInteractive(key) {\n",
              "        const element = document.querySelector('#df-f73f695d-eb67-4d37-bc0f-28822e0574f8');\n",
              "        const dataTable =\n",
              "          await google.colab.kernel.invokeFunction('convertToInteractive',\n",
              "                                                    [key], {});\n",
              "        if (!dataTable) return;\n",
              "\n",
              "        const docLinkHtml = 'Like what you see? Visit the ' +\n",
              "          '<a target=\"_blank\" href=https://colab.research.google.com/notebooks/data_table.ipynb>data table notebook</a>'\n",
              "          + ' to learn more about interactive tables.';\n",
              "        element.innerHTML = '';\n",
              "        dataTable['output_type'] = 'display_data';\n",
              "        await google.colab.output.renderOutput(dataTable, element);\n",
              "        const docLink = document.createElement('div');\n",
              "        docLink.innerHTML = docLinkHtml;\n",
              "        element.appendChild(docLink);\n",
              "      }\n",
              "    </script>\n",
              "  </div>\n",
              "\n",
              "\n",
              "<div id=\"df-565f2ce1-a55c-4028-b804-600480b4ac80\">\n",
              "  <button class=\"colab-df-quickchart\" onclick=\"quickchart('df-565f2ce1-a55c-4028-b804-600480b4ac80')\"\n",
              "            title=\"Suggest charts\"\n",
              "            style=\"display:none;\">\n",
              "\n",
              "<svg xmlns=\"http://www.w3.org/2000/svg\" height=\"24px\"viewBox=\"0 0 24 24\"\n",
              "     width=\"24px\">\n",
              "    <g>\n",
              "        <path d=\"M19 3H5c-1.1 0-2 .9-2 2v14c0 1.1.9 2 2 2h14c1.1 0 2-.9 2-2V5c0-1.1-.9-2-2-2zM9 17H7v-7h2v7zm4 0h-2V7h2v10zm4 0h-2v-4h2v4z\"/>\n",
              "    </g>\n",
              "</svg>\n",
              "  </button>\n",
              "\n",
              "<style>\n",
              "  .colab-df-quickchart {\n",
              "      --bg-color: #E8F0FE;\n",
              "      --fill-color: #1967D2;\n",
              "      --hover-bg-color: #E2EBFA;\n",
              "      --hover-fill-color: #174EA6;\n",
              "      --disabled-fill-color: #AAA;\n",
              "      --disabled-bg-color: #DDD;\n",
              "  }\n",
              "\n",
              "  [theme=dark] .colab-df-quickchart {\n",
              "      --bg-color: #3B4455;\n",
              "      --fill-color: #D2E3FC;\n",
              "      --hover-bg-color: #434B5C;\n",
              "      --hover-fill-color: #FFFFFF;\n",
              "      --disabled-bg-color: #3B4455;\n",
              "      --disabled-fill-color: #666;\n",
              "  }\n",
              "\n",
              "  .colab-df-quickchart {\n",
              "    background-color: var(--bg-color);\n",
              "    border: none;\n",
              "    border-radius: 50%;\n",
              "    cursor: pointer;\n",
              "    display: none;\n",
              "    fill: var(--fill-color);\n",
              "    height: 32px;\n",
              "    padding: 0;\n",
              "    width: 32px;\n",
              "  }\n",
              "\n",
              "  .colab-df-quickchart:hover {\n",
              "    background-color: var(--hover-bg-color);\n",
              "    box-shadow: 0 1px 2px rgba(60, 64, 67, 0.3), 0 1px 3px 1px rgba(60, 64, 67, 0.15);\n",
              "    fill: var(--button-hover-fill-color);\n",
              "  }\n",
              "\n",
              "  .colab-df-quickchart-complete:disabled,\n",
              "  .colab-df-quickchart-complete:disabled:hover {\n",
              "    background-color: var(--disabled-bg-color);\n",
              "    fill: var(--disabled-fill-color);\n",
              "    box-shadow: none;\n",
              "  }\n",
              "\n",
              "  .colab-df-spinner {\n",
              "    border: 2px solid var(--fill-color);\n",
              "    border-color: transparent;\n",
              "    border-bottom-color: var(--fill-color);\n",
              "    animation:\n",
              "      spin 1s steps(1) infinite;\n",
              "  }\n",
              "\n",
              "  @keyframes spin {\n",
              "    0% {\n",
              "      border-color: transparent;\n",
              "      border-bottom-color: var(--fill-color);\n",
              "      border-left-color: var(--fill-color);\n",
              "    }\n",
              "    20% {\n",
              "      border-color: transparent;\n",
              "      border-left-color: var(--fill-color);\n",
              "      border-top-color: var(--fill-color);\n",
              "    }\n",
              "    30% {\n",
              "      border-color: transparent;\n",
              "      border-left-color: var(--fill-color);\n",
              "      border-top-color: var(--fill-color);\n",
              "      border-right-color: var(--fill-color);\n",
              "    }\n",
              "    40% {\n",
              "      border-color: transparent;\n",
              "      border-right-color: var(--fill-color);\n",
              "      border-top-color: var(--fill-color);\n",
              "    }\n",
              "    60% {\n",
              "      border-color: transparent;\n",
              "      border-right-color: var(--fill-color);\n",
              "    }\n",
              "    80% {\n",
              "      border-color: transparent;\n",
              "      border-right-color: var(--fill-color);\n",
              "      border-bottom-color: var(--fill-color);\n",
              "    }\n",
              "    90% {\n",
              "      border-color: transparent;\n",
              "      border-bottom-color: var(--fill-color);\n",
              "    }\n",
              "  }\n",
              "</style>\n",
              "\n",
              "  <script>\n",
              "    async function quickchart(key) {\n",
              "      const quickchartButtonEl =\n",
              "        document.querySelector('#' + key + ' button');\n",
              "      quickchartButtonEl.disabled = true;  // To prevent multiple clicks.\n",
              "      quickchartButtonEl.classList.add('colab-df-spinner');\n",
              "      try {\n",
              "        const charts = await google.colab.kernel.invokeFunction(\n",
              "            'suggestCharts', [key], {});\n",
              "      } catch (error) {\n",
              "        console.error('Error during call to suggestCharts:', error);\n",
              "      }\n",
              "      quickchartButtonEl.classList.remove('colab-df-spinner');\n",
              "      quickchartButtonEl.classList.add('colab-df-quickchart-complete');\n",
              "    }\n",
              "    (() => {\n",
              "      let quickchartButtonEl =\n",
              "        document.querySelector('#df-565f2ce1-a55c-4028-b804-600480b4ac80 button');\n",
              "      quickchartButtonEl.style.display =\n",
              "        google.colab.kernel.accessAllowed ? 'block' : 'none';\n",
              "    })();\n",
              "  </script>\n",
              "</div>\n",
              "    </div>\n",
              "  </div>\n"
            ]
          },
          "metadata": {},
          "execution_count": 57
        }
      ]
    },
    {
      "cell_type": "code",
      "source": [
        "delete_columns_data.info()"
      ],
      "metadata": {
        "colab": {
          "base_uri": "https://localhost:8080/"
        },
        "id": "3W9-_qtQslBI",
        "outputId": "e8a02de3-5fe1-49a5-dc60-222d636b3b44"
      },
      "execution_count": 58,
      "outputs": [
        {
          "output_type": "stream",
          "name": "stdout",
          "text": [
            "<class 'pandas.core.frame.DataFrame'>\n",
            "RangeIndex: 38792 entries, 0 to 38791\n",
            "Data columns (total 25 columns):\n",
            " #   Column                        Non-Null Count  Dtype  \n",
            "---  ------                        --------------  -----  \n",
            " 0   id                            38792 non-null  int64  \n",
            " 1   host_response_time            25618 non-null  object \n",
            " 2   host_response_rate            25618 non-null  object \n",
            " 3   host_is_superhost             38537 non-null  object \n",
            " 4   neighbourhood_group_cleansed  38792 non-null  object \n",
            " 5   latitude                      38792 non-null  float64\n",
            " 6   longitude                     38792 non-null  float64\n",
            " 7   room_type                     38792 non-null  object \n",
            " 8   accommodates                  38792 non-null  int64  \n",
            " 9   bathrooms_text                38750 non-null  object \n",
            " 10  bedrooms                      21892 non-null  float64\n",
            " 11  beds                          38129 non-null  float64\n",
            " 12  amenities                     38792 non-null  object \n",
            " 13  price                         38792 non-null  object \n",
            " 14  availability_90               38792 non-null  int64  \n",
            " 15  availability_365              38792 non-null  int64  \n",
            " 16  number_of_reviews             38792 non-null  int64  \n",
            " 17  review_scores_rating          28445 non-null  float64\n",
            " 18  review_scores_accuracy        28030 non-null  float64\n",
            " 19  review_scores_cleanliness     28040 non-null  float64\n",
            " 20  review_scores_checkin         28026 non-null  float64\n",
            " 21  review_scores_communication   28034 non-null  float64\n",
            " 22  review_scores_location        28023 non-null  float64\n",
            " 23  review_scores_value           28024 non-null  float64\n",
            " 24  instant_bookable              38792 non-null  object \n",
            "dtypes: float64(11), int64(5), object(9)\n",
            "memory usage: 7.4+ MB\n"
          ]
        }
      ]
    },
    {
      "cell_type": "code",
      "source": [
        "#ID 변수인 id값의 중복 여부 체크\n",
        "n = len(pd.unique(delete_columns_data['id']))\n",
        "print(n)"
      ],
      "metadata": {
        "colab": {
          "base_uri": "https://localhost:8080/"
        },
        "id": "EVwhsw4pw5vM",
        "outputId": "f1dd7ce8-bc4c-4a68-a345-19d20b792d10"
      },
      "execution_count": 59,
      "outputs": [
        {
          "output_type": "stream",
          "name": "stdout",
          "text": [
            "38792\n"
          ]
        }
      ]
    },
    {
      "cell_type": "code",
      "source": [
        "#구간 변수 : host_response_rate, latitude , longitude , accommodates, bedrooms, beds, availability_90, availability_365, number_of_reviews, amenities\n",
        "#구간 변수 : review_scores_rating, review_scores_accuracy, review_scores_cleanliness, review_scores_checkin, review_scores_communication, review_scores_location, review_scores_value (17개)\n",
        "\n",
        "#host_response_rate을 numeric으로 변환\n",
        "delete_columns_data['host_response_rate'] = delete_columns_data['host_response_rate'].str.replace('%', '').astype(float)\n",
        "\n",
        "\n",
        "#amenities변수를 개수로 변환\n",
        "delete_columns_data['amenities'] = delete_columns_data['amenities'].apply(lambda x: x.count(','))\n",
        "delete_columns_data['amenities'].astype(int)\n",
        "delete_columns_data['amenities'] = delete_columns_data['amenities'] + 1\n",
        "\n",
        "delete_columns_data.info()"
      ],
      "metadata": {
        "colab": {
          "base_uri": "https://localhost:8080/"
        },
        "id": "8Esd34_Tx26j",
        "outputId": "90a81827-5214-4d33-c96d-690d9e9e44dc"
      },
      "execution_count": 60,
      "outputs": [
        {
          "output_type": "stream",
          "name": "stdout",
          "text": [
            "<class 'pandas.core.frame.DataFrame'>\n",
            "RangeIndex: 38792 entries, 0 to 38791\n",
            "Data columns (total 25 columns):\n",
            " #   Column                        Non-Null Count  Dtype  \n",
            "---  ------                        --------------  -----  \n",
            " 0   id                            38792 non-null  int64  \n",
            " 1   host_response_time            25618 non-null  object \n",
            " 2   host_response_rate            25618 non-null  float64\n",
            " 3   host_is_superhost             38537 non-null  object \n",
            " 4   neighbourhood_group_cleansed  38792 non-null  object \n",
            " 5   latitude                      38792 non-null  float64\n",
            " 6   longitude                     38792 non-null  float64\n",
            " 7   room_type                     38792 non-null  object \n",
            " 8   accommodates                  38792 non-null  int64  \n",
            " 9   bathrooms_text                38750 non-null  object \n",
            " 10  bedrooms                      21892 non-null  float64\n",
            " 11  beds                          38129 non-null  float64\n",
            " 12  amenities                     38792 non-null  int64  \n",
            " 13  price                         38792 non-null  object \n",
            " 14  availability_90               38792 non-null  int64  \n",
            " 15  availability_365              38792 non-null  int64  \n",
            " 16  number_of_reviews             38792 non-null  int64  \n",
            " 17  review_scores_rating          28445 non-null  float64\n",
            " 18  review_scores_accuracy        28030 non-null  float64\n",
            " 19  review_scores_cleanliness     28040 non-null  float64\n",
            " 20  review_scores_checkin         28026 non-null  float64\n",
            " 21  review_scores_communication   28034 non-null  float64\n",
            " 22  review_scores_location        28023 non-null  float64\n",
            " 23  review_scores_value           28024 non-null  float64\n",
            " 24  instant_bookable              38792 non-null  object \n",
            "dtypes: float64(12), int64(6), object(7)\n",
            "memory usage: 7.4+ MB\n"
          ]
        }
      ]
    },
    {
      "cell_type": "code",
      "source": [
        "delete_columns_data.head(3)"
      ],
      "metadata": {
        "colab": {
          "base_uri": "https://localhost:8080/",
          "height": 245
        },
        "id": "dTfHkClCQZNr",
        "outputId": "673c1f75-2111-41e4-b9ab-526e9e16c702"
      },
      "execution_count": 61,
      "outputs": [
        {
          "output_type": "execute_result",
          "data": {
            "text/plain": [
              "        id host_response_time  host_response_rate host_is_superhost  \\\n",
              "0  9630344                NaN                 NaN                 f   \n",
              "1  3533741                NaN                 NaN                 f   \n",
              "2  9731039                NaN                 NaN                 f   \n",
              "\n",
              "  neighbourhood_group_cleansed  latitude  longitude        room_type  \\\n",
              "0                     Brooklyn  40.68457  -73.91181     Private room   \n",
              "1                    Manhattan  40.76878  -73.98719     Private room   \n",
              "2                       Queens  40.74343  -73.91865  Entire home/apt   \n",
              "\n",
              "   accommodates bathrooms_text  ...  availability_365  number_of_reviews  \\\n",
              "0             1  1 shared bath  ...               364                  5   \n",
              "1             2         1 bath  ...                 0                  0   \n",
              "2             1         1 bath  ...                 0                  0   \n",
              "\n",
              "   review_scores_rating review_scores_accuracy  review_scores_cleanliness  \\\n",
              "0                   4.8                    4.6                        5.0   \n",
              "1                   NaN                    NaN                        NaN   \n",
              "2                   NaN                    NaN                        NaN   \n",
              "\n",
              "   review_scores_checkin  review_scores_communication  review_scores_location  \\\n",
              "0                    5.0                          5.0                     4.8   \n",
              "1                    NaN                          NaN                     NaN   \n",
              "2                    NaN                          NaN                     NaN   \n",
              "\n",
              "   review_scores_value  instant_bookable  \n",
              "0                  5.0                 f  \n",
              "1                  NaN                 f  \n",
              "2                  NaN                 f  \n",
              "\n",
              "[3 rows x 25 columns]"
            ],
            "text/html": [
              "\n",
              "  <div id=\"df-3e198f81-30ea-435a-b0f4-e071df4b32cc\" class=\"colab-df-container\">\n",
              "    <div>\n",
              "<style scoped>\n",
              "    .dataframe tbody tr th:only-of-type {\n",
              "        vertical-align: middle;\n",
              "    }\n",
              "\n",
              "    .dataframe tbody tr th {\n",
              "        vertical-align: top;\n",
              "    }\n",
              "\n",
              "    .dataframe thead th {\n",
              "        text-align: right;\n",
              "    }\n",
              "</style>\n",
              "<table border=\"1\" class=\"dataframe\">\n",
              "  <thead>\n",
              "    <tr style=\"text-align: right;\">\n",
              "      <th></th>\n",
              "      <th>id</th>\n",
              "      <th>host_response_time</th>\n",
              "      <th>host_response_rate</th>\n",
              "      <th>host_is_superhost</th>\n",
              "      <th>neighbourhood_group_cleansed</th>\n",
              "      <th>latitude</th>\n",
              "      <th>longitude</th>\n",
              "      <th>room_type</th>\n",
              "      <th>accommodates</th>\n",
              "      <th>bathrooms_text</th>\n",
              "      <th>...</th>\n",
              "      <th>availability_365</th>\n",
              "      <th>number_of_reviews</th>\n",
              "      <th>review_scores_rating</th>\n",
              "      <th>review_scores_accuracy</th>\n",
              "      <th>review_scores_cleanliness</th>\n",
              "      <th>review_scores_checkin</th>\n",
              "      <th>review_scores_communication</th>\n",
              "      <th>review_scores_location</th>\n",
              "      <th>review_scores_value</th>\n",
              "      <th>instant_bookable</th>\n",
              "    </tr>\n",
              "  </thead>\n",
              "  <tbody>\n",
              "    <tr>\n",
              "      <th>0</th>\n",
              "      <td>9630344</td>\n",
              "      <td>NaN</td>\n",
              "      <td>NaN</td>\n",
              "      <td>f</td>\n",
              "      <td>Brooklyn</td>\n",
              "      <td>40.68457</td>\n",
              "      <td>-73.91181</td>\n",
              "      <td>Private room</td>\n",
              "      <td>1</td>\n",
              "      <td>1 shared bath</td>\n",
              "      <td>...</td>\n",
              "      <td>364</td>\n",
              "      <td>5</td>\n",
              "      <td>4.8</td>\n",
              "      <td>4.6</td>\n",
              "      <td>5.0</td>\n",
              "      <td>5.0</td>\n",
              "      <td>5.0</td>\n",
              "      <td>4.8</td>\n",
              "      <td>5.0</td>\n",
              "      <td>f</td>\n",
              "    </tr>\n",
              "    <tr>\n",
              "      <th>1</th>\n",
              "      <td>3533741</td>\n",
              "      <td>NaN</td>\n",
              "      <td>NaN</td>\n",
              "      <td>f</td>\n",
              "      <td>Manhattan</td>\n",
              "      <td>40.76878</td>\n",
              "      <td>-73.98719</td>\n",
              "      <td>Private room</td>\n",
              "      <td>2</td>\n",
              "      <td>1 bath</td>\n",
              "      <td>...</td>\n",
              "      <td>0</td>\n",
              "      <td>0</td>\n",
              "      <td>NaN</td>\n",
              "      <td>NaN</td>\n",
              "      <td>NaN</td>\n",
              "      <td>NaN</td>\n",
              "      <td>NaN</td>\n",
              "      <td>NaN</td>\n",
              "      <td>NaN</td>\n",
              "      <td>f</td>\n",
              "    </tr>\n",
              "    <tr>\n",
              "      <th>2</th>\n",
              "      <td>9731039</td>\n",
              "      <td>NaN</td>\n",
              "      <td>NaN</td>\n",
              "      <td>f</td>\n",
              "      <td>Queens</td>\n",
              "      <td>40.74343</td>\n",
              "      <td>-73.91865</td>\n",
              "      <td>Entire home/apt</td>\n",
              "      <td>1</td>\n",
              "      <td>1 bath</td>\n",
              "      <td>...</td>\n",
              "      <td>0</td>\n",
              "      <td>0</td>\n",
              "      <td>NaN</td>\n",
              "      <td>NaN</td>\n",
              "      <td>NaN</td>\n",
              "      <td>NaN</td>\n",
              "      <td>NaN</td>\n",
              "      <td>NaN</td>\n",
              "      <td>NaN</td>\n",
              "      <td>f</td>\n",
              "    </tr>\n",
              "  </tbody>\n",
              "</table>\n",
              "<p>3 rows × 25 columns</p>\n",
              "</div>\n",
              "    <div class=\"colab-df-buttons\">\n",
              "\n",
              "  <div class=\"colab-df-container\">\n",
              "    <button class=\"colab-df-convert\" onclick=\"convertToInteractive('df-3e198f81-30ea-435a-b0f4-e071df4b32cc')\"\n",
              "            title=\"Convert this dataframe to an interactive table.\"\n",
              "            style=\"display:none;\">\n",
              "\n",
              "  <svg xmlns=\"http://www.w3.org/2000/svg\" height=\"24px\" viewBox=\"0 -960 960 960\">\n",
              "    <path d=\"M120-120v-720h720v720H120Zm60-500h600v-160H180v160Zm220 220h160v-160H400v160Zm0 220h160v-160H400v160ZM180-400h160v-160H180v160Zm440 0h160v-160H620v160ZM180-180h160v-160H180v160Zm440 0h160v-160H620v160Z\"/>\n",
              "  </svg>\n",
              "    </button>\n",
              "\n",
              "  <style>\n",
              "    .colab-df-container {\n",
              "      display:flex;\n",
              "      gap: 12px;\n",
              "    }\n",
              "\n",
              "    .colab-df-convert {\n",
              "      background-color: #E8F0FE;\n",
              "      border: none;\n",
              "      border-radius: 50%;\n",
              "      cursor: pointer;\n",
              "      display: none;\n",
              "      fill: #1967D2;\n",
              "      height: 32px;\n",
              "      padding: 0 0 0 0;\n",
              "      width: 32px;\n",
              "    }\n",
              "\n",
              "    .colab-df-convert:hover {\n",
              "      background-color: #E2EBFA;\n",
              "      box-shadow: 0px 1px 2px rgba(60, 64, 67, 0.3), 0px 1px 3px 1px rgba(60, 64, 67, 0.15);\n",
              "      fill: #174EA6;\n",
              "    }\n",
              "\n",
              "    .colab-df-buttons div {\n",
              "      margin-bottom: 4px;\n",
              "    }\n",
              "\n",
              "    [theme=dark] .colab-df-convert {\n",
              "      background-color: #3B4455;\n",
              "      fill: #D2E3FC;\n",
              "    }\n",
              "\n",
              "    [theme=dark] .colab-df-convert:hover {\n",
              "      background-color: #434B5C;\n",
              "      box-shadow: 0px 1px 3px 1px rgba(0, 0, 0, 0.15);\n",
              "      filter: drop-shadow(0px 1px 2px rgba(0, 0, 0, 0.3));\n",
              "      fill: #FFFFFF;\n",
              "    }\n",
              "  </style>\n",
              "\n",
              "    <script>\n",
              "      const buttonEl =\n",
              "        document.querySelector('#df-3e198f81-30ea-435a-b0f4-e071df4b32cc button.colab-df-convert');\n",
              "      buttonEl.style.display =\n",
              "        google.colab.kernel.accessAllowed ? 'block' : 'none';\n",
              "\n",
              "      async function convertToInteractive(key) {\n",
              "        const element = document.querySelector('#df-3e198f81-30ea-435a-b0f4-e071df4b32cc');\n",
              "        const dataTable =\n",
              "          await google.colab.kernel.invokeFunction('convertToInteractive',\n",
              "                                                    [key], {});\n",
              "        if (!dataTable) return;\n",
              "\n",
              "        const docLinkHtml = 'Like what you see? Visit the ' +\n",
              "          '<a target=\"_blank\" href=https://colab.research.google.com/notebooks/data_table.ipynb>data table notebook</a>'\n",
              "          + ' to learn more about interactive tables.';\n",
              "        element.innerHTML = '';\n",
              "        dataTable['output_type'] = 'display_data';\n",
              "        await google.colab.output.renderOutput(dataTable, element);\n",
              "        const docLink = document.createElement('div');\n",
              "        docLink.innerHTML = docLinkHtml;\n",
              "        element.appendChild(docLink);\n",
              "      }\n",
              "    </script>\n",
              "  </div>\n",
              "\n",
              "\n",
              "<div id=\"df-24d87e19-a71f-488e-bab9-0d07c07134d9\">\n",
              "  <button class=\"colab-df-quickchart\" onclick=\"quickchart('df-24d87e19-a71f-488e-bab9-0d07c07134d9')\"\n",
              "            title=\"Suggest charts\"\n",
              "            style=\"display:none;\">\n",
              "\n",
              "<svg xmlns=\"http://www.w3.org/2000/svg\" height=\"24px\"viewBox=\"0 0 24 24\"\n",
              "     width=\"24px\">\n",
              "    <g>\n",
              "        <path d=\"M19 3H5c-1.1 0-2 .9-2 2v14c0 1.1.9 2 2 2h14c1.1 0 2-.9 2-2V5c0-1.1-.9-2-2-2zM9 17H7v-7h2v7zm4 0h-2V7h2v10zm4 0h-2v-4h2v4z\"/>\n",
              "    </g>\n",
              "</svg>\n",
              "  </button>\n",
              "\n",
              "<style>\n",
              "  .colab-df-quickchart {\n",
              "      --bg-color: #E8F0FE;\n",
              "      --fill-color: #1967D2;\n",
              "      --hover-bg-color: #E2EBFA;\n",
              "      --hover-fill-color: #174EA6;\n",
              "      --disabled-fill-color: #AAA;\n",
              "      --disabled-bg-color: #DDD;\n",
              "  }\n",
              "\n",
              "  [theme=dark] .colab-df-quickchart {\n",
              "      --bg-color: #3B4455;\n",
              "      --fill-color: #D2E3FC;\n",
              "      --hover-bg-color: #434B5C;\n",
              "      --hover-fill-color: #FFFFFF;\n",
              "      --disabled-bg-color: #3B4455;\n",
              "      --disabled-fill-color: #666;\n",
              "  }\n",
              "\n",
              "  .colab-df-quickchart {\n",
              "    background-color: var(--bg-color);\n",
              "    border: none;\n",
              "    border-radius: 50%;\n",
              "    cursor: pointer;\n",
              "    display: none;\n",
              "    fill: var(--fill-color);\n",
              "    height: 32px;\n",
              "    padding: 0;\n",
              "    width: 32px;\n",
              "  }\n",
              "\n",
              "  .colab-df-quickchart:hover {\n",
              "    background-color: var(--hover-bg-color);\n",
              "    box-shadow: 0 1px 2px rgba(60, 64, 67, 0.3), 0 1px 3px 1px rgba(60, 64, 67, 0.15);\n",
              "    fill: var(--button-hover-fill-color);\n",
              "  }\n",
              "\n",
              "  .colab-df-quickchart-complete:disabled,\n",
              "  .colab-df-quickchart-complete:disabled:hover {\n",
              "    background-color: var(--disabled-bg-color);\n",
              "    fill: var(--disabled-fill-color);\n",
              "    box-shadow: none;\n",
              "  }\n",
              "\n",
              "  .colab-df-spinner {\n",
              "    border: 2px solid var(--fill-color);\n",
              "    border-color: transparent;\n",
              "    border-bottom-color: var(--fill-color);\n",
              "    animation:\n",
              "      spin 1s steps(1) infinite;\n",
              "  }\n",
              "\n",
              "  @keyframes spin {\n",
              "    0% {\n",
              "      border-color: transparent;\n",
              "      border-bottom-color: var(--fill-color);\n",
              "      border-left-color: var(--fill-color);\n",
              "    }\n",
              "    20% {\n",
              "      border-color: transparent;\n",
              "      border-left-color: var(--fill-color);\n",
              "      border-top-color: var(--fill-color);\n",
              "    }\n",
              "    30% {\n",
              "      border-color: transparent;\n",
              "      border-left-color: var(--fill-color);\n",
              "      border-top-color: var(--fill-color);\n",
              "      border-right-color: var(--fill-color);\n",
              "    }\n",
              "    40% {\n",
              "      border-color: transparent;\n",
              "      border-right-color: var(--fill-color);\n",
              "      border-top-color: var(--fill-color);\n",
              "    }\n",
              "    60% {\n",
              "      border-color: transparent;\n",
              "      border-right-color: var(--fill-color);\n",
              "    }\n",
              "    80% {\n",
              "      border-color: transparent;\n",
              "      border-right-color: var(--fill-color);\n",
              "      border-bottom-color: var(--fill-color);\n",
              "    }\n",
              "    90% {\n",
              "      border-color: transparent;\n",
              "      border-bottom-color: var(--fill-color);\n",
              "    }\n",
              "  }\n",
              "</style>\n",
              "\n",
              "  <script>\n",
              "    async function quickchart(key) {\n",
              "      const quickchartButtonEl =\n",
              "        document.querySelector('#' + key + ' button');\n",
              "      quickchartButtonEl.disabled = true;  // To prevent multiple clicks.\n",
              "      quickchartButtonEl.classList.add('colab-df-spinner');\n",
              "      try {\n",
              "        const charts = await google.colab.kernel.invokeFunction(\n",
              "            'suggestCharts', [key], {});\n",
              "      } catch (error) {\n",
              "        console.error('Error during call to suggestCharts:', error);\n",
              "      }\n",
              "      quickchartButtonEl.classList.remove('colab-df-spinner');\n",
              "      quickchartButtonEl.classList.add('colab-df-quickchart-complete');\n",
              "    }\n",
              "    (() => {\n",
              "      let quickchartButtonEl =\n",
              "        document.querySelector('#df-24d87e19-a71f-488e-bab9-0d07c07134d9 button');\n",
              "      quickchartButtonEl.style.display =\n",
              "        google.colab.kernel.accessAllowed ? 'block' : 'none';\n",
              "    })();\n",
              "  </script>\n",
              "</div>\n",
              "    </div>\n",
              "  </div>\n"
            ]
          },
          "metadata": {},
          "execution_count": 61
        }
      ]
    },
    {
      "cell_type": "code",
      "source": [
        "#구간 변수 결측값 평균으로 대체\n",
        "#host_response_rate\n",
        "mean_host_response_rate = delete_columns_data['host_response_rate'].mean()\n",
        "delete_columns_data['host_response_rate'].fillna(mean_host_response_rate, inplace=True)\n",
        "\n",
        "#bedrooms\n",
        "mean_bedrooms = delete_columns_data['bedrooms'].mean()\n",
        "delete_columns_data['bedrooms'].fillna(mean_bedrooms, inplace=True)\n",
        "\n",
        "#beds\n",
        "mean_beds = delete_columns_data['beds'].mean()\n",
        "delete_columns_data['beds'].fillna(mean_beds, inplace=True)\n",
        "\n",
        "#beds\n",
        "mean_beds = delete_columns_data['beds'].mean()\n",
        "delete_columns_data['beds'].fillna(mean_beds, inplace=True)\n",
        "\n",
        "#review_scores_rating\n",
        "mean_review_scores_rating = delete_columns_data['review_scores_rating'].mean()\n",
        "delete_columns_data['review_scores_rating'].fillna(mean_review_scores_rating, inplace=True)\n",
        "\n",
        "#review_scores_accuracy\n",
        "mean_review_scores_accuracy = delete_columns_data['review_scores_accuracy'].mean()\n",
        "delete_columns_data['review_scores_accuracy'].fillna(mean_review_scores_accuracy, inplace=True)\n",
        "\n",
        "#review_scores_cleanliness\n",
        "mean_review_scores_cleanliness = delete_columns_data['review_scores_cleanliness'].mean()\n",
        "delete_columns_data['review_scores_cleanliness'].fillna(mean_review_scores_cleanliness, inplace=True)\n",
        "\n",
        "#review_scores_checkin\n",
        "mean_review_scores_checkin = delete_columns_data['review_scores_checkin'].mean()\n",
        "delete_columns_data['review_scores_checkin'].fillna(mean_review_scores_checkin, inplace=True)\n",
        "\n",
        "#review_scores_communication\n",
        "mean_review_scores_communication = delete_columns_data['review_scores_communication'].mean()\n",
        "delete_columns_data['review_scores_communication'].fillna(mean_review_scores_communication, inplace=True)\n",
        "\n",
        "#review_scores_location\n",
        "mean_review_scores_location = delete_columns_data['review_scores_location'].mean()\n",
        "delete_columns_data['review_scores_location'].fillna(mean_review_scores_location, inplace=True)\n",
        "\n",
        "#review_scores_value\n",
        "mean_review_scores_value = delete_columns_data['review_scores_value'].mean()\n",
        "delete_columns_data['review_scores_value'].fillna(mean_review_scores_value, inplace=True)\n",
        "\n",
        "delete_columns_data.info()"
      ],
      "metadata": {
        "colab": {
          "base_uri": "https://localhost:8080/"
        },
        "id": "7MmungmnDYeJ",
        "outputId": "7bf9ee5b-f572-4d8a-ac87-9439ed9c88d8"
      },
      "execution_count": 62,
      "outputs": [
        {
          "output_type": "stream",
          "name": "stdout",
          "text": [
            "<class 'pandas.core.frame.DataFrame'>\n",
            "RangeIndex: 38792 entries, 0 to 38791\n",
            "Data columns (total 25 columns):\n",
            " #   Column                        Non-Null Count  Dtype  \n",
            "---  ------                        --------------  -----  \n",
            " 0   id                            38792 non-null  int64  \n",
            " 1   host_response_time            25618 non-null  object \n",
            " 2   host_response_rate            38792 non-null  float64\n",
            " 3   host_is_superhost             38537 non-null  object \n",
            " 4   neighbourhood_group_cleansed  38792 non-null  object \n",
            " 5   latitude                      38792 non-null  float64\n",
            " 6   longitude                     38792 non-null  float64\n",
            " 7   room_type                     38792 non-null  object \n",
            " 8   accommodates                  38792 non-null  int64  \n",
            " 9   bathrooms_text                38750 non-null  object \n",
            " 10  bedrooms                      38792 non-null  float64\n",
            " 11  beds                          38792 non-null  float64\n",
            " 12  amenities                     38792 non-null  int64  \n",
            " 13  price                         38792 non-null  object \n",
            " 14  availability_90               38792 non-null  int64  \n",
            " 15  availability_365              38792 non-null  int64  \n",
            " 16  number_of_reviews             38792 non-null  int64  \n",
            " 17  review_scores_rating          38792 non-null  float64\n",
            " 18  review_scores_accuracy        38792 non-null  float64\n",
            " 19  review_scores_cleanliness     38792 non-null  float64\n",
            " 20  review_scores_checkin         38792 non-null  float64\n",
            " 21  review_scores_communication   38792 non-null  float64\n",
            " 22  review_scores_location        38792 non-null  float64\n",
            " 23  review_scores_value           38792 non-null  float64\n",
            " 24  instant_bookable              38792 non-null  object \n",
            "dtypes: float64(12), int64(6), object(7)\n",
            "memory usage: 7.4+ MB\n"
          ]
        }
      ]
    },
    {
      "cell_type": "code",
      "source": [
        "#범주형 변수 : host_response_time, host_is_superhost, neighbourhood_group_cleansed, room_type, bathrooms_text, instant_bookable, price_B (7개)\n",
        "\n",
        "#host_is_superhost\n",
        "delete_columns_data['host_is_superhost'].fillna('f', inplace=True)\n",
        "\n",
        "#bathrooms_text\n",
        "delete_columns_data = delete_columns_data.dropna(subset=['bathrooms_text'])\n",
        "\n",
        "#host_response_time\n",
        "delete_columns_data['host_response_time'].fillna('a few days or more', inplace=True)"
      ],
      "metadata": {
        "id": "c0hjQgCkfs6v",
        "colab": {
          "base_uri": "https://localhost:8080/"
        },
        "outputId": "88c03a7c-8c6a-4f40-a4e7-4b81cd945c40"
      },
      "execution_count": 63,
      "outputs": [
        {
          "output_type": "stream",
          "name": "stderr",
          "text": [
            "<ipython-input-63-45c77b50c0b5>:10: SettingWithCopyWarning: \n",
            "A value is trying to be set on a copy of a slice from a DataFrame\n",
            "\n",
            "See the caveats in the documentation: https://pandas.pydata.org/pandas-docs/stable/user_guide/indexing.html#returning-a-view-versus-a-copy\n",
            "  delete_columns_data['host_response_time'].fillna('a few days or more', inplace=True)\n"
          ]
        }
      ]
    },
    {
      "cell_type": "code",
      "source": [
        "unique_values = delete_columns_data['bathrooms_text'].unique()\n",
        "print(unique_values)"
      ],
      "metadata": {
        "colab": {
          "base_uri": "https://localhost:8080/"
        },
        "id": "SjCBhsmY-bCW",
        "outputId": "e38a974d-aa47-45c0-ae3c-24c7b3095205"
      },
      "execution_count": 64,
      "outputs": [
        {
          "output_type": "stream",
          "name": "stdout",
          "text": [
            "['1 shared bath' '1 bath' '1 private bath' '2 baths' '2.5 baths'\n",
            " '1.5 baths' '4 shared baths' '2 shared baths' '1.5 shared baths'\n",
            " 'Shared half-bath' 'Half-bath' '3 baths' '3.5 baths' '3 shared baths'\n",
            " '4.5 baths' '4 baths' '0 shared baths' '0 baths' '6.5 baths'\n",
            " '2.5 shared baths' '5 baths' '6 baths' '7 baths' '15.5 baths'\n",
            " 'Private half-bath' '5.5 shared baths' '8 baths' '6 shared baths'\n",
            " '5.5 baths' '4.5 shared baths' '8.5 baths' '3.5 shared baths']\n"
          ]
        }
      ]
    },
    {
      "cell_type": "code",
      "source": [
        "delete_columns_data['bathrooms_text'] = delete_columns_data['bathrooms_text'].str.replace('1 private bath', '1 bath')\n",
        "delete_columns_data['bathrooms_text'] = delete_columns_data['bathrooms_text'].str.replace('Shared half-bath', '0.5 shared bath')\n",
        "delete_columns_data['bathrooms_text'] = delete_columns_data['bathrooms_text'].str.replace('Half-bath', '0.5 bath')\n",
        "delete_columns_data['bathrooms_text'] = delete_columns_data['bathrooms_text'].str.replace('Private half-bath', '0.5 bath')"
      ],
      "metadata": {
        "id": "xdDKJsiSC7Kr",
        "colab": {
          "base_uri": "https://localhost:8080/"
        },
        "outputId": "31bbf127-b0f6-4ac0-ad96-f1343b755c04"
      },
      "execution_count": 65,
      "outputs": [
        {
          "output_type": "stream",
          "name": "stderr",
          "text": [
            "<ipython-input-65-64e3779e9cbb>:1: SettingWithCopyWarning: \n",
            "A value is trying to be set on a copy of a slice from a DataFrame.\n",
            "Try using .loc[row_indexer,col_indexer] = value instead\n",
            "\n",
            "See the caveats in the documentation: https://pandas.pydata.org/pandas-docs/stable/user_guide/indexing.html#returning-a-view-versus-a-copy\n",
            "  delete_columns_data['bathrooms_text'] = delete_columns_data['bathrooms_text'].str.replace('1 private bath', '1 bath')\n",
            "<ipython-input-65-64e3779e9cbb>:2: SettingWithCopyWarning: \n",
            "A value is trying to be set on a copy of a slice from a DataFrame.\n",
            "Try using .loc[row_indexer,col_indexer] = value instead\n",
            "\n",
            "See the caveats in the documentation: https://pandas.pydata.org/pandas-docs/stable/user_guide/indexing.html#returning-a-view-versus-a-copy\n",
            "  delete_columns_data['bathrooms_text'] = delete_columns_data['bathrooms_text'].str.replace('Shared half-bath', '0.5 shared bath')\n",
            "<ipython-input-65-64e3779e9cbb>:3: SettingWithCopyWarning: \n",
            "A value is trying to be set on a copy of a slice from a DataFrame.\n",
            "Try using .loc[row_indexer,col_indexer] = value instead\n",
            "\n",
            "See the caveats in the documentation: https://pandas.pydata.org/pandas-docs/stable/user_guide/indexing.html#returning-a-view-versus-a-copy\n",
            "  delete_columns_data['bathrooms_text'] = delete_columns_data['bathrooms_text'].str.replace('Half-bath', '0.5 bath')\n",
            "<ipython-input-65-64e3779e9cbb>:4: SettingWithCopyWarning: \n",
            "A value is trying to be set on a copy of a slice from a DataFrame.\n",
            "Try using .loc[row_indexer,col_indexer] = value instead\n",
            "\n",
            "See the caveats in the documentation: https://pandas.pydata.org/pandas-docs/stable/user_guide/indexing.html#returning-a-view-versus-a-copy\n",
            "  delete_columns_data['bathrooms_text'] = delete_columns_data['bathrooms_text'].str.replace('Private half-bath', '0.5 bath')\n"
          ]
        }
      ]
    },
    {
      "cell_type": "code",
      "source": [
        "unique_values = delete_columns_data['bathrooms_text'].unique()\n",
        "print(unique_values)"
      ],
      "metadata": {
        "colab": {
          "base_uri": "https://localhost:8080/"
        },
        "id": "jP7lyR7gDTpm",
        "outputId": "47264309-fd79-462b-eaf3-ca99ad64aa97"
      },
      "execution_count": 66,
      "outputs": [
        {
          "output_type": "stream",
          "name": "stdout",
          "text": [
            "['1 shared bath' '1 bath' '2 baths' '2.5 baths' '1.5 baths'\n",
            " '4 shared baths' '2 shared baths' '1.5 shared baths' '0.5 shared bath'\n",
            " '0.5 bath' '3 baths' '3.5 baths' '3 shared baths' '4.5 baths' '4 baths'\n",
            " '0 shared baths' '0 baths' '6.5 baths' '2.5 shared baths' '5 baths'\n",
            " '6 baths' '7 baths' '15.5 baths' '5.5 shared baths' '8 baths'\n",
            " '6 shared baths' '5.5 baths' '4.5 shared baths' '8.5 baths'\n",
            " '3.5 shared baths']\n"
          ]
        }
      ]
    },
    {
      "cell_type": "code",
      "source": [
        "delete_columns_data.info()"
      ],
      "metadata": {
        "colab": {
          "base_uri": "https://localhost:8080/"
        },
        "id": "Z3By6xDcKI8G",
        "outputId": "a0efa065-b07d-4296-8c79-a64d0e9f9df0"
      },
      "execution_count": 67,
      "outputs": [
        {
          "output_type": "stream",
          "name": "stdout",
          "text": [
            "<class 'pandas.core.frame.DataFrame'>\n",
            "Int64Index: 38750 entries, 0 to 38791\n",
            "Data columns (total 25 columns):\n",
            " #   Column                        Non-Null Count  Dtype  \n",
            "---  ------                        --------------  -----  \n",
            " 0   id                            38750 non-null  int64  \n",
            " 1   host_response_time            38750 non-null  object \n",
            " 2   host_response_rate            38750 non-null  float64\n",
            " 3   host_is_superhost             38750 non-null  object \n",
            " 4   neighbourhood_group_cleansed  38750 non-null  object \n",
            " 5   latitude                      38750 non-null  float64\n",
            " 6   longitude                     38750 non-null  float64\n",
            " 7   room_type                     38750 non-null  object \n",
            " 8   accommodates                  38750 non-null  int64  \n",
            " 9   bathrooms_text                38750 non-null  object \n",
            " 10  bedrooms                      38750 non-null  float64\n",
            " 11  beds                          38750 non-null  float64\n",
            " 12  amenities                     38750 non-null  int64  \n",
            " 13  price                         38750 non-null  object \n",
            " 14  availability_90               38750 non-null  int64  \n",
            " 15  availability_365              38750 non-null  int64  \n",
            " 16  number_of_reviews             38750 non-null  int64  \n",
            " 17  review_scores_rating          38750 non-null  float64\n",
            " 18  review_scores_accuracy        38750 non-null  float64\n",
            " 19  review_scores_cleanliness     38750 non-null  float64\n",
            " 20  review_scores_checkin         38750 non-null  float64\n",
            " 21  review_scores_communication   38750 non-null  float64\n",
            " 22  review_scores_location        38750 non-null  float64\n",
            " 23  review_scores_value           38750 non-null  float64\n",
            " 24  instant_bookable              38750 non-null  object \n",
            "dtypes: float64(12), int64(6), object(7)\n",
            "memory usage: 7.7+ MB\n"
          ]
        }
      ]
    },
    {
      "cell_type": "markdown",
      "source": [
        "타겟 변수 설정"
      ],
      "metadata": {
        "id": "987GXKwyV9i6"
      }
    },
    {
      "cell_type": "code",
      "source": [
        "#price 변수 object에서 float로 변환\n",
        "delete_columns_data['price'] = delete_columns_data['price'].str.replace('[\\$,]', '', regex=True).astype(float)\n",
        "\n",
        "delete_columns_data.info()"
      ],
      "metadata": {
        "colab": {
          "base_uri": "https://localhost:8080/"
        },
        "id": "K4YdRGxO6XqO",
        "outputId": "511954b9-81b1-4401-9aa5-034dee1ef716"
      },
      "execution_count": 68,
      "outputs": [
        {
          "output_type": "stream",
          "name": "stdout",
          "text": [
            "<class 'pandas.core.frame.DataFrame'>\n",
            "Int64Index: 38750 entries, 0 to 38791\n",
            "Data columns (total 25 columns):\n",
            " #   Column                        Non-Null Count  Dtype  \n",
            "---  ------                        --------------  -----  \n",
            " 0   id                            38750 non-null  int64  \n",
            " 1   host_response_time            38750 non-null  object \n",
            " 2   host_response_rate            38750 non-null  float64\n",
            " 3   host_is_superhost             38750 non-null  object \n",
            " 4   neighbourhood_group_cleansed  38750 non-null  object \n",
            " 5   latitude                      38750 non-null  float64\n",
            " 6   longitude                     38750 non-null  float64\n",
            " 7   room_type                     38750 non-null  object \n",
            " 8   accommodates                  38750 non-null  int64  \n",
            " 9   bathrooms_text                38750 non-null  object \n",
            " 10  bedrooms                      38750 non-null  float64\n",
            " 11  beds                          38750 non-null  float64\n",
            " 12  amenities                     38750 non-null  int64  \n",
            " 13  price                         38750 non-null  float64\n",
            " 14  availability_90               38750 non-null  int64  \n",
            " 15  availability_365              38750 non-null  int64  \n",
            " 16  number_of_reviews             38750 non-null  int64  \n",
            " 17  review_scores_rating          38750 non-null  float64\n",
            " 18  review_scores_accuracy        38750 non-null  float64\n",
            " 19  review_scores_cleanliness     38750 non-null  float64\n",
            " 20  review_scores_checkin         38750 non-null  float64\n",
            " 21  review_scores_communication   38750 non-null  float64\n",
            " 22  review_scores_location        38750 non-null  float64\n",
            " 23  review_scores_value           38750 non-null  float64\n",
            " 24  instant_bookable              38750 non-null  object \n",
            "dtypes: float64(13), int64(6), object(6)\n",
            "memory usage: 7.7+ MB\n"
          ]
        }
      ]
    },
    {
      "cell_type": "code",
      "source": [
        "# 타겟 변수 값이 중위수 이상이면 1, 아니면 0\n",
        "# 이진값 타겟 변수 price_B\n",
        "c1 = delete_columns_data['price'] >= delete_columns_data['price'].median()\n",
        "c0 = delete_columns_data['price'] < delete_columns_data['price'].median()\n",
        "\n",
        "delete_columns_data.loc[c1, \"price_B\"] = 1\n",
        "delete_columns_data.loc[c0, \"price_B\"] = 0\n",
        "delete_columns_data.head(3)"
      ],
      "metadata": {
        "colab": {
          "base_uri": "https://localhost:8080/",
          "height": 245
        },
        "id": "sI3ncMAmEUow",
        "outputId": "20455c76-730e-4432-bb3e-e7a0e143175d"
      },
      "execution_count": 69,
      "outputs": [
        {
          "output_type": "execute_result",
          "data": {
            "text/plain": [
              "        id  host_response_time  host_response_rate host_is_superhost  \\\n",
              "0  9630344  a few days or more           92.557264                 f   \n",
              "1  3533741  a few days or more           92.557264                 f   \n",
              "2  9731039  a few days or more           92.557264                 f   \n",
              "\n",
              "  neighbourhood_group_cleansed  latitude  longitude        room_type  \\\n",
              "0                     Brooklyn  40.68457  -73.91181     Private room   \n",
              "1                    Manhattan  40.76878  -73.98719     Private room   \n",
              "2                       Queens  40.74343  -73.91865  Entire home/apt   \n",
              "\n",
              "   accommodates bathrooms_text  ...  number_of_reviews  review_scores_rating  \\\n",
              "0             1  1 shared bath  ...                  5              4.800000   \n",
              "1             2         1 bath  ...                  0              4.625896   \n",
              "2             1         1 bath  ...                  0              4.625896   \n",
              "\n",
              "   review_scores_accuracy  review_scores_cleanliness  review_scores_checkin  \\\n",
              "0                4.600000                   5.000000               5.000000   \n",
              "1                4.740582                   4.622926               4.811373   \n",
              "2                4.740582                   4.622926               4.811373   \n",
              "\n",
              "   review_scores_communication  review_scores_location  review_scores_value  \\\n",
              "0                     5.000000                 4.80000             5.000000   \n",
              "1                     4.805698                 4.72422             4.621431   \n",
              "2                     4.805698                 4.72422             4.621431   \n",
              "\n",
              "   instant_bookable  price_B  \n",
              "0                 f      0.0  \n",
              "1                 f      0.0  \n",
              "2                 f      0.0  \n",
              "\n",
              "[3 rows x 26 columns]"
            ],
            "text/html": [
              "\n",
              "  <div id=\"df-24a10cce-8d45-4b07-88c0-aecff7958769\" class=\"colab-df-container\">\n",
              "    <div>\n",
              "<style scoped>\n",
              "    .dataframe tbody tr th:only-of-type {\n",
              "        vertical-align: middle;\n",
              "    }\n",
              "\n",
              "    .dataframe tbody tr th {\n",
              "        vertical-align: top;\n",
              "    }\n",
              "\n",
              "    .dataframe thead th {\n",
              "        text-align: right;\n",
              "    }\n",
              "</style>\n",
              "<table border=\"1\" class=\"dataframe\">\n",
              "  <thead>\n",
              "    <tr style=\"text-align: right;\">\n",
              "      <th></th>\n",
              "      <th>id</th>\n",
              "      <th>host_response_time</th>\n",
              "      <th>host_response_rate</th>\n",
              "      <th>host_is_superhost</th>\n",
              "      <th>neighbourhood_group_cleansed</th>\n",
              "      <th>latitude</th>\n",
              "      <th>longitude</th>\n",
              "      <th>room_type</th>\n",
              "      <th>accommodates</th>\n",
              "      <th>bathrooms_text</th>\n",
              "      <th>...</th>\n",
              "      <th>number_of_reviews</th>\n",
              "      <th>review_scores_rating</th>\n",
              "      <th>review_scores_accuracy</th>\n",
              "      <th>review_scores_cleanliness</th>\n",
              "      <th>review_scores_checkin</th>\n",
              "      <th>review_scores_communication</th>\n",
              "      <th>review_scores_location</th>\n",
              "      <th>review_scores_value</th>\n",
              "      <th>instant_bookable</th>\n",
              "      <th>price_B</th>\n",
              "    </tr>\n",
              "  </thead>\n",
              "  <tbody>\n",
              "    <tr>\n",
              "      <th>0</th>\n",
              "      <td>9630344</td>\n",
              "      <td>a few days or more</td>\n",
              "      <td>92.557264</td>\n",
              "      <td>f</td>\n",
              "      <td>Brooklyn</td>\n",
              "      <td>40.68457</td>\n",
              "      <td>-73.91181</td>\n",
              "      <td>Private room</td>\n",
              "      <td>1</td>\n",
              "      <td>1 shared bath</td>\n",
              "      <td>...</td>\n",
              "      <td>5</td>\n",
              "      <td>4.800000</td>\n",
              "      <td>4.600000</td>\n",
              "      <td>5.000000</td>\n",
              "      <td>5.000000</td>\n",
              "      <td>5.000000</td>\n",
              "      <td>4.80000</td>\n",
              "      <td>5.000000</td>\n",
              "      <td>f</td>\n",
              "      <td>0.0</td>\n",
              "    </tr>\n",
              "    <tr>\n",
              "      <th>1</th>\n",
              "      <td>3533741</td>\n",
              "      <td>a few days or more</td>\n",
              "      <td>92.557264</td>\n",
              "      <td>f</td>\n",
              "      <td>Manhattan</td>\n",
              "      <td>40.76878</td>\n",
              "      <td>-73.98719</td>\n",
              "      <td>Private room</td>\n",
              "      <td>2</td>\n",
              "      <td>1 bath</td>\n",
              "      <td>...</td>\n",
              "      <td>0</td>\n",
              "      <td>4.625896</td>\n",
              "      <td>4.740582</td>\n",
              "      <td>4.622926</td>\n",
              "      <td>4.811373</td>\n",
              "      <td>4.805698</td>\n",
              "      <td>4.72422</td>\n",
              "      <td>4.621431</td>\n",
              "      <td>f</td>\n",
              "      <td>0.0</td>\n",
              "    </tr>\n",
              "    <tr>\n",
              "      <th>2</th>\n",
              "      <td>9731039</td>\n",
              "      <td>a few days or more</td>\n",
              "      <td>92.557264</td>\n",
              "      <td>f</td>\n",
              "      <td>Queens</td>\n",
              "      <td>40.74343</td>\n",
              "      <td>-73.91865</td>\n",
              "      <td>Entire home/apt</td>\n",
              "      <td>1</td>\n",
              "      <td>1 bath</td>\n",
              "      <td>...</td>\n",
              "      <td>0</td>\n",
              "      <td>4.625896</td>\n",
              "      <td>4.740582</td>\n",
              "      <td>4.622926</td>\n",
              "      <td>4.811373</td>\n",
              "      <td>4.805698</td>\n",
              "      <td>4.72422</td>\n",
              "      <td>4.621431</td>\n",
              "      <td>f</td>\n",
              "      <td>0.0</td>\n",
              "    </tr>\n",
              "  </tbody>\n",
              "</table>\n",
              "<p>3 rows × 26 columns</p>\n",
              "</div>\n",
              "    <div class=\"colab-df-buttons\">\n",
              "\n",
              "  <div class=\"colab-df-container\">\n",
              "    <button class=\"colab-df-convert\" onclick=\"convertToInteractive('df-24a10cce-8d45-4b07-88c0-aecff7958769')\"\n",
              "            title=\"Convert this dataframe to an interactive table.\"\n",
              "            style=\"display:none;\">\n",
              "\n",
              "  <svg xmlns=\"http://www.w3.org/2000/svg\" height=\"24px\" viewBox=\"0 -960 960 960\">\n",
              "    <path d=\"M120-120v-720h720v720H120Zm60-500h600v-160H180v160Zm220 220h160v-160H400v160Zm0 220h160v-160H400v160ZM180-400h160v-160H180v160Zm440 0h160v-160H620v160ZM180-180h160v-160H180v160Zm440 0h160v-160H620v160Z\"/>\n",
              "  </svg>\n",
              "    </button>\n",
              "\n",
              "  <style>\n",
              "    .colab-df-container {\n",
              "      display:flex;\n",
              "      gap: 12px;\n",
              "    }\n",
              "\n",
              "    .colab-df-convert {\n",
              "      background-color: #E8F0FE;\n",
              "      border: none;\n",
              "      border-radius: 50%;\n",
              "      cursor: pointer;\n",
              "      display: none;\n",
              "      fill: #1967D2;\n",
              "      height: 32px;\n",
              "      padding: 0 0 0 0;\n",
              "      width: 32px;\n",
              "    }\n",
              "\n",
              "    .colab-df-convert:hover {\n",
              "      background-color: #E2EBFA;\n",
              "      box-shadow: 0px 1px 2px rgba(60, 64, 67, 0.3), 0px 1px 3px 1px rgba(60, 64, 67, 0.15);\n",
              "      fill: #174EA6;\n",
              "    }\n",
              "\n",
              "    .colab-df-buttons div {\n",
              "      margin-bottom: 4px;\n",
              "    }\n",
              "\n",
              "    [theme=dark] .colab-df-convert {\n",
              "      background-color: #3B4455;\n",
              "      fill: #D2E3FC;\n",
              "    }\n",
              "\n",
              "    [theme=dark] .colab-df-convert:hover {\n",
              "      background-color: #434B5C;\n",
              "      box-shadow: 0px 1px 3px 1px rgba(0, 0, 0, 0.15);\n",
              "      filter: drop-shadow(0px 1px 2px rgba(0, 0, 0, 0.3));\n",
              "      fill: #FFFFFF;\n",
              "    }\n",
              "  </style>\n",
              "\n",
              "    <script>\n",
              "      const buttonEl =\n",
              "        document.querySelector('#df-24a10cce-8d45-4b07-88c0-aecff7958769 button.colab-df-convert');\n",
              "      buttonEl.style.display =\n",
              "        google.colab.kernel.accessAllowed ? 'block' : 'none';\n",
              "\n",
              "      async function convertToInteractive(key) {\n",
              "        const element = document.querySelector('#df-24a10cce-8d45-4b07-88c0-aecff7958769');\n",
              "        const dataTable =\n",
              "          await google.colab.kernel.invokeFunction('convertToInteractive',\n",
              "                                                    [key], {});\n",
              "        if (!dataTable) return;\n",
              "\n",
              "        const docLinkHtml = 'Like what you see? Visit the ' +\n",
              "          '<a target=\"_blank\" href=https://colab.research.google.com/notebooks/data_table.ipynb>data table notebook</a>'\n",
              "          + ' to learn more about interactive tables.';\n",
              "        element.innerHTML = '';\n",
              "        dataTable['output_type'] = 'display_data';\n",
              "        await google.colab.output.renderOutput(dataTable, element);\n",
              "        const docLink = document.createElement('div');\n",
              "        docLink.innerHTML = docLinkHtml;\n",
              "        element.appendChild(docLink);\n",
              "      }\n",
              "    </script>\n",
              "  </div>\n",
              "\n",
              "\n",
              "<div id=\"df-4c1d5ba2-abf8-4603-a2d1-c414611240b0\">\n",
              "  <button class=\"colab-df-quickchart\" onclick=\"quickchart('df-4c1d5ba2-abf8-4603-a2d1-c414611240b0')\"\n",
              "            title=\"Suggest charts\"\n",
              "            style=\"display:none;\">\n",
              "\n",
              "<svg xmlns=\"http://www.w3.org/2000/svg\" height=\"24px\"viewBox=\"0 0 24 24\"\n",
              "     width=\"24px\">\n",
              "    <g>\n",
              "        <path d=\"M19 3H5c-1.1 0-2 .9-2 2v14c0 1.1.9 2 2 2h14c1.1 0 2-.9 2-2V5c0-1.1-.9-2-2-2zM9 17H7v-7h2v7zm4 0h-2V7h2v10zm4 0h-2v-4h2v4z\"/>\n",
              "    </g>\n",
              "</svg>\n",
              "  </button>\n",
              "\n",
              "<style>\n",
              "  .colab-df-quickchart {\n",
              "      --bg-color: #E8F0FE;\n",
              "      --fill-color: #1967D2;\n",
              "      --hover-bg-color: #E2EBFA;\n",
              "      --hover-fill-color: #174EA6;\n",
              "      --disabled-fill-color: #AAA;\n",
              "      --disabled-bg-color: #DDD;\n",
              "  }\n",
              "\n",
              "  [theme=dark] .colab-df-quickchart {\n",
              "      --bg-color: #3B4455;\n",
              "      --fill-color: #D2E3FC;\n",
              "      --hover-bg-color: #434B5C;\n",
              "      --hover-fill-color: #FFFFFF;\n",
              "      --disabled-bg-color: #3B4455;\n",
              "      --disabled-fill-color: #666;\n",
              "  }\n",
              "\n",
              "  .colab-df-quickchart {\n",
              "    background-color: var(--bg-color);\n",
              "    border: none;\n",
              "    border-radius: 50%;\n",
              "    cursor: pointer;\n",
              "    display: none;\n",
              "    fill: var(--fill-color);\n",
              "    height: 32px;\n",
              "    padding: 0;\n",
              "    width: 32px;\n",
              "  }\n",
              "\n",
              "  .colab-df-quickchart:hover {\n",
              "    background-color: var(--hover-bg-color);\n",
              "    box-shadow: 0 1px 2px rgba(60, 64, 67, 0.3), 0 1px 3px 1px rgba(60, 64, 67, 0.15);\n",
              "    fill: var(--button-hover-fill-color);\n",
              "  }\n",
              "\n",
              "  .colab-df-quickchart-complete:disabled,\n",
              "  .colab-df-quickchart-complete:disabled:hover {\n",
              "    background-color: var(--disabled-bg-color);\n",
              "    fill: var(--disabled-fill-color);\n",
              "    box-shadow: none;\n",
              "  }\n",
              "\n",
              "  .colab-df-spinner {\n",
              "    border: 2px solid var(--fill-color);\n",
              "    border-color: transparent;\n",
              "    border-bottom-color: var(--fill-color);\n",
              "    animation:\n",
              "      spin 1s steps(1) infinite;\n",
              "  }\n",
              "\n",
              "  @keyframes spin {\n",
              "    0% {\n",
              "      border-color: transparent;\n",
              "      border-bottom-color: var(--fill-color);\n",
              "      border-left-color: var(--fill-color);\n",
              "    }\n",
              "    20% {\n",
              "      border-color: transparent;\n",
              "      border-left-color: var(--fill-color);\n",
              "      border-top-color: var(--fill-color);\n",
              "    }\n",
              "    30% {\n",
              "      border-color: transparent;\n",
              "      border-left-color: var(--fill-color);\n",
              "      border-top-color: var(--fill-color);\n",
              "      border-right-color: var(--fill-color);\n",
              "    }\n",
              "    40% {\n",
              "      border-color: transparent;\n",
              "      border-right-color: var(--fill-color);\n",
              "      border-top-color: var(--fill-color);\n",
              "    }\n",
              "    60% {\n",
              "      border-color: transparent;\n",
              "      border-right-color: var(--fill-color);\n",
              "    }\n",
              "    80% {\n",
              "      border-color: transparent;\n",
              "      border-right-color: var(--fill-color);\n",
              "      border-bottom-color: var(--fill-color);\n",
              "    }\n",
              "    90% {\n",
              "      border-color: transparent;\n",
              "      border-bottom-color: var(--fill-color);\n",
              "    }\n",
              "  }\n",
              "</style>\n",
              "\n",
              "  <script>\n",
              "    async function quickchart(key) {\n",
              "      const quickchartButtonEl =\n",
              "        document.querySelector('#' + key + ' button');\n",
              "      quickchartButtonEl.disabled = true;  // To prevent multiple clicks.\n",
              "      quickchartButtonEl.classList.add('colab-df-spinner');\n",
              "      try {\n",
              "        const charts = await google.colab.kernel.invokeFunction(\n",
              "            'suggestCharts', [key], {});\n",
              "      } catch (error) {\n",
              "        console.error('Error during call to suggestCharts:', error);\n",
              "      }\n",
              "      quickchartButtonEl.classList.remove('colab-df-spinner');\n",
              "      quickchartButtonEl.classList.add('colab-df-quickchart-complete');\n",
              "    }\n",
              "    (() => {\n",
              "      let quickchartButtonEl =\n",
              "        document.querySelector('#df-4c1d5ba2-abf8-4603-a2d1-c414611240b0 button');\n",
              "      quickchartButtonEl.style.display =\n",
              "        google.colab.kernel.accessAllowed ? 'block' : 'none';\n",
              "    })();\n",
              "  </script>\n",
              "</div>\n",
              "    </div>\n",
              "  </div>\n"
            ]
          },
          "metadata": {},
          "execution_count": 69
        }
      ]
    },
    {
      "cell_type": "code",
      "source": [
        "delete_columns_data['price_B'] = delete_columns_data['price_B'].astype('object')\n",
        "delete_columns_data.info()"
      ],
      "metadata": {
        "colab": {
          "base_uri": "https://localhost:8080/"
        },
        "id": "5U6I5CKXXR8a",
        "outputId": "933bb1fd-9ed6-451f-d74a-c28fbd484a2b"
      },
      "execution_count": 70,
      "outputs": [
        {
          "output_type": "stream",
          "name": "stdout",
          "text": [
            "<class 'pandas.core.frame.DataFrame'>\n",
            "Int64Index: 38750 entries, 0 to 38791\n",
            "Data columns (total 26 columns):\n",
            " #   Column                        Non-Null Count  Dtype  \n",
            "---  ------                        --------------  -----  \n",
            " 0   id                            38750 non-null  int64  \n",
            " 1   host_response_time            38750 non-null  object \n",
            " 2   host_response_rate            38750 non-null  float64\n",
            " 3   host_is_superhost             38750 non-null  object \n",
            " 4   neighbourhood_group_cleansed  38750 non-null  object \n",
            " 5   latitude                      38750 non-null  float64\n",
            " 6   longitude                     38750 non-null  float64\n",
            " 7   room_type                     38750 non-null  object \n",
            " 8   accommodates                  38750 non-null  int64  \n",
            " 9   bathrooms_text                38750 non-null  object \n",
            " 10  bedrooms                      38750 non-null  float64\n",
            " 11  beds                          38750 non-null  float64\n",
            " 12  amenities                     38750 non-null  int64  \n",
            " 13  price                         38750 non-null  float64\n",
            " 14  availability_90               38750 non-null  int64  \n",
            " 15  availability_365              38750 non-null  int64  \n",
            " 16  number_of_reviews             38750 non-null  int64  \n",
            " 17  review_scores_rating          38750 non-null  float64\n",
            " 18  review_scores_accuracy        38750 non-null  float64\n",
            " 19  review_scores_cleanliness     38750 non-null  float64\n",
            " 20  review_scores_checkin         38750 non-null  float64\n",
            " 21  review_scores_communication   38750 non-null  float64\n",
            " 22  review_scores_location        38750 non-null  float64\n",
            " 23  review_scores_value           38750 non-null  float64\n",
            " 24  instant_bookable              38750 non-null  object \n",
            " 25  price_B                       38750 non-null  object \n",
            "dtypes: float64(13), int64(6), object(7)\n",
            "memory usage: 8.0+ MB\n"
          ]
        }
      ]
    },
    {
      "cell_type": "markdown",
      "source": [
        "이상값 제거(구간 변수)"
      ],
      "metadata": {
        "id": "idRLx8snMwnS"
      }
    },
    {
      "cell_type": "code",
      "source": [
        "# 구간변수 이상값 확인 및 제거\n",
        "\n",
        "import matplotlib.pyplot as plt\n",
        "import seaborn as sns\n",
        "sns.set_style('whitegrid')\n",
        "\n",
        "fig, axes = plt.subplots(1, 3, figsize=(15, 4))\n",
        "\n",
        "sns.boxplot(ax = axes[0], x = 'host_response_rate', data = delete_columns_data)\n",
        "sns.boxplot(ax = axes[1], x = 'latitude', data = delete_columns_data)\n",
        "sns.boxplot(ax = axes[2], x = 'longitude', data = delete_columns_data)\n",
        "\n",
        "fig, axes = plt.subplots(1, 3, figsize=(15, 4))\n",
        "\n",
        "sns.boxplot(ax = axes[0], x = 'accommodates', data = delete_columns_data)\n",
        "sns.boxplot(ax = axes[1], x = 'bedrooms', data = delete_columns_data)\n",
        "sns.boxplot(ax = axes[2], x = 'beds', data = delete_columns_data)\n",
        "\n",
        "fig, axes = plt.subplots(1, 3, figsize=(15, 4))\n",
        "\n",
        "sns.boxplot(ax = axes[0], x = 'availability_90', data = delete_columns_data)\n",
        "sns.boxplot(ax = axes[1], x = 'availability_365', data = delete_columns_data)\n",
        "sns.boxplot(ax = axes[2], x = 'number_of_reviews', data = delete_columns_data)\n",
        "\n",
        "fig, axes = plt.subplots(1, 3, figsize=(15, 4))\n",
        "\n",
        "sns.boxplot(ax = axes[0], x = 'amenities', data = delete_columns_data)\n",
        "sns.boxplot(ax = axes[1], x = 'review_scores_rating', data = delete_columns_data)\n",
        "sns.boxplot(ax = axes[2], x = 'review_scores_accuracy', data = delete_columns_data)\n",
        "\n",
        "fig, axes = plt.subplots(1, 3, figsize=(15, 4))\n",
        "\n",
        "sns.boxplot(ax = axes[0], x = 'review_scores_cleanliness', data = delete_columns_data)\n",
        "sns.boxplot(ax = axes[1], x = 'review_scores_checkin', data = delete_columns_data)\n",
        "sns.boxplot(ax = axes[2], x = 'review_scores_communication', data = delete_columns_data)\n",
        "\n",
        "fig, axes = plt.subplots(1, 2, figsize=(15, 4))\n",
        "\n",
        "sns.boxplot(ax = axes[0], x = 'review_scores_location', data = delete_columns_data)\n",
        "sns.boxplot(ax = axes[1], x = 'review_scores_value', data = delete_columns_data)\n"
      ],
      "metadata": {
        "colab": {
          "base_uri": "https://localhost:8080/",
          "height": 1000
        },
        "id": "WyUyhTtjMz6h",
        "outputId": "3e8750b6-3f3d-4b1d-efa8-c419fae49de7"
      },
      "execution_count": 71,
      "outputs": [
        {
          "output_type": "execute_result",
          "data": {
            "text/plain": [
              "<Axes: xlabel='review_scores_value'>"
            ]
          },
          "metadata": {},
          "execution_count": 71
        },
        {
          "output_type": "display_data",
          "data": {
            "text/plain": [
              "<Figure size 1500x400 with 3 Axes>"
            ],
            "image/png": "[encoded data removed]"
          },
          "metadata": {}
        },
        {
          "output_type": "display_data",
          "data": {
            "text/plain": [
              "<Figure size 1500x400 with 3 Axes>"
            ],
            "image/png": "[encoded data removed]"
          },
          "metadata": {}
        },
        {
          "output_type": "display_data",
          "data": {
            "text/plain": [
              "<Figure size 1500x400 with 3 Axes>"
            ],
            "image/png": "[encoded data removed]"
          },
          "metadata": {}
        },
        {
          "output_type": "display_data",
          "data": {
            "text/plain": [
              "<Figure size 1500x400 with 3 Axes>"
            ],
            "image/png": "[encoded data removed]"
          },
          "metadata": {}
        },
        {
          "output_type": "display_data",
          "data": {
            "text/plain": [
              "<Figure size 1500x400 with 3 Axes>"
            ],
            "image/png": "[encoded data removed]"
          },
          "metadata": {}
        },
        {
          "output_type": "display_data",
          "data": {
            "text/plain": [
              "<Figure size 1500x400 with 2 Axes>"
            ],
            "image/png": "[encoded data removed]"
          },
          "metadata": {}
        }
      ]
    },
    {
      "cell_type": "code",
      "source": [
        "#host_response_rate, accommodates, bedrooms, beds의 이상치를 하한값과 상한값으로 대체\n",
        "#나머지 변수들은 이상치 처리X\n",
        "\n",
        "Q1 = delete_columns_data[['host_response_rate', 'accommodates', 'bedrooms', 'beds']].quantile(0.25)\n",
        "Q3 = delete_columns_data[['host_response_rate', 'accommodates', 'bedrooms', 'beds']].quantile(0.75)\n",
        "IQR = Q3 - Q1\n",
        "print(IQR)"
      ],
      "metadata": {
        "colab": {
          "base_uri": "https://localhost:8080/"
        },
        "id": "v_PhO0xsbgtS",
        "outputId": "470e6846-7d10-4b4d-ba4b-fb1c2c9cb366"
      },
      "execution_count": 72,
      "outputs": [
        {
          "output_type": "stream",
          "name": "stdout",
          "text": [
            "host_response_rate    7.442736\n",
            "accommodates          2.000000\n",
            "bedrooms              0.591403\n",
            "beds                  1.000000\n",
            "dtype: float64\n"
          ]
        }
      ]
    },
    {
      "cell_type": "code",
      "source": [
        "Lower = Q1 - 1.5 * IQR\n",
        "Upper = Q3 + 1.5 * IQR\n",
        "print(Lower)\n",
        "print(Upper)"
      ],
      "metadata": {
        "colab": {
          "base_uri": "https://localhost:8080/"
        },
        "id": "AVDOb4EldmOt",
        "outputId": "58baf382-01f1-48bb-c328-905728ec4d63"
      },
      "execution_count": 73,
      "outputs": [
        {
          "output_type": "stream",
          "name": "stdout",
          "text": [
            "host_response_rate    81.393161\n",
            "accommodates          -1.000000\n",
            "bedrooms               0.112895\n",
            "beds                  -0.500000\n",
            "dtype: float64\n",
            "host_response_rate    111.164103\n",
            "accommodates            7.000000\n",
            "bedrooms                2.478508\n",
            "beds                    3.500000\n",
            "dtype: float64\n"
          ]
        }
      ]
    },
    {
      "cell_type": "code",
      "source": [
        "delete_columns_data['host_response_rate'] = delete_columns_data['host_response_rate'].apply(lambda x: 82 if x < 82 else x)\n",
        "delete_columns_data['accommodates'] = delete_columns_data['accommodates'].apply(lambda x: 7 if x > 7 else x)\n",
        "delete_columns_data['bedrooms'] = delete_columns_data['bedrooms'].apply(lambda x: 2.478508 if x > 2.478508 else x)\n",
        "delete_columns_data['beds'] = delete_columns_data['beds'].apply(lambda x: 3.5 if x > 3.5 else x)"
      ],
      "metadata": {
        "id": "on0JnEXMe0ej"
      },
      "execution_count": 74,
      "outputs": []
    },
    {
      "cell_type": "code",
      "source": [
        "delete_columns_data.to_csv('/content/drive/MyDrive/Colab Notebooks/Data_Analysis/preprocessing_completed.csv', index = False)"
      ],
      "metadata": {
        "id": "KQ4N3bWq8Q2M"
      },
      "execution_count": 75,
      "outputs": []
    },
    {
      "cell_type": "markdown",
      "source": [
        "탐색적 자료 분석 및 시각화"
      ],
      "metadata": {
        "id": "KiirtJDmIpPn"
      }
    },
    {
      "cell_type": "markdown",
      "source": [
        "결측값이 50% 초과인 변수 제거"
      ],
      "metadata": {
        "id": "qaq4u42NSHDA"
      }
    },
    {
      "cell_type": "code",
      "source": [
        "import pandas as pd\n",
        "\n",
        "#결측값이 50% 초과인 변수는 전처리 과정에서 수행했으므로 미조치\n",
        "preprocessing_completed = pd.read_csv('/content/drive/MyDrive/Colab Notebooks/Data_Analysis/preprocessing_completed.csv')\n",
        "preprocessing_completed['price_B'] = preprocessing_completed['price_B'].astype('object')\n",
        "preprocessing_completed.info()"
      ],
      "metadata": {
        "colab": {
          "base_uri": "https://localhost:8080/"
        },
        "id": "qxXzeAuEPHvb",
        "outputId": "befc9398-c5ce-42f1-edab-a6dd02426906"
      },
      "execution_count": 76,
      "outputs": [
        {
          "output_type": "stream",
          "name": "stdout",
          "text": [
            "<class 'pandas.core.frame.DataFrame'>\n",
            "RangeIndex: 38750 entries, 0 to 38749\n",
            "Data columns (total 26 columns):\n",
            " #   Column                        Non-Null Count  Dtype  \n",
            "---  ------                        --------------  -----  \n",
            " 0   id                            38750 non-null  int64  \n",
            " 1   host_response_time            38750 non-null  object \n",
            " 2   host_response_rate            38750 non-null  float64\n",
            " 3   host_is_superhost             38750 non-null  object \n",
            " 4   neighbourhood_group_cleansed  38750 non-null  object \n",
            " 5   latitude                      38750 non-null  float64\n",
            " 6   longitude                     38750 non-null  float64\n",
            " 7   room_type                     38750 non-null  object \n",
            " 8   accommodates                  38750 non-null  int64  \n",
            " 9   bathrooms_text                38750 non-null  object \n",
            " 10  bedrooms                      38750 non-null  float64\n",
            " 11  beds                          38750 non-null  float64\n",
            " 12  amenities                     38750 non-null  int64  \n",
            " 13  price                         38750 non-null  float64\n",
            " 14  availability_90               38750 non-null  int64  \n",
            " 15  availability_365              38750 non-null  int64  \n",
            " 16  number_of_reviews             38750 non-null  int64  \n",
            " 17  review_scores_rating          38750 non-null  float64\n",
            " 18  review_scores_accuracy        38750 non-null  float64\n",
            " 19  review_scores_cleanliness     38750 non-null  float64\n",
            " 20  review_scores_checkin         38750 non-null  float64\n",
            " 21  review_scores_communication   38750 non-null  float64\n",
            " 22  review_scores_location        38750 non-null  float64\n",
            " 23  review_scores_value           38750 non-null  float64\n",
            " 24  instant_bookable              38750 non-null  object \n",
            " 25  price_B                       38750 non-null  object \n",
            "dtypes: float64(13), int64(6), object(7)\n",
            "memory usage: 7.7+ MB\n"
          ]
        }
      ]
    },
    {
      "cell_type": "markdown",
      "source": [
        "구간 변수 요약 통계 검토"
      ],
      "metadata": {
        "id": "pYhYhTD8SuK7"
      }
    },
    {
      "cell_type": "code",
      "source": [
        "#요약 통계가 필요 없는 id, latitude, longitude 변수는 제거하고 검토\n",
        "interval_variable = preprocessing_completed[['host_response_rate', 'accommodates', 'bedrooms', 'beds', 'amenities', 'availability_90', 'availability_365', 'number_of_reviews', 'review_scores_rating', 'review_scores_accuracy',\n",
        "                                            'review_scores_cleanliness', 'review_scores_checkin', 'review_scores_communication', 'review_scores_location', 'review_scores_value']]\n",
        "interval_variable.describe()"
      ],
      "metadata": {
        "colab": {
          "base_uri": "https://localhost:8080/",
          "height": 320
        },
        "id": "lo-xe9rJSwKh",
        "outputId": "9e7c3264-1975-4f2e-e5bc-9f47a1c93244"
      },
      "execution_count": 77,
      "outputs": [
        {
          "output_type": "execute_result",
          "data": {
            "text/plain": [
              "       host_response_rate  accommodates      bedrooms          beds  \\\n",
              "count        38750.000000  38750.000000  38750.000000  38750.000000   \n",
              "mean            95.077469      2.780568      1.516860      1.554757   \n",
              "std              5.415922      1.624631      0.446453      0.811567   \n",
              "min             82.000000      1.000000      1.000000      1.000000   \n",
              "25%             92.557264      2.000000      1.000000      1.000000   \n",
              "50%             94.000000      2.000000      1.591403      1.000000   \n",
              "75%            100.000000      4.000000      1.591403      2.000000   \n",
              "max            100.000000      7.000000      2.478508      3.500000   \n",
              "\n",
              "          amenities  availability_90  availability_365  number_of_reviews  \\\n",
              "count  38750.000000     38750.000000      38750.000000       38750.000000   \n",
              "mean      26.322994        32.874039        148.848284          25.373135   \n",
              "std       15.690079        34.844344        142.250654          55.877476   \n",
              "min        1.000000         0.000000          0.000000           0.000000   \n",
              "25%       13.000000         0.000000          0.000000           0.000000   \n",
              "50%       24.000000        20.000000        120.000000           4.000000   \n",
              "75%       37.000000        64.000000        301.000000          24.000000   \n",
              "max      101.000000        90.000000        365.000000        1843.000000   \n",
              "\n",
              "       review_scores_rating  review_scores_accuracy  \\\n",
              "count          38750.000000            38750.000000   \n",
              "mean               4.626053                4.740621   \n",
              "std                0.636900                0.412740   \n",
              "min                0.000000                0.000000   \n",
              "25%                4.625896                4.740582   \n",
              "50%                4.670000                4.750000   \n",
              "75%                4.940000                4.970000   \n",
              "max                5.000000                5.000000   \n",
              "\n",
              "       review_scores_cleanliness  review_scores_checkin  \\\n",
              "count               38750.000000           38750.000000   \n",
              "mean                    4.623132               4.811376   \n",
              "std                     0.476852               0.359257   \n",
              "min                     0.000000               0.000000   \n",
              "25%                     4.622926               4.811373   \n",
              "50%                     4.622926               4.840000   \n",
              "75%                     4.910000               5.000000   \n",
              "max                     5.000000               5.000000   \n",
              "\n",
              "       review_scores_communication  review_scores_location  \\\n",
              "count                 38750.000000            38750.000000   \n",
              "mean                      4.805671                4.724157   \n",
              "std                       0.385890                0.357005   \n",
              "min                       0.000000                0.000000   \n",
              "25%                       4.805698                4.720000   \n",
              "50%                       4.860000                4.724220   \n",
              "75%                       5.000000                4.960000   \n",
              "max                       5.000000                5.000000   \n",
              "\n",
              "       review_scores_value  \n",
              "count         38750.000000  \n",
              "mean              4.621473  \n",
              "std               0.445515  \n",
              "min               0.000000  \n",
              "25%               4.621431  \n",
              "50%               4.621431  \n",
              "75%               4.850000  \n",
              "max               5.000000  "
            ],
            "text/html": [
              "\n",
              "  <div id=\"df-75fdd4dd-0277-4c82-aefa-290ec79016eb\" class=\"colab-df-container\">\n",
              "    <div>\n",
              "<style scoped>\n",
              "    .dataframe tbody tr th:only-of-type {\n",
              "        vertical-align: middle;\n",
              "    }\n",
              "\n",
              "    .dataframe tbody tr th {\n",
              "        vertical-align: top;\n",
              "    }\n",
              "\n",
              "    .dataframe thead th {\n",
              "        text-align: right;\n",
              "    }\n",
              "</style>\n",
              "<table border=\"1\" class=\"dataframe\">\n",
              "  <thead>\n",
              "    <tr style=\"text-align: right;\">\n",
              "      <th></th>\n",
              "      <th>host_response_rate</th>\n",
              "      <th>accommodates</th>\n",
              "      <th>bedrooms</th>\n",
              "      <th>beds</th>\n",
              "      <th>amenities</th>\n",
              "      <th>availability_90</th>\n",
              "      <th>availability_365</th>\n",
              "      <th>number_of_reviews</th>\n",
              "      <th>review_scores_rating</th>\n",
              "      <th>review_scores_accuracy</th>\n",
              "      <th>review_scores_cleanliness</th>\n",
              "      <th>review_scores_checkin</th>\n",
              "      <th>review_scores_communication</th>\n",
              "      <th>review_scores_location</th>\n",
              "      <th>review_scores_value</th>\n",
              "    </tr>\n",
              "  </thead>\n",
              "  <tbody>\n",
              "    <tr>\n",
              "      <th>count</th>\n",
              "      <td>38750.000000</td>\n",
              "      <td>38750.000000</td>\n",
              "      <td>38750.000000</td>\n",
              "      <td>38750.000000</td>\n",
              "      <td>38750.000000</td>\n",
              "      <td>38750.000000</td>\n",
              "      <td>38750.000000</td>\n",
              "      <td>38750.000000</td>\n",
              "      <td>38750.000000</td>\n",
              "      <td>38750.000000</td>\n",
              "      <td>38750.000000</td>\n",
              "      <td>38750.000000</td>\n",
              "      <td>38750.000000</td>\n",
              "      <td>38750.000000</td>\n",
              "      <td>38750.000000</td>\n",
              "    </tr>\n",
              "    <tr>\n",
              "      <th>mean</th>\n",
              "      <td>95.077469</td>\n",
              "      <td>2.780568</td>\n",
              "      <td>1.516860</td>\n",
              "      <td>1.554757</td>\n",
              "      <td>26.322994</td>\n",
              "      <td>32.874039</td>\n",
              "      <td>148.848284</td>\n",
              "      <td>25.373135</td>\n",
              "      <td>4.626053</td>\n",
              "      <td>4.740621</td>\n",
              "      <td>4.623132</td>\n",
              "      <td>4.811376</td>\n",
              "      <td>4.805671</td>\n",
              "      <td>4.724157</td>\n",
              "      <td>4.621473</td>\n",
              "    </tr>\n",
              "    <tr>\n",
              "      <th>std</th>\n",
              "      <td>5.415922</td>\n",
              "      <td>1.624631</td>\n",
              "      <td>0.446453</td>\n",
              "      <td>0.811567</td>\n",
              "      <td>15.690079</td>\n",
              "      <td>34.844344</td>\n",
              "      <td>142.250654</td>\n",
              "      <td>55.877476</td>\n",
              "      <td>0.636900</td>\n",
              "      <td>0.412740</td>\n",
              "      <td>0.476852</td>\n",
              "      <td>0.359257</td>\n",
              "      <td>0.385890</td>\n",
              "      <td>0.357005</td>\n",
              "      <td>0.445515</td>\n",
              "    </tr>\n",
              "    <tr>\n",
              "      <th>min</th>\n",
              "      <td>82.000000</td>\n",
              "      <td>1.000000</td>\n",
              "      <td>1.000000</td>\n",
              "      <td>1.000000</td>\n",
              "      <td>1.000000</td>\n",
              "      <td>0.000000</td>\n",
              "      <td>0.000000</td>\n",
              "      <td>0.000000</td>\n",
              "      <td>0.000000</td>\n",
              "      <td>0.000000</td>\n",
              "      <td>0.000000</td>\n",
              "      <td>0.000000</td>\n",
              "      <td>0.000000</td>\n",
              "      <td>0.000000</td>\n",
              "      <td>0.000000</td>\n",
              "    </tr>\n",
              "    <tr>\n",
              "      <th>25%</th>\n",
              "      <td>92.557264</td>\n",
              "      <td>2.000000</td>\n",
              "      <td>1.000000</td>\n",
              "      <td>1.000000</td>\n",
              "      <td>13.000000</td>\n",
              "      <td>0.000000</td>\n",
              "      <td>0.000000</td>\n",
              "      <td>0.000000</td>\n",
              "      <td>4.625896</td>\n",
              "      <td>4.740582</td>\n",
              "      <td>4.622926</td>\n",
              "      <td>4.811373</td>\n",
              "      <td>4.805698</td>\n",
              "      <td>4.720000</td>\n",
              "      <td>4.621431</td>\n",
              "    </tr>\n",
              "    <tr>\n",
              "      <th>50%</th>\n",
              "      <td>94.000000</td>\n",
              "      <td>2.000000</td>\n",
              "      <td>1.591403</td>\n",
              "      <td>1.000000</td>\n",
              "      <td>24.000000</td>\n",
              "      <td>20.000000</td>\n",
              "      <td>120.000000</td>\n",
              "      <td>4.000000</td>\n",
              "      <td>4.670000</td>\n",
              "      <td>4.750000</td>\n",
              "      <td>4.622926</td>\n",
              "      <td>4.840000</td>\n",
              "      <td>4.860000</td>\n",
              "      <td>4.724220</td>\n",
              "      <td>4.621431</td>\n",
              "    </tr>\n",
              "    <tr>\n",
              "      <th>75%</th>\n",
              "      <td>100.000000</td>\n",
              "      <td>4.000000</td>\n",
              "      <td>1.591403</td>\n",
              "      <td>2.000000</td>\n",
              "      <td>37.000000</td>\n",
              "      <td>64.000000</td>\n",
              "      <td>301.000000</td>\n",
              "      <td>24.000000</td>\n",
              "      <td>4.940000</td>\n",
              "      <td>4.970000</td>\n",
              "      <td>4.910000</td>\n",
              "      <td>5.000000</td>\n",
              "      <td>5.000000</td>\n",
              "      <td>4.960000</td>\n",
              "      <td>4.850000</td>\n",
              "    </tr>\n",
              "    <tr>\n",
              "      <th>max</th>\n",
              "      <td>100.000000</td>\n",
              "      <td>7.000000</td>\n",
              "      <td>2.478508</td>\n",
              "      <td>3.500000</td>\n",
              "      <td>101.000000</td>\n",
              "      <td>90.000000</td>\n",
              "      <td>365.000000</td>\n",
              "      <td>1843.000000</td>\n",
              "      <td>5.000000</td>\n",
              "      <td>5.000000</td>\n",
              "      <td>5.000000</td>\n",
              "      <td>5.000000</td>\n",
              "      <td>5.000000</td>\n",
              "      <td>5.000000</td>\n",
              "      <td>5.000000</td>\n",
              "    </tr>\n",
              "  </tbody>\n",
              "</table>\n",
              "</div>\n",
              "    <div class=\"colab-df-buttons\">\n",
              "\n",
              "  <div class=\"colab-df-container\">\n",
              "    <button class=\"colab-df-convert\" onclick=\"convertToInteractive('df-75fdd4dd-0277-4c82-aefa-290ec79016eb')\"\n",
              "            title=\"Convert this dataframe to an interactive table.\"\n",
              "            style=\"display:none;\">\n",
              "\n",
              "  <svg xmlns=\"http://www.w3.org/2000/svg\" height=\"24px\" viewBox=\"0 -960 960 960\">\n",
              "    <path d=\"M120-120v-720h720v720H120Zm60-500h600v-160H180v160Zm220 220h160v-160H400v160Zm0 220h160v-160H400v160ZM180-400h160v-160H180v160Zm440 0h160v-160H620v160ZM180-180h160v-160H180v160Zm440 0h160v-160H620v160Z\"/>\n",
              "  </svg>\n",
              "    </button>\n",
              "\n",
              "  <style>\n",
              "    .colab-df-container {\n",
              "      display:flex;\n",
              "      gap: 12px;\n",
              "    }\n",
              "\n",
              "    .colab-df-convert {\n",
              "      background-color: #E8F0FE;\n",
              "      border: none;\n",
              "      border-radius: 50%;\n",
              "      cursor: pointer;\n",
              "      display: none;\n",
              "      fill: #1967D2;\n",
              "      height: 32px;\n",
              "      padding: 0 0 0 0;\n",
              "      width: 32px;\n",
              "    }\n",
              "\n",
              "    .colab-df-convert:hover {\n",
              "      background-color: #E2EBFA;\n",
              "      box-shadow: 0px 1px 2px rgba(60, 64, 67, 0.3), 0px 1px 3px 1px rgba(60, 64, 67, 0.15);\n",
              "      fill: #174EA6;\n",
              "    }\n",
              "\n",
              "    .colab-df-buttons div {\n",
              "      margin-bottom: 4px;\n",
              "    }\n",
              "\n",
              "    [theme=dark] .colab-df-convert {\n",
              "      background-color: #3B4455;\n",
              "      fill: #D2E3FC;\n",
              "    }\n",
              "\n",
              "    [theme=dark] .colab-df-convert:hover {\n",
              "      background-color: #434B5C;\n",
              "      box-shadow: 0px 1px 3px 1px rgba(0, 0, 0, 0.15);\n",
              "      filter: drop-shadow(0px 1px 2px rgba(0, 0, 0, 0.3));\n",
              "      fill: #FFFFFF;\n",
              "    }\n",
              "  </style>\n",
              "\n",
              "    <script>\n",
              "      const buttonEl =\n",
              "        document.querySelector('#df-75fdd4dd-0277-4c82-aefa-290ec79016eb button.colab-df-convert');\n",
              "      buttonEl.style.display =\n",
              "        google.colab.kernel.accessAllowed ? 'block' : 'none';\n",
              "\n",
              "      async function convertToInteractive(key) {\n",
              "        const element = document.querySelector('#df-75fdd4dd-0277-4c82-aefa-290ec79016eb');\n",
              "        const dataTable =\n",
              "          await google.colab.kernel.invokeFunction('convertToInteractive',\n",
              "                                                    [key], {});\n",
              "        if (!dataTable) return;\n",
              "\n",
              "        const docLinkHtml = 'Like what you see? Visit the ' +\n",
              "          '<a target=\"_blank\" href=https://colab.research.google.com/notebooks/data_table.ipynb>data table notebook</a>'\n",
              "          + ' to learn more about interactive tables.';\n",
              "        element.innerHTML = '';\n",
              "        dataTable['output_type'] = 'display_data';\n",
              "        await google.colab.output.renderOutput(dataTable, element);\n",
              "        const docLink = document.createElement('div');\n",
              "        docLink.innerHTML = docLinkHtml;\n",
              "        element.appendChild(docLink);\n",
              "      }\n",
              "    </script>\n",
              "  </div>\n",
              "\n",
              "\n",
              "<div id=\"df-d24fc312-0a42-4c28-9898-7366189a9799\">\n",
              "  <button class=\"colab-df-quickchart\" onclick=\"quickchart('df-d24fc312-0a42-4c28-9898-7366189a9799')\"\n",
              "            title=\"Suggest charts\"\n",
              "            style=\"display:none;\">\n",
              "\n",
              "<svg xmlns=\"http://www.w3.org/2000/svg\" height=\"24px\"viewBox=\"0 0 24 24\"\n",
              "     width=\"24px\">\n",
              "    <g>\n",
              "        <path d=\"M19 3H5c-1.1 0-2 .9-2 2v14c0 1.1.9 2 2 2h14c1.1 0 2-.9 2-2V5c0-1.1-.9-2-2-2zM9 17H7v-7h2v7zm4 0h-2V7h2v10zm4 0h-2v-4h2v4z\"/>\n",
              "    </g>\n",
              "</svg>\n",
              "  </button>\n",
              "\n",
              "<style>\n",
              "  .colab-df-quickchart {\n",
              "      --bg-color: #E8F0FE;\n",
              "      --fill-color: #1967D2;\n",
              "      --hover-bg-color: #E2EBFA;\n",
              "      --hover-fill-color: #174EA6;\n",
              "      --disabled-fill-color: #AAA;\n",
              "      --disabled-bg-color: #DDD;\n",
              "  }\n",
              "\n",
              "  [theme=dark] .colab-df-quickchart {\n",
              "      --bg-color: #3B4455;\n",
              "      --fill-color: #D2E3FC;\n",
              "      --hover-bg-color: #434B5C;\n",
              "      --hover-fill-color: #FFFFFF;\n",
              "      --disabled-bg-color: #3B4455;\n",
              "      --disabled-fill-color: #666;\n",
              "  }\n",
              "\n",
              "  .colab-df-quickchart {\n",
              "    background-color: var(--bg-color);\n",
              "    border: none;\n",
              "    border-radius: 50%;\n",
              "    cursor: pointer;\n",
              "    display: none;\n",
              "    fill: var(--fill-color);\n",
              "    height: 32px;\n",
              "    padding: 0;\n",
              "    width: 32px;\n",
              "  }\n",
              "\n",
              "  .colab-df-quickchart:hover {\n",
              "    background-color: var(--hover-bg-color);\n",
              "    box-shadow: 0 1px 2px rgba(60, 64, 67, 0.3), 0 1px 3px 1px rgba(60, 64, 67, 0.15);\n",
              "    fill: var(--button-hover-fill-color);\n",
              "  }\n",
              "\n",
              "  .colab-df-quickchart-complete:disabled,\n",
              "  .colab-df-quickchart-complete:disabled:hover {\n",
              "    background-color: var(--disabled-bg-color);\n",
              "    fill: var(--disabled-fill-color);\n",
              "    box-shadow: none;\n",
              "  }\n",
              "\n",
              "  .colab-df-spinner {\n",
              "    border: 2px solid var(--fill-color);\n",
              "    border-color: transparent;\n",
              "    border-bottom-color: var(--fill-color);\n",
              "    animation:\n",
              "      spin 1s steps(1) infinite;\n",
              "  }\n",
              "\n",
              "  @keyframes spin {\n",
              "    0% {\n",
              "      border-color: transparent;\n",
              "      border-bottom-color: var(--fill-color);\n",
              "      border-left-color: var(--fill-color);\n",
              "    }\n",
              "    20% {\n",
              "      border-color: transparent;\n",
              "      border-left-color: var(--fill-color);\n",
              "      border-top-color: var(--fill-color);\n",
              "    }\n",
              "    30% {\n",
              "      border-color: transparent;\n",
              "      border-left-color: var(--fill-color);\n",
              "      border-top-color: var(--fill-color);\n",
              "      border-right-color: var(--fill-color);\n",
              "    }\n",
              "    40% {\n",
              "      border-color: transparent;\n",
              "      border-right-color: var(--fill-color);\n",
              "      border-top-color: var(--fill-color);\n",
              "    }\n",
              "    60% {\n",
              "      border-color: transparent;\n",
              "      border-right-color: var(--fill-color);\n",
              "    }\n",
              "    80% {\n",
              "      border-color: transparent;\n",
              "      border-right-color: var(--fill-color);\n",
              "      border-bottom-color: var(--fill-color);\n",
              "    }\n",
              "    90% {\n",
              "      border-color: transparent;\n",
              "      border-bottom-color: var(--fill-color);\n",
              "    }\n",
              "  }\n",
              "</style>\n",
              "\n",
              "  <script>\n",
              "    async function quickchart(key) {\n",
              "      const quickchartButtonEl =\n",
              "        document.querySelector('#' + key + ' button');\n",
              "      quickchartButtonEl.disabled = true;  // To prevent multiple clicks.\n",
              "      quickchartButtonEl.classList.add('colab-df-spinner');\n",
              "      try {\n",
              "        const charts = await google.colab.kernel.invokeFunction(\n",
              "            'suggestCharts', [key], {});\n",
              "      } catch (error) {\n",
              "        console.error('Error during call to suggestCharts:', error);\n",
              "      }\n",
              "      quickchartButtonEl.classList.remove('colab-df-spinner');\n",
              "      quickchartButtonEl.classList.add('colab-df-quickchart-complete');\n",
              "    }\n",
              "    (() => {\n",
              "      let quickchartButtonEl =\n",
              "        document.querySelector('#df-d24fc312-0a42-4c28-9898-7366189a9799 button');\n",
              "      quickchartButtonEl.style.display =\n",
              "        google.colab.kernel.accessAllowed ? 'block' : 'none';\n",
              "    })();\n",
              "  </script>\n",
              "</div>\n",
              "    </div>\n",
              "  </div>\n"
            ]
          },
          "metadata": {},
          "execution_count": 77
        }
      ]
    },
    {
      "cell_type": "code",
      "source": [
        "#구간 변수 왜도 확인\n",
        "interval_variable.skew()"
      ],
      "metadata": {
        "colab": {
          "base_uri": "https://localhost:8080/"
        },
        "id": "p_EEoDQmVBJ_",
        "outputId": "cf46dff4-2055-49c7-c2b8-ccc3714e6f1b"
      },
      "execution_count": 78,
      "outputs": [
        {
          "output_type": "execute_result",
          "data": {
            "text/plain": [
              "host_response_rate            -0.945186\n",
              "accommodates                   1.137820\n",
              "bedrooms                       0.429585\n",
              "beds                           1.223861\n",
              "amenities                      0.702635\n",
              "availability_90                0.446489\n",
              "availability_365               0.278259\n",
              "number_of_reviews              5.797354\n",
              "review_scores_rating          -5.266428\n",
              "review_scores_accuracy        -5.466128\n",
              "review_scores_cleanliness     -3.974320\n",
              "review_scores_checkin         -6.593173\n",
              "review_scores_communication   -6.247293\n",
              "review_scores_location        -4.989087\n",
              "review_scores_value           -4.309320\n",
              "dtype: float64"
            ]
          },
          "metadata": {},
          "execution_count": 78
        }
      ]
    },
    {
      "cell_type": "code",
      "source": [
        "\n",
        "#로그 변환 및 boxcox 변환\n",
        "import numpy as np\n",
        "import pandas as pd\n",
        "from scipy.stats import boxcox\n",
        "\n",
        "\n",
        "#로그 변환 및 boxcox 변환\n",
        "interval_variable['number_of_reviews'] = np.log(interval_variable['number_of_reviews'] + 1)\n",
        "interval_variable['review_scores_rating'] = pd.Series(boxcox(interval_variable['review_scores_rating'] + 0.1)[0])\n",
        "interval_variable['review_scores_accuracy'] = pd.Series(boxcox(interval_variable['review_scores_accuracy'] + 0.1)[0])\n",
        "interval_variable['review_scores_cleanliness'] = pd.Series(boxcox(interval_variable['review_scores_cleanliness'] + 0.1)[0])\n",
        "interval_variable['review_scores_checkin'] = pd.Series(boxcox(interval_variable['review_scores_checkin'] + 0.1)[0])\n",
        "interval_variable['review_scores_communication'] = pd.Series(boxcox(interval_variable['review_scores_communication'] + 0.1)[0])\n",
        "interval_variable['review_scores_location'] = pd.Series(boxcox(interval_variable['review_scores_location'] + 0.1)[0])\n",
        "interval_variable['review_scores_value'] = pd.Series(boxcox(interval_variable['review_scores_value'] + 0.1)[0])\n",
        "# skewness 확인\n",
        "interval_variable.skew()"
      ],
      "metadata": {
        "colab": {
          "base_uri": "https://localhost:8080/"
        },
        "id": "gXs8SSS0cJBj",
        "outputId": "07331e1f-54c7-439e-b814-539714c49727"
      },
      "execution_count": 79,
      "outputs": [
        {
          "output_type": "stream",
          "name": "stderr",
          "text": [
            "<ipython-input-79-7be3032669ef>:8: SettingWithCopyWarning: \n",
            "A value is trying to be set on a copy of a slice from a DataFrame.\n",
            "Try using .loc[row_indexer,col_indexer] = value instead\n",
            "\n",
            "See the caveats in the documentation: https://pandas.pydata.org/pandas-docs/stable/user_guide/indexing.html#returning-a-view-versus-a-copy\n",
            "  interval_variable['number_of_reviews'] = np.log(interval_variable['number_of_reviews'] + 1)\n",
            "<ipython-input-79-7be3032669ef>:9: SettingWithCopyWarning: \n",
            "A value is trying to be set on a copy of a slice from a DataFrame.\n",
            "Try using .loc[row_indexer,col_indexer] = value instead\n",
            "\n",
            "See the caveats in the documentation: https://pandas.pydata.org/pandas-docs/stable/user_guide/indexing.html#returning-a-view-versus-a-copy\n",
            "  interval_variable['review_scores_rating'] = pd.Series(boxcox(interval_variable['review_scores_rating'] + 0.1)[0])\n",
            "<ipython-input-79-7be3032669ef>:10: SettingWithCopyWarning: \n",
            "A value is trying to be set on a copy of a slice from a DataFrame.\n",
            "Try using .loc[row_indexer,col_indexer] = value instead\n",
            "\n",
            "See the caveats in the documentation: https://pandas.pydata.org/pandas-docs/stable/user_guide/indexing.html#returning-a-view-versus-a-copy\n",
            "  interval_variable['review_scores_accuracy'] = pd.Series(boxcox(interval_variable['review_scores_accuracy'] + 0.1)[0])\n",
            "<ipython-input-79-7be3032669ef>:11: SettingWithCopyWarning: \n",
            "A value is trying to be set on a copy of a slice from a DataFrame.\n",
            "Try using .loc[row_indexer,col_indexer] = value instead\n",
            "\n",
            "See the caveats in the documentation: https://pandas.pydata.org/pandas-docs/stable/user_guide/indexing.html#returning-a-view-versus-a-copy\n",
            "  interval_variable['review_scores_cleanliness'] = pd.Series(boxcox(interval_variable['review_scores_cleanliness'] + 0.1)[0])\n",
            "<ipython-input-79-7be3032669ef>:12: SettingWithCopyWarning: \n",
            "A value is trying to be set on a copy of a slice from a DataFrame.\n",
            "Try using .loc[row_indexer,col_indexer] = value instead\n",
            "\n",
            "See the caveats in the documentation: https://pandas.pydata.org/pandas-docs/stable/user_guide/indexing.html#returning-a-view-versus-a-copy\n",
            "  interval_variable['review_scores_checkin'] = pd.Series(boxcox(interval_variable['review_scores_checkin'] + 0.1)[0])\n",
            "<ipython-input-79-7be3032669ef>:13: SettingWithCopyWarning: \n",
            "A value is trying to be set on a copy of a slice from a DataFrame.\n",
            "Try using .loc[row_indexer,col_indexer] = value instead\n",
            "\n",
            "See the caveats in the documentation: https://pandas.pydata.org/pandas-docs/stable/user_guide/indexing.html#returning-a-view-versus-a-copy\n",
            "  interval_variable['review_scores_communication'] = pd.Series(boxcox(interval_variable['review_scores_communication'] + 0.1)[0])\n",
            "<ipython-input-79-7be3032669ef>:14: SettingWithCopyWarning: \n",
            "A value is trying to be set on a copy of a slice from a DataFrame.\n",
            "Try using .loc[row_indexer,col_indexer] = value instead\n",
            "\n",
            "See the caveats in the documentation: https://pandas.pydata.org/pandas-docs/stable/user_guide/indexing.html#returning-a-view-versus-a-copy\n",
            "  interval_variable['review_scores_location'] = pd.Series(boxcox(interval_variable['review_scores_location'] + 0.1)[0])\n",
            "<ipython-input-79-7be3032669ef>:15: SettingWithCopyWarning: \n",
            "A value is trying to be set on a copy of a slice from a DataFrame.\n",
            "Try using .loc[row_indexer,col_indexer] = value instead\n",
            "\n",
            "See the caveats in the documentation: https://pandas.pydata.org/pandas-docs/stable/user_guide/indexing.html#returning-a-view-versus-a-copy\n",
            "  interval_variable['review_scores_value'] = pd.Series(boxcox(interval_variable['review_scores_value'] + 0.1)[0])\n"
          ]
        },
        {
          "output_type": "execute_result",
          "data": {
            "text/plain": [
              "host_response_rate            -0.945186\n",
              "accommodates                   1.137820\n",
              "bedrooms                       0.429585\n",
              "beds                           1.223861\n",
              "amenities                      0.702635\n",
              "availability_90                0.446489\n",
              "availability_365               0.278259\n",
              "number_of_reviews              0.465076\n",
              "review_scores_rating          -1.014617\n",
              "review_scores_accuracy        -0.500392\n",
              "review_scores_cleanliness     -0.368958\n",
              "review_scores_checkin         -0.607583\n",
              "review_scores_communication   -0.672716\n",
              "review_scores_location        -0.303455\n",
              "review_scores_value           -0.282326\n",
              "dtype: float64"
            ]
          },
          "metadata": {},
          "execution_count": 79
        }
      ]
    },
    {
      "cell_type": "code",
      "source": [
        "interval_variable.kurtosis()"
      ],
      "metadata": {
        "colab": {
          "base_uri": "https://localhost:8080/"
        },
        "id": "ysUe-iSKVWWd",
        "outputId": "d79d1523-ba39-4c8b-ccb7-e14fdcbff06b"
      },
      "execution_count": 80,
      "outputs": [
        {
          "output_type": "execute_result",
          "data": {
            "text/plain": [
              "host_response_rate             0.221320\n",
              "accommodates                   0.476822\n",
              "bedrooms                      -0.516221\n",
              "beds                           0.197015\n",
              "amenities                     -0.096265\n",
              "availability_90               -1.426175\n",
              "availability_365              -1.569642\n",
              "number_of_reviews             -0.909421\n",
              "review_scores_rating           1.416735\n",
              "review_scores_accuracy        -0.162085\n",
              "review_scores_cleanliness     -0.302378\n",
              "review_scores_checkin         -0.117557\n",
              "review_scores_communication   -0.095757\n",
              "review_scores_location        -0.379508\n",
              "review_scores_value           -0.018438\n",
              "dtype: float64"
            ]
          },
          "metadata": {},
          "execution_count": 80
        }
      ]
    },
    {
      "cell_type": "markdown",
      "source": [
        "구간 변수 상관관계 검토"
      ],
      "metadata": {
        "id": "ZAPIdJbjhimQ"
      }
    },
    {
      "cell_type": "code",
      "source": [
        "round(interval_variable.corr(), 2)"
      ],
      "metadata": {
        "colab": {
          "base_uri": "https://localhost:8080/",
          "height": 540
        },
        "id": "AOl2ltD4CTRT",
        "outputId": "e6b4219d-21b7-4d48-e562-b51b10b03fda"
      },
      "execution_count": 81,
      "outputs": [
        {
          "output_type": "execute_result",
          "data": {
            "text/plain": [
              "                             host_response_rate  accommodates  bedrooms  beds  \\\n",
              "host_response_rate                         1.00          0.09      0.06  0.10   \n",
              "accommodates                               0.09          1.00      0.49  0.78   \n",
              "bedrooms                                   0.06          0.49      1.00  0.57   \n",
              "beds                                       0.10          0.78      0.57  1.00   \n",
              "amenities                                  0.27          0.23      0.13  0.25   \n",
              "availability_90                            0.11          0.12      0.09  0.12   \n",
              "availability_365                           0.14          0.13      0.10  0.14   \n",
              "number_of_reviews                          0.14          0.08      0.03  0.11   \n",
              "review_scores_rating                       0.10          0.01      0.00  0.02   \n",
              "review_scores_accuracy                     0.06         -0.02     -0.02 -0.01   \n",
              "review_scores_cleanliness                  0.10          0.03     -0.00  0.04   \n",
              "review_scores_checkin                      0.06         -0.02     -0.00  0.00   \n",
              "review_scores_communication                0.09         -0.01     -0.01  0.01   \n",
              "review_scores_location                    -0.01         -0.03     -0.07 -0.04   \n",
              "review_scores_value                        0.04         -0.03     -0.00 -0.00   \n",
              "\n",
              "                             amenities  availability_90  availability_365  \\\n",
              "host_response_rate                0.27             0.11              0.14   \n",
              "accommodates                      0.23             0.12              0.13   \n",
              "bedrooms                          0.13             0.09              0.10   \n",
              "beds                              0.25             0.12              0.14   \n",
              "amenities                         1.00             0.29              0.31   \n",
              "availability_90                   0.29             1.00              0.72   \n",
              "availability_365                  0.31             0.72              1.00   \n",
              "number_of_reviews                 0.39             0.13              0.11   \n",
              "review_scores_rating              0.23             0.01              0.01   \n",
              "review_scores_accuracy            0.15            -0.08             -0.08   \n",
              "review_scores_cleanliness         0.23             0.04              0.04   \n",
              "review_scores_checkin             0.13            -0.07             -0.06   \n",
              "review_scores_communication       0.15            -0.08             -0.08   \n",
              "review_scores_location            0.02            -0.12             -0.10   \n",
              "review_scores_value               0.12            -0.08             -0.10   \n",
              "\n",
              "                             number_of_reviews  review_scores_rating  \\\n",
              "host_response_rate                        0.14                  0.10   \n",
              "accommodates                              0.08                  0.01   \n",
              "bedrooms                                  0.03                  0.00   \n",
              "beds                                      0.11                  0.02   \n",
              "amenities                                 0.39                  0.23   \n",
              "availability_90                           0.13                  0.01   \n",
              "availability_365                          0.11                  0.01   \n",
              "number_of_reviews                         1.00                  0.20   \n",
              "review_scores_rating                      0.20                  1.00   \n",
              "review_scores_accuracy                    0.13                  0.73   \n",
              "review_scores_cleanliness                 0.17                  0.69   \n",
              "review_scores_checkin                     0.12                  0.61   \n",
              "review_scores_communication               0.15                  0.66   \n",
              "review_scores_location                    0.02                  0.46   \n",
              "review_scores_value                       0.13                  0.71   \n",
              "\n",
              "                             review_scores_accuracy  \\\n",
              "host_response_rate                             0.06   \n",
              "accommodates                                  -0.02   \n",
              "bedrooms                                      -0.02   \n",
              "beds                                          -0.01   \n",
              "amenities                                      0.15   \n",
              "availability_90                               -0.08   \n",
              "availability_365                              -0.08   \n",
              "number_of_reviews                              0.13   \n",
              "review_scores_rating                           0.73   \n",
              "review_scores_accuracy                         1.00   \n",
              "review_scores_cleanliness                      0.65   \n",
              "review_scores_checkin                          0.63   \n",
              "review_scores_communication                    0.65   \n",
              "review_scores_location                         0.46   \n",
              "review_scores_value                            0.70   \n",
              "\n",
              "                             review_scores_cleanliness  review_scores_checkin  \\\n",
              "host_response_rate                                0.10                   0.06   \n",
              "accommodates                                      0.03                  -0.02   \n",
              "bedrooms                                         -0.00                  -0.00   \n",
              "beds                                              0.04                   0.00   \n",
              "amenities                                         0.23                   0.13   \n",
              "availability_90                                   0.04                  -0.07   \n",
              "availability_365                                  0.04                  -0.06   \n",
              "number_of_reviews                                 0.17                   0.12   \n",
              "review_scores_rating                              0.69                   0.61   \n",
              "review_scores_accuracy                            0.65                   0.63   \n",
              "review_scores_cleanliness                         1.00                   0.51   \n",
              "review_scores_checkin                             0.51                   1.00   \n",
              "review_scores_communication                       0.52                   0.68   \n",
              "review_scores_location                            0.37                   0.42   \n",
              "review_scores_value                               0.61                   0.56   \n",
              "\n",
              "                             review_scores_communication  \\\n",
              "host_response_rate                                  0.09   \n",
              "accommodates                                       -0.01   \n",
              "bedrooms                                           -0.01   \n",
              "beds                                                0.01   \n",
              "amenities                                           0.15   \n",
              "availability_90                                    -0.08   \n",
              "availability_365                                   -0.08   \n",
              "number_of_reviews                                   0.15   \n",
              "review_scores_rating                                0.66   \n",
              "review_scores_accuracy                              0.65   \n",
              "review_scores_cleanliness                           0.52   \n",
              "review_scores_checkin                               0.68   \n",
              "review_scores_communication                         1.00   \n",
              "review_scores_location                              0.43   \n",
              "review_scores_value                                 0.60   \n",
              "\n",
              "                             review_scores_location  review_scores_value  \n",
              "host_response_rate                            -0.01                 0.04  \n",
              "accommodates                                  -0.03                -0.03  \n",
              "bedrooms                                      -0.07                -0.00  \n",
              "beds                                          -0.04                -0.00  \n",
              "amenities                                      0.02                 0.12  \n",
              "availability_90                               -0.12                -0.08  \n",
              "availability_365                              -0.10                -0.10  \n",
              "number_of_reviews                              0.02                 0.13  \n",
              "review_scores_rating                           0.46                 0.71  \n",
              "review_scores_accuracy                         0.46                 0.70  \n",
              "review_scores_cleanliness                      0.37                 0.61  \n",
              "review_scores_checkin                          0.42                 0.56  \n",
              "review_scores_communication                    0.43                 0.60  \n",
              "review_scores_location                         1.00                 0.46  \n",
              "review_scores_value                            0.46                 1.00  "
            ],
            "text/html": [
              "\n",
              "  <div id=\"df-1dc1247c-15e6-4f54-9c5d-620f3b2786dc\" class=\"colab-df-container\">\n",
              "    <div>\n",
              "<style scoped>\n",
              "    .dataframe tbody tr th:only-of-type {\n",
              "        vertical-align: middle;\n",
              "    }\n",
              "\n",
              "    .dataframe tbody tr th {\n",
              "        vertical-align: top;\n",
              "    }\n",
              "\n",
              "    .dataframe thead th {\n",
              "        text-align: right;\n",
              "    }\n",
              "</style>\n",
              "<table border=\"1\" class=\"dataframe\">\n",
              "  <thead>\n",
              "    <tr style=\"text-align: right;\">\n",
              "      <th></th>\n",
              "      <th>host_response_rate</th>\n",
              "      <th>accommodates</th>\n",
              "      <th>bedrooms</th>\n",
              "      <th>beds</th>\n",
              "      <th>amenities</th>\n",
              "      <th>availability_90</th>\n",
              "      <th>availability_365</th>\n",
              "      <th>number_of_reviews</th>\n",
              "      <th>review_scores_rating</th>\n",
              "      <th>review_scores_accuracy</th>\n",
              "      <th>review_scores_cleanliness</th>\n",
              "      <th>review_scores_checkin</th>\n",
              "      <th>review_scores_communication</th>\n",
              "      <th>review_scores_location</th>\n",
              "      <th>review_scores_value</th>\n",
              "    </tr>\n",
              "  </thead>\n",
              "  <tbody>\n",
              "    <tr>\n",
              "      <th>host_response_rate</th>\n",
              "      <td>1.00</td>\n",
              "      <td>0.09</td>\n",
              "      <td>0.06</td>\n",
              "      <td>0.10</td>\n",
              "      <td>0.27</td>\n",
              "      <td>0.11</td>\n",
              "      <td>0.14</td>\n",
              "      <td>0.14</td>\n",
              "      <td>0.10</td>\n",
              "      <td>0.06</td>\n",
              "      <td>0.10</td>\n",
              "      <td>0.06</td>\n",
              "      <td>0.09</td>\n",
              "      <td>-0.01</td>\n",
              "      <td>0.04</td>\n",
              "    </tr>\n",
              "    <tr>\n",
              "      <th>accommodates</th>\n",
              "      <td>0.09</td>\n",
              "      <td>1.00</td>\n",
              "      <td>0.49</td>\n",
              "      <td>0.78</td>\n",
              "      <td>0.23</td>\n",
              "      <td>0.12</td>\n",
              "      <td>0.13</td>\n",
              "      <td>0.08</td>\n",
              "      <td>0.01</td>\n",
              "      <td>-0.02</td>\n",
              "      <td>0.03</td>\n",
              "      <td>-0.02</td>\n",
              "      <td>-0.01</td>\n",
              "      <td>-0.03</td>\n",
              "      <td>-0.03</td>\n",
              "    </tr>\n",
              "    <tr>\n",
              "      <th>bedrooms</th>\n",
              "      <td>0.06</td>\n",
              "      <td>0.49</td>\n",
              "      <td>1.00</td>\n",
              "      <td>0.57</td>\n",
              "      <td>0.13</td>\n",
              "      <td>0.09</td>\n",
              "      <td>0.10</td>\n",
              "      <td>0.03</td>\n",
              "      <td>0.00</td>\n",
              "      <td>-0.02</td>\n",
              "      <td>-0.00</td>\n",
              "      <td>-0.00</td>\n",
              "      <td>-0.01</td>\n",
              "      <td>-0.07</td>\n",
              "      <td>-0.00</td>\n",
              "    </tr>\n",
              "    <tr>\n",
              "      <th>beds</th>\n",
              "      <td>0.10</td>\n",
              "      <td>0.78</td>\n",
              "      <td>0.57</td>\n",
              "      <td>1.00</td>\n",
              "      <td>0.25</td>\n",
              "      <td>0.12</td>\n",
              "      <td>0.14</td>\n",
              "      <td>0.11</td>\n",
              "      <td>0.02</td>\n",
              "      <td>-0.01</td>\n",
              "      <td>0.04</td>\n",
              "      <td>0.00</td>\n",
              "      <td>0.01</td>\n",
              "      <td>-0.04</td>\n",
              "      <td>-0.00</td>\n",
              "    </tr>\n",
              "    <tr>\n",
              "      <th>amenities</th>\n",
              "      <td>0.27</td>\n",
              "      <td>0.23</td>\n",
              "      <td>0.13</td>\n",
              "      <td>0.25</td>\n",
              "      <td>1.00</td>\n",
              "      <td>0.29</td>\n",
              "      <td>0.31</td>\n",
              "      <td>0.39</td>\n",
              "      <td>0.23</td>\n",
              "      <td>0.15</td>\n",
              "      <td>0.23</td>\n",
              "      <td>0.13</td>\n",
              "      <td>0.15</td>\n",
              "      <td>0.02</td>\n",
              "      <td>0.12</td>\n",
              "    </tr>\n",
              "    <tr>\n",
              "      <th>availability_90</th>\n",
              "      <td>0.11</td>\n",
              "      <td>0.12</td>\n",
              "      <td>0.09</td>\n",
              "      <td>0.12</td>\n",
              "      <td>0.29</td>\n",
              "      <td>1.00</td>\n",
              "      <td>0.72</td>\n",
              "      <td>0.13</td>\n",
              "      <td>0.01</td>\n",
              "      <td>-0.08</td>\n",
              "      <td>0.04</td>\n",
              "      <td>-0.07</td>\n",
              "      <td>-0.08</td>\n",
              "      <td>-0.12</td>\n",
              "      <td>-0.08</td>\n",
              "    </tr>\n",
              "    <tr>\n",
              "      <th>availability_365</th>\n",
              "      <td>0.14</td>\n",
              "      <td>0.13</td>\n",
              "      <td>0.10</td>\n",
              "      <td>0.14</td>\n",
              "      <td>0.31</td>\n",
              "      <td>0.72</td>\n",
              "      <td>1.00</td>\n",
              "      <td>0.11</td>\n",
              "      <td>0.01</td>\n",
              "      <td>-0.08</td>\n",
              "      <td>0.04</td>\n",
              "      <td>-0.06</td>\n",
              "      <td>-0.08</td>\n",
              "      <td>-0.10</td>\n",
              "      <td>-0.10</td>\n",
              "    </tr>\n",
              "    <tr>\n",
              "      <th>number_of_reviews</th>\n",
              "      <td>0.14</td>\n",
              "      <td>0.08</td>\n",
              "      <td>0.03</td>\n",
              "      <td>0.11</td>\n",
              "      <td>0.39</td>\n",
              "      <td>0.13</td>\n",
              "      <td>0.11</td>\n",
              "      <td>1.00</td>\n",
              "      <td>0.20</td>\n",
              "      <td>0.13</td>\n",
              "      <td>0.17</td>\n",
              "      <td>0.12</td>\n",
              "      <td>0.15</td>\n",
              "      <td>0.02</td>\n",
              "      <td>0.13</td>\n",
              "    </tr>\n",
              "    <tr>\n",
              "      <th>review_scores_rating</th>\n",
              "      <td>0.10</td>\n",
              "      <td>0.01</td>\n",
              "      <td>0.00</td>\n",
              "      <td>0.02</td>\n",
              "      <td>0.23</td>\n",
              "      <td>0.01</td>\n",
              "      <td>0.01</td>\n",
              "      <td>0.20</td>\n",
              "      <td>1.00</td>\n",
              "      <td>0.73</td>\n",
              "      <td>0.69</td>\n",
              "      <td>0.61</td>\n",
              "      <td>0.66</td>\n",
              "      <td>0.46</td>\n",
              "      <td>0.71</td>\n",
              "    </tr>\n",
              "    <tr>\n",
              "      <th>review_scores_accuracy</th>\n",
              "      <td>0.06</td>\n",
              "      <td>-0.02</td>\n",
              "      <td>-0.02</td>\n",
              "      <td>-0.01</td>\n",
              "      <td>0.15</td>\n",
              "      <td>-0.08</td>\n",
              "      <td>-0.08</td>\n",
              "      <td>0.13</td>\n",
              "      <td>0.73</td>\n",
              "      <td>1.00</td>\n",
              "      <td>0.65</td>\n",
              "      <td>0.63</td>\n",
              "      <td>0.65</td>\n",
              "      <td>0.46</td>\n",
              "      <td>0.70</td>\n",
              "    </tr>\n",
              "    <tr>\n",
              "      <th>review_scores_cleanliness</th>\n",
              "      <td>0.10</td>\n",
              "      <td>0.03</td>\n",
              "      <td>-0.00</td>\n",
              "      <td>0.04</td>\n",
              "      <td>0.23</td>\n",
              "      <td>0.04</td>\n",
              "      <td>0.04</td>\n",
              "      <td>0.17</td>\n",
              "      <td>0.69</td>\n",
              "      <td>0.65</td>\n",
              "      <td>1.00</td>\n",
              "      <td>0.51</td>\n",
              "      <td>0.52</td>\n",
              "      <td>0.37</td>\n",
              "      <td>0.61</td>\n",
              "    </tr>\n",
              "    <tr>\n",
              "      <th>review_scores_checkin</th>\n",
              "      <td>0.06</td>\n",
              "      <td>-0.02</td>\n",
              "      <td>-0.00</td>\n",
              "      <td>0.00</td>\n",
              "      <td>0.13</td>\n",
              "      <td>-0.07</td>\n",
              "      <td>-0.06</td>\n",
              "      <td>0.12</td>\n",
              "      <td>0.61</td>\n",
              "      <td>0.63</td>\n",
              "      <td>0.51</td>\n",
              "      <td>1.00</td>\n",
              "      <td>0.68</td>\n",
              "      <td>0.42</td>\n",
              "      <td>0.56</td>\n",
              "    </tr>\n",
              "    <tr>\n",
              "      <th>review_scores_communication</th>\n",
              "      <td>0.09</td>\n",
              "      <td>-0.01</td>\n",
              "      <td>-0.01</td>\n",
              "      <td>0.01</td>\n",
              "      <td>0.15</td>\n",
              "      <td>-0.08</td>\n",
              "      <td>-0.08</td>\n",
              "      <td>0.15</td>\n",
              "      <td>0.66</td>\n",
              "      <td>0.65</td>\n",
              "      <td>0.52</td>\n",
              "      <td>0.68</td>\n",
              "      <td>1.00</td>\n",
              "      <td>0.43</td>\n",
              "      <td>0.60</td>\n",
              "    </tr>\n",
              "    <tr>\n",
              "      <th>review_scores_location</th>\n",
              "      <td>-0.01</td>\n",
              "      <td>-0.03</td>\n",
              "      <td>-0.07</td>\n",
              "      <td>-0.04</td>\n",
              "      <td>0.02</td>\n",
              "      <td>-0.12</td>\n",
              "      <td>-0.10</td>\n",
              "      <td>0.02</td>\n",
              "      <td>0.46</td>\n",
              "      <td>0.46</td>\n",
              "      <td>0.37</td>\n",
              "      <td>0.42</td>\n",
              "      <td>0.43</td>\n",
              "      <td>1.00</td>\n",
              "      <td>0.46</td>\n",
              "    </tr>\n",
              "    <tr>\n",
              "      <th>review_scores_value</th>\n",
              "      <td>0.04</td>\n",
              "      <td>-0.03</td>\n",
              "      <td>-0.00</td>\n",
              "      <td>-0.00</td>\n",
              "      <td>0.12</td>\n",
              "      <td>-0.08</td>\n",
              "      <td>-0.10</td>\n",
              "      <td>0.13</td>\n",
              "      <td>0.71</td>\n",
              "      <td>0.70</td>\n",
              "      <td>0.61</td>\n",
              "      <td>0.56</td>\n",
              "      <td>0.60</td>\n",
              "      <td>0.46</td>\n",
              "      <td>1.00</td>\n",
              "    </tr>\n",
              "  </tbody>\n",
              "</table>\n",
              "</div>\n",
              "    <div class=\"colab-df-buttons\">\n",
              "\n",
              "  <div class=\"colab-df-container\">\n",
              "    <button class=\"colab-df-convert\" onclick=\"convertToInteractive('df-1dc1247c-15e6-4f54-9c5d-620f3b2786dc')\"\n",
              "            title=\"Convert this dataframe to an interactive table.\"\n",
              "            style=\"display:none;\">\n",
              "\n",
              "  <svg xmlns=\"http://www.w3.org/2000/svg\" height=\"24px\" viewBox=\"0 -960 960 960\">\n",
              "    <path d=\"M120-120v-720h720v720H120Zm60-500h600v-160H180v160Zm220 220h160v-160H400v160Zm0 220h160v-160H400v160ZM180-400h160v-160H180v160Zm440 0h160v-160H620v160ZM180-180h160v-160H180v160Zm440 0h160v-160H620v160Z\"/>\n",
              "  </svg>\n",
              "    </button>\n",
              "\n",
              "  <style>\n",
              "    .colab-df-container {\n",
              "      display:flex;\n",
              "      gap: 12px;\n",
              "    }\n",
              "\n",
              "    .colab-df-convert {\n",
              "      background-color: #E8F0FE;\n",
              "      border: none;\n",
              "      border-radius: 50%;\n",
              "      cursor: pointer;\n",
              "      display: none;\n",
              "      fill: #1967D2;\n",
              "      height: 32px;\n",
              "      padding: 0 0 0 0;\n",
              "      width: 32px;\n",
              "    }\n",
              "\n",
              "    .colab-df-convert:hover {\n",
              "      background-color: #E2EBFA;\n",
              "      box-shadow: 0px 1px 2px rgba(60, 64, 67, 0.3), 0px 1px 3px 1px rgba(60, 64, 67, 0.15);\n",
              "      fill: #174EA6;\n",
              "    }\n",
              "\n",
              "    .colab-df-buttons div {\n",
              "      margin-bottom: 4px;\n",
              "    }\n",
              "\n",
              "    [theme=dark] .colab-df-convert {\n",
              "      background-color: #3B4455;\n",
              "      fill: #D2E3FC;\n",
              "    }\n",
              "\n",
              "    [theme=dark] .colab-df-convert:hover {\n",
              "      background-color: #434B5C;\n",
              "      box-shadow: 0px 1px 3px 1px rgba(0, 0, 0, 0.15);\n",
              "      filter: drop-shadow(0px 1px 2px rgba(0, 0, 0, 0.3));\n",
              "      fill: #FFFFFF;\n",
              "    }\n",
              "  </style>\n",
              "\n",
              "    <script>\n",
              "      const buttonEl =\n",
              "        document.querySelector('#df-1dc1247c-15e6-4f54-9c5d-620f3b2786dc button.colab-df-convert');\n",
              "      buttonEl.style.display =\n",
              "        google.colab.kernel.accessAllowed ? 'block' : 'none';\n",
              "\n",
              "      async function convertToInteractive(key) {\n",
              "        const element = document.querySelector('#df-1dc1247c-15e6-4f54-9c5d-620f3b2786dc');\n",
              "        const dataTable =\n",
              "          await google.colab.kernel.invokeFunction('convertToInteractive',\n",
              "                                                    [key], {});\n",
              "        if (!dataTable) return;\n",
              "\n",
              "        const docLinkHtml = 'Like what you see? Visit the ' +\n",
              "          '<a target=\"_blank\" href=https://colab.research.google.com/notebooks/data_table.ipynb>data table notebook</a>'\n",
              "          + ' to learn more about interactive tables.';\n",
              "        element.innerHTML = '';\n",
              "        dataTable['output_type'] = 'display_data';\n",
              "        await google.colab.output.renderOutput(dataTable, element);\n",
              "        const docLink = document.createElement('div');\n",
              "        docLink.innerHTML = docLinkHtml;\n",
              "        element.appendChild(docLink);\n",
              "      }\n",
              "    </script>\n",
              "  </div>\n",
              "\n",
              "\n",
              "<div id=\"df-3ee6fb31-9ed3-4616-8d66-13e7fd76ea87\">\n",
              "  <button class=\"colab-df-quickchart\" onclick=\"quickchart('df-3ee6fb31-9ed3-4616-8d66-13e7fd76ea87')\"\n",
              "            title=\"Suggest charts\"\n",
              "            style=\"display:none;\">\n",
              "\n",
              "<svg xmlns=\"http://www.w3.org/2000/svg\" height=\"24px\"viewBox=\"0 0 24 24\"\n",
              "     width=\"24px\">\n",
              "    <g>\n",
              "        <path d=\"M19 3H5c-1.1 0-2 .9-2 2v14c0 1.1.9 2 2 2h14c1.1 0 2-.9 2-2V5c0-1.1-.9-2-2-2zM9 17H7v-7h2v7zm4 0h-2V7h2v10zm4 0h-2v-4h2v4z\"/>\n",
              "    </g>\n",
              "</svg>\n",
              "  </button>\n",
              "\n",
              "<style>\n",
              "  .colab-df-quickchart {\n",
              "      --bg-color: #E8F0FE;\n",
              "      --fill-color: #1967D2;\n",
              "      --hover-bg-color: #E2EBFA;\n",
              "      --hover-fill-color: #174EA6;\n",
              "      --disabled-fill-color: #AAA;\n",
              "      --disabled-bg-color: #DDD;\n",
              "  }\n",
              "\n",
              "  [theme=dark] .colab-df-quickchart {\n",
              "      --bg-color: #3B4455;\n",
              "      --fill-color: #D2E3FC;\n",
              "      --hover-bg-color: #434B5C;\n",
              "      --hover-fill-color: #FFFFFF;\n",
              "      --disabled-bg-color: #3B4455;\n",
              "      --disabled-fill-color: #666;\n",
              "  }\n",
              "\n",
              "  .colab-df-quickchart {\n",
              "    background-color: var(--bg-color);\n",
              "    border: none;\n",
              "    border-radius: 50%;\n",
              "    cursor: pointer;\n",
              "    display: none;\n",
              "    fill: var(--fill-color);\n",
              "    height: 32px;\n",
              "    padding: 0;\n",
              "    width: 32px;\n",
              "  }\n",
              "\n",
              "  .colab-df-quickchart:hover {\n",
              "    background-color: var(--hover-bg-color);\n",
              "    box-shadow: 0 1px 2px rgba(60, 64, 67, 0.3), 0 1px 3px 1px rgba(60, 64, 67, 0.15);\n",
              "    fill: var(--button-hover-fill-color);\n",
              "  }\n",
              "\n",
              "  .colab-df-quickchart-complete:disabled,\n",
              "  .colab-df-quickchart-complete:disabled:hover {\n",
              "    background-color: var(--disabled-bg-color);\n",
              "    fill: var(--disabled-fill-color);\n",
              "    box-shadow: none;\n",
              "  }\n",
              "\n",
              "  .colab-df-spinner {\n",
              "    border: 2px solid var(--fill-color);\n",
              "    border-color: transparent;\n",
              "    border-bottom-color: var(--fill-color);\n",
              "    animation:\n",
              "      spin 1s steps(1) infinite;\n",
              "  }\n",
              "\n",
              "  @keyframes spin {\n",
              "    0% {\n",
              "      border-color: transparent;\n",
              "      border-bottom-color: var(--fill-color);\n",
              "      border-left-color: var(--fill-color);\n",
              "    }\n",
              "    20% {\n",
              "      border-color: transparent;\n",
              "      border-left-color: var(--fill-color);\n",
              "      border-top-color: var(--fill-color);\n",
              "    }\n",
              "    30% {\n",
              "      border-color: transparent;\n",
              "      border-left-color: var(--fill-color);\n",
              "      border-top-color: var(--fill-color);\n",
              "      border-right-color: var(--fill-color);\n",
              "    }\n",
              "    40% {\n",
              "      border-color: transparent;\n",
              "      border-right-color: var(--fill-color);\n",
              "      border-top-color: var(--fill-color);\n",
              "    }\n",
              "    60% {\n",
              "      border-color: transparent;\n",
              "      border-right-color: var(--fill-color);\n",
              "    }\n",
              "    80% {\n",
              "      border-color: transparent;\n",
              "      border-right-color: var(--fill-color);\n",
              "      border-bottom-color: var(--fill-color);\n",
              "    }\n",
              "    90% {\n",
              "      border-color: transparent;\n",
              "      border-bottom-color: var(--fill-color);\n",
              "    }\n",
              "  }\n",
              "</style>\n",
              "\n",
              "  <script>\n",
              "    async function quickchart(key) {\n",
              "      const quickchartButtonEl =\n",
              "        document.querySelector('#' + key + ' button');\n",
              "      quickchartButtonEl.disabled = true;  // To prevent multiple clicks.\n",
              "      quickchartButtonEl.classList.add('colab-df-spinner');\n",
              "      try {\n",
              "        const charts = await google.colab.kernel.invokeFunction(\n",
              "            'suggestCharts', [key], {});\n",
              "      } catch (error) {\n",
              "        console.error('Error during call to suggestCharts:', error);\n",
              "      }\n",
              "      quickchartButtonEl.classList.remove('colab-df-spinner');\n",
              "      quickchartButtonEl.classList.add('colab-df-quickchart-complete');\n",
              "    }\n",
              "    (() => {\n",
              "      let quickchartButtonEl =\n",
              "        document.querySelector('#df-3ee6fb31-9ed3-4616-8d66-13e7fd76ea87 button');\n",
              "      quickchartButtonEl.style.display =\n",
              "        google.colab.kernel.accessAllowed ? 'block' : 'none';\n",
              "    })();\n",
              "  </script>\n",
              "</div>\n",
              "    </div>\n",
              "  </div>\n"
            ]
          },
          "metadata": {},
          "execution_count": 81
        }
      ]
    },
    {
      "cell_type": "markdown",
      "source": [
        "구간 변수 기초 통계량 및 시각화"
      ],
      "metadata": {
        "id": "TbrkWbhLGILk"
      }
    },
    {
      "cell_type": "markdown",
      "source": [
        "기초 통계량"
      ],
      "metadata": {
        "id": "ypuJ9Zq0PEnT"
      }
    },
    {
      "cell_type": "code",
      "source": [
        "interval_variable = preprocessing_completed[['host_response_rate', 'latitude', 'longitude', 'accommodates', 'bedrooms', 'beds', 'amenities', 'availability_90', 'availability_365', 'number_of_reviews', 'review_scores_rating', 'review_scores_accuracy',\n",
        "                                            'review_scores_cleanliness', 'review_scores_checkin', 'review_scores_communication', 'review_scores_location', 'review_scores_value', 'price']]\n",
        "interval_variable.describe()"
      ],
      "metadata": {
        "colab": {
          "base_uri": "https://localhost:8080/",
          "height": 320
        },
        "id": "HWCJCwM-GK3s",
        "outputId": "19e96164-fa86-4daa-aa0e-3669ce6eaef7"
      },
      "execution_count": 82,
      "outputs": [
        {
          "output_type": "execute_result",
          "data": {
            "text/plain": [
              "       host_response_rate      latitude     longitude  accommodates  \\\n",
              "count        38750.000000  38750.000000  38750.000000  38750.000000   \n",
              "mean            95.077469     40.729383    -73.945808      2.780568   \n",
              "std              5.415922      0.056735      0.055128      1.624631   \n",
              "min             82.000000     40.500314    -74.251907      1.000000   \n",
              "25%             92.557264     40.688790    -73.982800      2.000000   \n",
              "50%             94.000000     40.726275    -73.953870      2.000000   \n",
              "75%            100.000000     40.762690    -73.926191      4.000000   \n",
              "max            100.000000     40.911380    -73.713650      7.000000   \n",
              "\n",
              "           bedrooms          beds     amenities  availability_90  \\\n",
              "count  38750.000000  38750.000000  38750.000000     38750.000000   \n",
              "mean       1.516860      1.554757     26.322994        32.874039   \n",
              "std        0.446453      0.811567     15.690079        34.844344   \n",
              "min        1.000000      1.000000      1.000000         0.000000   \n",
              "25%        1.000000      1.000000     13.000000         0.000000   \n",
              "50%        1.591403      1.000000     24.000000        20.000000   \n",
              "75%        1.591403      2.000000     37.000000        64.000000   \n",
              "max        2.478508      3.500000    101.000000        90.000000   \n",
              "\n",
              "       availability_365  number_of_reviews  review_scores_rating  \\\n",
              "count      38750.000000       38750.000000          38750.000000   \n",
              "mean         148.848284          25.373135              4.626053   \n",
              "std          142.250654          55.877476              0.636900   \n",
              "min            0.000000           0.000000              0.000000   \n",
              "25%            0.000000           0.000000              4.625896   \n",
              "50%          120.000000           4.000000              4.670000   \n",
              "75%          301.000000          24.000000              4.940000   \n",
              "max          365.000000        1843.000000              5.000000   \n",
              "\n",
              "       review_scores_accuracy  review_scores_cleanliness  \\\n",
              "count            38750.000000               38750.000000   \n",
              "mean                 4.740621                   4.623132   \n",
              "std                  0.412740                   0.476852   \n",
              "min                  0.000000                   0.000000   \n",
              "25%                  4.740582                   4.622926   \n",
              "50%                  4.750000                   4.622926   \n",
              "75%                  4.970000                   4.910000   \n",
              "max                  5.000000                   5.000000   \n",
              "\n",
              "       review_scores_checkin  review_scores_communication  \\\n",
              "count           38750.000000                 38750.000000   \n",
              "mean                4.811376                     4.805671   \n",
              "std                 0.359257                     0.385890   \n",
              "min                 0.000000                     0.000000   \n",
              "25%                 4.811373                     4.805698   \n",
              "50%                 4.840000                     4.860000   \n",
              "75%                 5.000000                     5.000000   \n",
              "max                 5.000000                     5.000000   \n",
              "\n",
              "       review_scores_location  review_scores_value         price  \n",
              "count            38750.000000         38750.000000  38750.000000  \n",
              "mean                 4.724157             4.621473    215.959381  \n",
              "std                  0.357005             0.445515    496.167553  \n",
              "min                  0.000000             0.000000      8.000000  \n",
              "25%                  4.720000             4.621431     79.000000  \n",
              "50%                  4.724220             4.621431    135.000000  \n",
              "75%                  4.960000             4.850000    225.000000  \n",
              "max                  5.000000             5.000000  30000.000000  "
            ],
            "text/html": [
              "\n",
              "  <div id=\"df-728c38e4-b643-4a38-8a17-262e578c7f12\" class=\"colab-df-container\">\n",
              "    <div>\n",
              "<style scoped>\n",
              "    .dataframe tbody tr th:only-of-type {\n",
              "        vertical-align: middle;\n",
              "    }\n",
              "\n",
              "    .dataframe tbody tr th {\n",
              "        vertical-align: top;\n",
              "    }\n",
              "\n",
              "    .dataframe thead th {\n",
              "        text-align: right;\n",
              "    }\n",
              "</style>\n",
              "<table border=\"1\" class=\"dataframe\">\n",
              "  <thead>\n",
              "    <tr style=\"text-align: right;\">\n",
              "      <th></th>\n",
              "      <th>host_response_rate</th>\n",
              "      <th>latitude</th>\n",
              "      <th>longitude</th>\n",
              "      <th>accommodates</th>\n",
              "      <th>bedrooms</th>\n",
              "      <th>beds</th>\n",
              "      <th>amenities</th>\n",
              "      <th>availability_90</th>\n",
              "      <th>availability_365</th>\n",
              "      <th>number_of_reviews</th>\n",
              "      <th>review_scores_rating</th>\n",
              "      <th>review_scores_accuracy</th>\n",
              "      <th>review_scores_cleanliness</th>\n",
              "      <th>review_scores_checkin</th>\n",
              "      <th>review_scores_communication</th>\n",
              "      <th>review_scores_location</th>\n",
              "      <th>review_scores_value</th>\n",
              "      <th>price</th>\n",
              "    </tr>\n",
              "  </thead>\n",
              "  <tbody>\n",
              "    <tr>\n",
              "      <th>count</th>\n",
              "      <td>38750.000000</td>\n",
              "      <td>38750.000000</td>\n",
              "      <td>38750.000000</td>\n",
              "      <td>38750.000000</td>\n",
              "      <td>38750.000000</td>\n",
              "      <td>38750.000000</td>\n",
              "      <td>38750.000000</td>\n",
              "      <td>38750.000000</td>\n",
              "      <td>38750.000000</td>\n",
              "      <td>38750.000000</td>\n",
              "      <td>38750.000000</td>\n",
              "      <td>38750.000000</td>\n",
              "      <td>38750.000000</td>\n",
              "      <td>38750.000000</td>\n",
              "      <td>38750.000000</td>\n",
              "      <td>38750.000000</td>\n",
              "      <td>38750.000000</td>\n",
              "      <td>38750.000000</td>\n",
              "    </tr>\n",
              "    <tr>\n",
              "      <th>mean</th>\n",
              "      <td>95.077469</td>\n",
              "      <td>40.729383</td>\n",
              "      <td>-73.945808</td>\n",
              "      <td>2.780568</td>\n",
              "      <td>1.516860</td>\n",
              "      <td>1.554757</td>\n",
              "      <td>26.322994</td>\n",
              "      <td>32.874039</td>\n",
              "      <td>148.848284</td>\n",
              "      <td>25.373135</td>\n",
              "      <td>4.626053</td>\n",
              "      <td>4.740621</td>\n",
              "      <td>4.623132</td>\n",
              "      <td>4.811376</td>\n",
              "      <td>4.805671</td>\n",
              "      <td>4.724157</td>\n",
              "      <td>4.621473</td>\n",
              "      <td>215.959381</td>\n",
              "    </tr>\n",
              "    <tr>\n",
              "      <th>std</th>\n",
              "      <td>5.415922</td>\n",
              "      <td>0.056735</td>\n",
              "      <td>0.055128</td>\n",
              "      <td>1.624631</td>\n",
              "      <td>0.446453</td>\n",
              "      <td>0.811567</td>\n",
              "      <td>15.690079</td>\n",
              "      <td>34.844344</td>\n",
              "      <td>142.250654</td>\n",
              "      <td>55.877476</td>\n",
              "      <td>0.636900</td>\n",
              "      <td>0.412740</td>\n",
              "      <td>0.476852</td>\n",
              "      <td>0.359257</td>\n",
              "      <td>0.385890</td>\n",
              "      <td>0.357005</td>\n",
              "      <td>0.445515</td>\n",
              "      <td>496.167553</td>\n",
              "    </tr>\n",
              "    <tr>\n",
              "      <th>min</th>\n",
              "      <td>82.000000</td>\n",
              "      <td>40.500314</td>\n",
              "      <td>-74.251907</td>\n",
              "      <td>1.000000</td>\n",
              "      <td>1.000000</td>\n",
              "      <td>1.000000</td>\n",
              "      <td>1.000000</td>\n",
              "      <td>0.000000</td>\n",
              "      <td>0.000000</td>\n",
              "      <td>0.000000</td>\n",
              "      <td>0.000000</td>\n",
              "      <td>0.000000</td>\n",
              "      <td>0.000000</td>\n",
              "      <td>0.000000</td>\n",
              "      <td>0.000000</td>\n",
              "      <td>0.000000</td>\n",
              "      <td>0.000000</td>\n",
              "      <td>8.000000</td>\n",
              "    </tr>\n",
              "    <tr>\n",
              "      <th>25%</th>\n",
              "      <td>92.557264</td>\n",
              "      <td>40.688790</td>\n",
              "      <td>-73.982800</td>\n",
              "      <td>2.000000</td>\n",
              "      <td>1.000000</td>\n",
              "      <td>1.000000</td>\n",
              "      <td>13.000000</td>\n",
              "      <td>0.000000</td>\n",
              "      <td>0.000000</td>\n",
              "      <td>0.000000</td>\n",
              "      <td>4.625896</td>\n",
              "      <td>4.740582</td>\n",
              "      <td>4.622926</td>\n",
              "      <td>4.811373</td>\n",
              "      <td>4.805698</td>\n",
              "      <td>4.720000</td>\n",
              "      <td>4.621431</td>\n",
              "      <td>79.000000</td>\n",
              "    </tr>\n",
              "    <tr>\n",
              "      <th>50%</th>\n",
              "      <td>94.000000</td>\n",
              "      <td>40.726275</td>\n",
              "      <td>-73.953870</td>\n",
              "      <td>2.000000</td>\n",
              "      <td>1.591403</td>\n",
              "      <td>1.000000</td>\n",
              "      <td>24.000000</td>\n",
              "      <td>20.000000</td>\n",
              "      <td>120.000000</td>\n",
              "      <td>4.000000</td>\n",
              "      <td>4.670000</td>\n",
              "      <td>4.750000</td>\n",
              "      <td>4.622926</td>\n",
              "      <td>4.840000</td>\n",
              "      <td>4.860000</td>\n",
              "      <td>4.724220</td>\n",
              "      <td>4.621431</td>\n",
              "      <td>135.000000</td>\n",
              "    </tr>\n",
              "    <tr>\n",
              "      <th>75%</th>\n",
              "      <td>100.000000</td>\n",
              "      <td>40.762690</td>\n",
              "      <td>-73.926191</td>\n",
              "      <td>4.000000</td>\n",
              "      <td>1.591403</td>\n",
              "      <td>2.000000</td>\n",
              "      <td>37.000000</td>\n",
              "      <td>64.000000</td>\n",
              "      <td>301.000000</td>\n",
              "      <td>24.000000</td>\n",
              "      <td>4.940000</td>\n",
              "      <td>4.970000</td>\n",
              "      <td>4.910000</td>\n",
              "      <td>5.000000</td>\n",
              "      <td>5.000000</td>\n",
              "      <td>4.960000</td>\n",
              "      <td>4.850000</td>\n",
              "      <td>225.000000</td>\n",
              "    </tr>\n",
              "    <tr>\n",
              "      <th>max</th>\n",
              "      <td>100.000000</td>\n",
              "      <td>40.911380</td>\n",
              "      <td>-73.713650</td>\n",
              "      <td>7.000000</td>\n",
              "      <td>2.478508</td>\n",
              "      <td>3.500000</td>\n",
              "      <td>101.000000</td>\n",
              "      <td>90.000000</td>\n",
              "      <td>365.000000</td>\n",
              "      <td>1843.000000</td>\n",
              "      <td>5.000000</td>\n",
              "      <td>5.000000</td>\n",
              "      <td>5.000000</td>\n",
              "      <td>5.000000</td>\n",
              "      <td>5.000000</td>\n",
              "      <td>5.000000</td>\n",
              "      <td>5.000000</td>\n",
              "      <td>30000.000000</td>\n",
              "    </tr>\n",
              "  </tbody>\n",
              "</table>\n",
              "</div>\n",
              "    <div class=\"colab-df-buttons\">\n",
              "\n",
              "  <div class=\"colab-df-container\">\n",
              "    <button class=\"colab-df-convert\" onclick=\"convertToInteractive('df-728c38e4-b643-4a38-8a17-262e578c7f12')\"\n",
              "            title=\"Convert this dataframe to an interactive table.\"\n",
              "            style=\"display:none;\">\n",
              "\n",
              "  <svg xmlns=\"http://www.w3.org/2000/svg\" height=\"24px\" viewBox=\"0 -960 960 960\">\n",
              "    <path d=\"M120-120v-720h720v720H120Zm60-500h600v-160H180v160Zm220 220h160v-160H400v160Zm0 220h160v-160H400v160ZM180-400h160v-160H180v160Zm440 0h160v-160H620v160ZM180-180h160v-160H180v160Zm440 0h160v-160H620v160Z\"/>\n",
              "  </svg>\n",
              "    </button>\n",
              "\n",
              "  <style>\n",
              "    .colab-df-container {\n",
              "      display:flex;\n",
              "      gap: 12px;\n",
              "    }\n",
              "\n",
              "    .colab-df-convert {\n",
              "      background-color: #E8F0FE;\n",
              "      border: none;\n",
              "      border-radius: 50%;\n",
              "      cursor: pointer;\n",
              "      display: none;\n",
              "      fill: #1967D2;\n",
              "      height: 32px;\n",
              "      padding: 0 0 0 0;\n",
              "      width: 32px;\n",
              "    }\n",
              "\n",
              "    .colab-df-convert:hover {\n",
              "      background-color: #E2EBFA;\n",
              "      box-shadow: 0px 1px 2px rgba(60, 64, 67, 0.3), 0px 1px 3px 1px rgba(60, 64, 67, 0.15);\n",
              "      fill: #174EA6;\n",
              "    }\n",
              "\n",
              "    .colab-df-buttons div {\n",
              "      margin-bottom: 4px;\n",
              "    }\n",
              "\n",
              "    [theme=dark] .colab-df-convert {\n",
              "      background-color: #3B4455;\n",
              "      fill: #D2E3FC;\n",
              "    }\n",
              "\n",
              "    [theme=dark] .colab-df-convert:hover {\n",
              "      background-color: #434B5C;\n",
              "      box-shadow: 0px 1px 3px 1px rgba(0, 0, 0, 0.15);\n",
              "      filter: drop-shadow(0px 1px 2px rgba(0, 0, 0, 0.3));\n",
              "      fill: #FFFFFF;\n",
              "    }\n",
              "  </style>\n",
              "\n",
              "    <script>\n",
              "      const buttonEl =\n",
              "        document.querySelector('#df-728c38e4-b643-4a38-8a17-262e578c7f12 button.colab-df-convert');\n",
              "      buttonEl.style.display =\n",
              "        google.colab.kernel.accessAllowed ? 'block' : 'none';\n",
              "\n",
              "      async function convertToInteractive(key) {\n",
              "        const element = document.querySelector('#df-728c38e4-b643-4a38-8a17-262e578c7f12');\n",
              "        const dataTable =\n",
              "          await google.colab.kernel.invokeFunction('convertToInteractive',\n",
              "                                                    [key], {});\n",
              "        if (!dataTable) return;\n",
              "\n",
              "        const docLinkHtml = 'Like what you see? Visit the ' +\n",
              "          '<a target=\"_blank\" href=https://colab.research.google.com/notebooks/data_table.ipynb>data table notebook</a>'\n",
              "          + ' to learn more about interactive tables.';\n",
              "        element.innerHTML = '';\n",
              "        dataTable['output_type'] = 'display_data';\n",
              "        await google.colab.output.renderOutput(dataTable, element);\n",
              "        const docLink = document.createElement('div');\n",
              "        docLink.innerHTML = docLinkHtml;\n",
              "        element.appendChild(docLink);\n",
              "      }\n",
              "    </script>\n",
              "  </div>\n",
              "\n",
              "\n",
              "<div id=\"df-b088f5c0-38bb-41c8-9693-ad6f72278ae6\">\n",
              "  <button class=\"colab-df-quickchart\" onclick=\"quickchart('df-b088f5c0-38bb-41c8-9693-ad6f72278ae6')\"\n",
              "            title=\"Suggest charts\"\n",
              "            style=\"display:none;\">\n",
              "\n",
              "<svg xmlns=\"http://www.w3.org/2000/svg\" height=\"24px\"viewBox=\"0 0 24 24\"\n",
              "     width=\"24px\">\n",
              "    <g>\n",
              "        <path d=\"M19 3H5c-1.1 0-2 .9-2 2v14c0 1.1.9 2 2 2h14c1.1 0 2-.9 2-2V5c0-1.1-.9-2-2-2zM9 17H7v-7h2v7zm4 0h-2V7h2v10zm4 0h-2v-4h2v4z\"/>\n",
              "    </g>\n",
              "</svg>\n",
              "  </button>\n",
              "\n",
              "<style>\n",
              "  .colab-df-quickchart {\n",
              "      --bg-color: #E8F0FE;\n",
              "      --fill-color: #1967D2;\n",
              "      --hover-bg-color: #E2EBFA;\n",
              "      --hover-fill-color: #174EA6;\n",
              "      --disabled-fill-color: #AAA;\n",
              "      --disabled-bg-color: #DDD;\n",
              "  }\n",
              "\n",
              "  [theme=dark] .colab-df-quickchart {\n",
              "      --bg-color: #3B4455;\n",
              "      --fill-color: #D2E3FC;\n",
              "      --hover-bg-color: #434B5C;\n",
              "      --hover-fill-color: #FFFFFF;\n",
              "      --disabled-bg-color: #3B4455;\n",
              "      --disabled-fill-color: #666;\n",
              "  }\n",
              "\n",
              "  .colab-df-quickchart {\n",
              "    background-color: var(--bg-color);\n",
              "    border: none;\n",
              "    border-radius: 50%;\n",
              "    cursor: pointer;\n",
              "    display: none;\n",
              "    fill: var(--fill-color);\n",
              "    height: 32px;\n",
              "    padding: 0;\n",
              "    width: 32px;\n",
              "  }\n",
              "\n",
              "  .colab-df-quickchart:hover {\n",
              "    background-color: var(--hover-bg-color);\n",
              "    box-shadow: 0 1px 2px rgba(60, 64, 67, 0.3), 0 1px 3px 1px rgba(60, 64, 67, 0.15);\n",
              "    fill: var(--button-hover-fill-color);\n",
              "  }\n",
              "\n",
              "  .colab-df-quickchart-complete:disabled,\n",
              "  .colab-df-quickchart-complete:disabled:hover {\n",
              "    background-color: var(--disabled-bg-color);\n",
              "    fill: var(--disabled-fill-color);\n",
              "    box-shadow: none;\n",
              "  }\n",
              "\n",
              "  .colab-df-spinner {\n",
              "    border: 2px solid var(--fill-color);\n",
              "    border-color: transparent;\n",
              "    border-bottom-color: var(--fill-color);\n",
              "    animation:\n",
              "      spin 1s steps(1) infinite;\n",
              "  }\n",
              "\n",
              "  @keyframes spin {\n",
              "    0% {\n",
              "      border-color: transparent;\n",
              "      border-bottom-color: var(--fill-color);\n",
              "      border-left-color: var(--fill-color);\n",
              "    }\n",
              "    20% {\n",
              "      border-color: transparent;\n",
              "      border-left-color: var(--fill-color);\n",
              "      border-top-color: var(--fill-color);\n",
              "    }\n",
              "    30% {\n",
              "      border-color: transparent;\n",
              "      border-left-color: var(--fill-color);\n",
              "      border-top-color: var(--fill-color);\n",
              "      border-right-color: var(--fill-color);\n",
              "    }\n",
              "    40% {\n",
              "      border-color: transparent;\n",
              "      border-right-color: var(--fill-color);\n",
              "      border-top-color: var(--fill-color);\n",
              "    }\n",
              "    60% {\n",
              "      border-color: transparent;\n",
              "      border-right-color: var(--fill-color);\n",
              "    }\n",
              "    80% {\n",
              "      border-color: transparent;\n",
              "      border-right-color: var(--fill-color);\n",
              "      border-bottom-color: var(--fill-color);\n",
              "    }\n",
              "    90% {\n",
              "      border-color: transparent;\n",
              "      border-bottom-color: var(--fill-color);\n",
              "    }\n",
              "  }\n",
              "</style>\n",
              "\n",
              "  <script>\n",
              "    async function quickchart(key) {\n",
              "      const quickchartButtonEl =\n",
              "        document.querySelector('#' + key + ' button');\n",
              "      quickchartButtonEl.disabled = true;  // To prevent multiple clicks.\n",
              "      quickchartButtonEl.classList.add('colab-df-spinner');\n",
              "      try {\n",
              "        const charts = await google.colab.kernel.invokeFunction(\n",
              "            'suggestCharts', [key], {});\n",
              "      } catch (error) {\n",
              "        console.error('Error during call to suggestCharts:', error);\n",
              "      }\n",
              "      quickchartButtonEl.classList.remove('colab-df-spinner');\n",
              "      quickchartButtonEl.classList.add('colab-df-quickchart-complete');\n",
              "    }\n",
              "    (() => {\n",
              "      let quickchartButtonEl =\n",
              "        document.querySelector('#df-b088f5c0-38bb-41c8-9693-ad6f72278ae6 button');\n",
              "      quickchartButtonEl.style.display =\n",
              "        google.colab.kernel.accessAllowed ? 'block' : 'none';\n",
              "    })();\n",
              "  </script>\n",
              "</div>\n",
              "    </div>\n",
              "  </div>\n"
            ]
          },
          "metadata": {},
          "execution_count": 82
        }
      ]
    },
    {
      "cell_type": "markdown",
      "source": [
        "시각화 - 박스 플롯으로 변수의 분포 확인"
      ],
      "metadata": {
        "id": "S6bCt8H2PKWb"
      }
    },
    {
      "cell_type": "code",
      "source": [
        "import matplotlib.pyplot as plt\n",
        "import seaborn as sns\n",
        "sns.set_style('whitegrid')\n",
        "\n",
        "fig, axes = plt.subplots(1, 3, figsize=(15, 4))\n",
        "\n",
        "sns.boxplot(ax = axes[0], x = 'host_response_rate', data = interval_variable)\n",
        "sns.boxplot(ax = axes[1], x = 'latitude', data = interval_variable)\n",
        "sns.boxplot(ax = axes[2], x = 'longitude', data = interval_variable)\n",
        "\n",
        "fig, axes = plt.subplots(1, 3, figsize=(15, 4))\n",
        "\n",
        "sns.boxplot(ax = axes[0], x = 'accommodates', data = interval_variable)\n",
        "sns.boxplot(ax = axes[1], x = 'bedrooms', data = interval_variable)\n",
        "sns.boxplot(ax = axes[2], x = 'beds', data = interval_variable)\n",
        "\n",
        "fig, axes = plt.subplots(1, 3, figsize=(15, 4))\n",
        "\n",
        "sns.boxplot(ax = axes[0], x = 'availability_90', data = interval_variable)\n",
        "sns.boxplot(ax = axes[1], x = 'availability_365', data = interval_variable)\n",
        "sns.boxplot(ax = axes[2], x = 'number_of_reviews', data = interval_variable)\n",
        "\n",
        "fig, axes = plt.subplots(1, 3, figsize=(15, 4))\n",
        "\n",
        "sns.boxplot(ax = axes[0], x = 'amenities', data = interval_variable)\n",
        "sns.boxplot(ax = axes[1], x = 'review_scores_rating', data = interval_variable)\n",
        "sns.boxplot(ax = axes[2], x = 'review_scores_accuracy', data = interval_variable)\n",
        "\n",
        "fig, axes = plt.subplots(1, 3, figsize=(15, 4))\n",
        "\n",
        "sns.boxplot(ax = axes[0], x = 'review_scores_cleanliness', data = interval_variable)\n",
        "sns.boxplot(ax = axes[1], x = 'review_scores_checkin', data = interval_variable)\n",
        "sns.boxplot(ax = axes[2], x = 'review_scores_communication', data = interval_variable)\n",
        "\n",
        "fig, axes = plt.subplots(1, 2, figsize=(15, 4))\n",
        "\n",
        "sns.boxplot(ax = axes[0], x = 'review_scores_location', data = interval_variable)\n",
        "sns.boxplot(ax = axes[1], x = 'review_scores_value', data = interval_variable)"
      ],
      "metadata": {
        "colab": {
          "base_uri": "https://localhost:8080/",
          "height": 1000
        },
        "id": "1T1SAinFPS5X",
        "outputId": "de956afa-d8fb-4412-97e7-d5725ec184c7"
      },
      "execution_count": 83,
      "outputs": [
        {
          "output_type": "execute_result",
          "data": {
            "text/plain": [
              "<Axes: xlabel='review_scores_value'>"
            ]
          },
          "metadata": {},
          "execution_count": 83
        },
        {
          "output_type": "display_data",
          "data": {
            "text/plain": [
              "<Figure size 1500x400 with 3 Axes>"
            ],
            "image/png": "[encoded data removed]"
          },
          "metadata": {}
        },
        {
          "output_type": "display_data",
          "data": {
            "text/plain": [
              "<Figure size 1500x400 with 3 Axes>"
            ],
            "image/png": "[encoded data removed]"
          },
          "metadata": {}
        },
        {
          "output_type": "display_data",
          "data": {
            "text/plain": [
              "<Figure size 1500x400 with 3 Axes>"
            ],
            "image/png": "[encoded data removed]"
          },
          "metadata": {}
        },
        {
          "output_type": "display_data",
          "data": {
            "text/plain": [
              "<Figure size 1500x400 with 3 Axes>"
            ],
            "image/png": "[encoded data removed]"
          },
          "metadata": {}
        },
        {
          "output_type": "display_data",
          "data": {
            "text/plain": [
              "<Figure size 1500x400 with 3 Axes>"
            ],
            "image/png": "[encoded data removed]"
          },
          "metadata": {}
        },
        {
          "output_type": "display_data",
          "data": {
            "text/plain": [
              "<Figure size 1500x400 with 2 Axes>"
            ],
            "image/png": "[encoded data removed]"
          },
          "metadata": {}
        }
      ]
    },
    {
      "cell_type": "markdown",
      "source": [
        "시각화2 - 히트맵으로 상관계수 관계 확인"
      ],
      "metadata": {
        "id": "cW5pp-tLP_Hp"
      }
    },
    {
      "cell_type": "code",
      "source": [
        "plt.figure(figsize=(20,7))\n",
        "sns.heatmap(interval_variable.corr(), annot=True, fmt=\".2f\", cmap=\"Blues\")"
      ],
      "metadata": {
        "colab": {
          "base_uri": "https://localhost:8080/",
          "height": 820
        },
        "id": "eic_BIWkQOK9",
        "outputId": "4616fb02-845f-4d90-d809-db3178caaf7c"
      },
      "execution_count": 84,
      "outputs": [
        {
          "output_type": "execute_result",
          "data": {
            "text/plain": [
              "<Axes: >"
            ]
          },
          "metadata": {},
          "execution_count": 84
        },
        {
          "output_type": "display_data",
          "data": {
            "text/plain": [
              "<Figure size 2000x700 with 2 Axes>"
            ],
            "image/png": "[encoded data removed]"
          },
          "metadata": {}
        }
      ]
    },
    {
      "cell_type": "markdown",
      "source": [
        "범주형 변수 시각화"
      ],
      "metadata": {
        "id": "SJ1gOYvsDv3h"
      }
    },
    {
      "cell_type": "markdown",
      "source": [
        "시각화 3 - 막대그래프로 변수 구성 확인"
      ],
      "metadata": {
        "id": "3-q0v_yQHjXj"
      }
    },
    {
      "cell_type": "code",
      "source": [
        "categorical_variable = preprocessing_completed[['host_response_time', 'host_is_superhost', 'neighbourhood_group_cleansed', 'room_type', 'bathrooms_text', 'instant_bookable', 'price_B']]\n",
        "\n",
        "fig, axes = plt.subplots(2, 3, figsize=(20, 10))\n",
        "\n",
        "for i, col in enumerate(categorical_variable.columns[:-1]):\n",
        "    sns.countplot(x=col, data=categorical_variable, ax=axes[i//3, i%3])\n",
        "    axes[i//3, i%3].set_title(col)\n",
        "    axes[i//3, i%3].tick_params(axis='x', rotation=90)\n",
        "\n",
        "plt.tight_layout()\n",
        "\n",
        "plt.show()"
      ],
      "metadata": {
        "colab": {
          "base_uri": "https://localhost:8080/",
          "height": 911
        },
        "id": "IltKso3QHpxI",
        "outputId": "68c39926-c021-4a60-b262-8510ee5975c5"
      },
      "execution_count": 85,
      "outputs": [
        {
          "output_type": "display_data",
          "data": {
            "text/plain": [
              "<Figure size 2000x1000 with 6 Axes>"
            ],
            "image/png": "[encoded data removed]"
          },
          "metadata": {}
        }
      ]
    },
    {
      "cell_type": "code",
      "source": [
        "#host_response_time\n",
        "#frequency table 생성(개수 기준)\n",
        "print(pd.crosstab(categorical_variable['host_response_time'], columns='count'))\n",
        "print()\n",
        "#frequency table 생성(비율 기준)\n",
        "print(pd.crosstab(categorical_variable['host_response_time'], categorical_variable['price_B'], normalize=True))"
      ],
      "metadata": {
        "colab": {
          "base_uri": "https://localhost:8080/"
        },
        "id": "VMbN7l96atI3",
        "outputId": "42080f70-cc30-40be-a4e3-a87da84d1ddc"
      },
      "execution_count": 86,
      "outputs": [
        {
          "output_type": "stream",
          "name": "stdout",
          "text": [
            "col_0               count\n",
            "host_response_time       \n",
            "a few days or more  14117\n",
            "within a day         3267\n",
            "within a few hours   4900\n",
            "within an hour      16466\n",
            "\n",
            "price_B                  0.0       1.0\n",
            "host_response_time                    \n",
            "a few days or more  0.212155  0.152155\n",
            "within a day        0.042039  0.042271\n",
            "within a few hours  0.070632  0.055819\n",
            "within an hour      0.173677  0.251252\n"
          ]
        }
      ]
    },
    {
      "cell_type": "code",
      "source": [
        "#host_is_superhost\n",
        "#frequency table 생성(개수 기준)\n",
        "print(pd.crosstab(categorical_variable['host_is_superhost'], columns='count'))\n",
        "print()\n",
        "#frequency table 생성(비율 기준)\n",
        "print(pd.crosstab(categorical_variable['host_is_superhost'], categorical_variable['price_B'], normalize=True))"
      ],
      "metadata": {
        "colab": {
          "base_uri": "https://localhost:8080/"
        },
        "id": "Pcs5MhkMdm2a",
        "outputId": "ee812c88-4ab7-4dac-950e-a07cde8290d0"
      },
      "execution_count": 87,
      "outputs": [
        {
          "output_type": "stream",
          "name": "stdout",
          "text": [
            "col_0              count\n",
            "host_is_superhost       \n",
            "f                  30804\n",
            "t                   7946\n",
            "\n",
            "price_B                 0.0       1.0\n",
            "host_is_superhost                    \n",
            "f                  0.404955  0.389987\n",
            "t                  0.093548  0.111510\n"
          ]
        }
      ]
    },
    {
      "cell_type": "code",
      "source": [
        "#neighbourhood_group_cleansed\n",
        "#frequency table 생성(개수 기준)\n",
        "print(pd.crosstab(categorical_variable['neighbourhood_group_cleansed'], columns='count'))\n",
        "print()\n",
        "#frequency table 생성(비율 기준)\n",
        "print(pd.crosstab(categorical_variable['neighbourhood_group_cleansed'], categorical_variable['price_B'], normalize=True))"
      ],
      "metadata": {
        "colab": {
          "base_uri": "https://localhost:8080/"
        },
        "id": "SERzhYjadnhH",
        "outputId": "af75b0cb-967d-48f7-adc3-0b62be758a22"
      },
      "execution_count": 88,
      "outputs": [
        {
          "output_type": "stream",
          "name": "stdout",
          "text": [
            "col_0                         count\n",
            "neighbourhood_group_cleansed       \n",
            "Bronx                          1373\n",
            "Brooklyn                      14177\n",
            "Manhattan                     16882\n",
            "Queens                         5946\n",
            "Staten Island                   372\n",
            "\n",
            "price_B                            0.0       1.0\n",
            "neighbourhood_group_cleansed                    \n",
            "Bronx                         0.025884  0.009548\n",
            "Brooklyn                      0.212981  0.152877\n",
            "Manhattan                     0.144516  0.291148\n",
            "Queens                        0.108387  0.045058\n",
            "Staten Island                 0.006735  0.002865\n"
          ]
        }
      ]
    },
    {
      "cell_type": "code",
      "source": [
        "#room_type\n",
        "#frequency table 생성(개수 기준)\n",
        "print(pd.crosstab(categorical_variable['room_type'], columns='count'))\n",
        "print()\n",
        "#frequency table 생성(비율 기준)\n",
        "print(pd.crosstab(categorical_variable['room_type'], categorical_variable['price_B'], normalize=True))"
      ],
      "metadata": {
        "colab": {
          "base_uri": "https://localhost:8080/"
        },
        "id": "f0GUeeQrdn9E",
        "outputId": "b30eafc1-a264-442e-e06f-c9933f30b1b1"
      },
      "execution_count": 89,
      "outputs": [
        {
          "output_type": "stream",
          "name": "stdout",
          "text": [
            "col_0            count\n",
            "room_type             \n",
            "Entire home/apt  21311\n",
            "Hotel room         129\n",
            "Private room     16818\n",
            "Shared room        492\n",
            "\n",
            "price_B               0.0       1.0\n",
            "room_type                          \n",
            "Entire home/apt  0.145084  0.404877\n",
            "Hotel room       0.000000  0.003329\n",
            "Private room     0.343794  0.090219\n",
            "Shared room      0.009626  0.003071\n"
          ]
        }
      ]
    },
    {
      "cell_type": "code",
      "source": [
        "#bathrooms_text\n",
        "#frequency table 생성(개수 기준)\n",
        "print(pd.crosstab(categorical_variable['bathrooms_text'], columns='count'))\n",
        "print()\n",
        "#frequency table 생성(비율 기준)\n",
        "print(pd.crosstab(categorical_variable['bathrooms_text'], categorical_variable['price_B'], normalize=True))"
      ],
      "metadata": {
        "colab": {
          "base_uri": "https://localhost:8080/"
        },
        "id": "mweeKxusdpJr",
        "outputId": "f65dab72-0971-4c94-9358-bf3665db4f1c"
      },
      "execution_count": 90,
      "outputs": [
        {
          "output_type": "stream",
          "name": "stdout",
          "text": [
            "col_0             count\n",
            "bathrooms_text         \n",
            "0 baths              59\n",
            "0 shared baths      446\n",
            "0.5 bath             54\n",
            "0.5 shared bath      13\n",
            "1 bath            22974\n",
            "1 shared bath      8306\n",
            "1.5 baths          1092\n",
            "1.5 shared baths    613\n",
            "15.5 baths            1\n",
            "2 baths            2830\n",
            "2 shared baths     1144\n",
            "2.5 baths           367\n",
            "2.5 shared baths     72\n",
            "3 baths             382\n",
            "3 shared baths       83\n",
            "3.5 baths            79\n",
            "3.5 shared baths      1\n",
            "4 baths             133\n",
            "4 shared baths       30\n",
            "4.5 baths            36\n",
            "4.5 shared baths      2\n",
            "5 baths              14\n",
            "5.5 baths             3\n",
            "5.5 shared baths      1\n",
            "6 baths               6\n",
            "6 shared baths        1\n",
            "6.5 baths             5\n",
            "7 baths               1\n",
            "8 baths               1\n",
            "8.5 baths             1\n",
            "\n",
            "price_B                0.0       1.0\n",
            "bathrooms_text                      \n",
            "0 baths           0.000568  0.000955\n",
            "0 shared baths    0.009497  0.002013\n",
            "0.5 bath          0.000723  0.000671\n",
            "0.5 shared bath   0.000335  0.000000\n",
            "1 bath            0.228439  0.364439\n",
            "1 shared bath     0.189006  0.025342\n",
            "1.5 baths         0.009342  0.018839\n",
            "1.5 shared baths  0.014090  0.001729\n",
            "15.5 baths        0.000000  0.000026\n",
            "2 baths           0.011819  0.061213\n",
            "2 shared baths    0.027768  0.001755\n",
            "2.5 baths         0.000774  0.008697\n",
            "2.5 shared baths  0.001755  0.000103\n",
            "3 baths           0.001110  0.008748\n",
            "3 shared baths    0.002065  0.000077\n",
            "3.5 baths         0.000026  0.002013\n",
            "3.5 shared baths  0.000026  0.000000\n",
            "4 baths           0.000387  0.003045\n",
            "4 shared baths    0.000748  0.000026\n",
            "4.5 baths         0.000000  0.000929\n",
            "4.5 shared baths  0.000026  0.000026\n",
            "5 baths           0.000000  0.000361\n",
            "5.5 baths         0.000000  0.000077\n",
            "5.5 shared baths  0.000000  0.000026\n",
            "6 baths           0.000000  0.000155\n",
            "6 shared baths    0.000000  0.000026\n",
            "6.5 baths         0.000000  0.000129\n",
            "7 baths           0.000000  0.000026\n",
            "8 baths           0.000000  0.000026\n",
            "8.5 baths         0.000000  0.000026\n"
          ]
        }
      ]
    },
    {
      "cell_type": "code",
      "source": [
        "#instant_bookable\n",
        "#frequency table 생성(개수 기준)\n",
        "print(pd.crosstab(categorical_variable['instant_bookable'], columns='count'))\n",
        "print()\n",
        "#frequency table 생성(비율 기준)\n",
        "print(pd.crosstab(categorical_variable['instant_bookable'], categorical_variable['price_B'], normalize=True))"
      ],
      "metadata": {
        "colab": {
          "base_uri": "https://localhost:8080/"
        },
        "id": "xJQShXFxd6-b",
        "outputId": "087aeaee-434e-4643-bd11-5f89af6b48fa"
      },
      "execution_count": 91,
      "outputs": [
        {
          "output_type": "stream",
          "name": "stdout",
          "text": [
            "col_0             count\n",
            "instant_bookable       \n",
            "f                 31128\n",
            "t                  7622\n",
            "\n",
            "price_B                0.0       1.0\n",
            "instant_bookable                    \n",
            "f                 0.422865  0.380439\n",
            "t                 0.075639  0.121058\n"
          ]
        }
      ]
    },
    {
      "cell_type": "markdown",
      "source": [
        "구간 변수 t검정"
      ],
      "metadata": {
        "id": "FONOrOnXh-xk"
      }
    },
    {
      "cell_type": "code",
      "source": [
        "from scipy import stats\n",
        "# host_response_rate t-검정\n",
        "data_host_response_rate_1 = interval_variable[categorical_variable['price_B'] == 1]['host_response_rate']\n",
        "data_host_response_rate_0 = interval_variable[categorical_variable['price_B'] == 0]['host_response_rate']\n",
        "\n",
        "stats.ttest_ind(data_host_response_rate_1, data_host_response_rate_0)"
      ],
      "metadata": {
        "colab": {
          "base_uri": "https://localhost:8080/"
        },
        "id": "fPGjqhdSo72K",
        "outputId": "3421b700-b6d5-4657-a965-2b7393b3bce3"
      },
      "execution_count": 92,
      "outputs": [
        {
          "output_type": "execute_result",
          "data": {
            "text/plain": [
              "TtestResult(statistic=17.308295410091635, pvalue=7.273842649171194e-67, df=38748.0)"
            ]
          },
          "metadata": {},
          "execution_count": 92
        }
      ]
    },
    {
      "cell_type": "markdown",
      "source": [
        "pvalue가 0.05보다 작으므로 귀무가설 기각\n",
        "두 그룹의 host_response_rate는 서로 다르다"
      ],
      "metadata": {
        "id": "_F1S4MQ6UciN"
      }
    },
    {
      "cell_type": "code",
      "source": [
        "# accommodates t-검정\n",
        "data_accommodates_1 = interval_variable[categorical_variable['price_B'] == 1]['accommodates']\n",
        "data_accommodates_0 = interval_variable[categorical_variable['price_B'] == 0]['accommodates']\n",
        "\n",
        "stats.ttest_ind(data_accommodates_1, data_accommodates_0)"
      ],
      "metadata": {
        "colab": {
          "base_uri": "https://localhost:8080/"
        },
        "id": "4-tqK3eru8zy",
        "outputId": "a17e3347-ca6d-4123-a0f8-43b8b0fb29d5"
      },
      "execution_count": 93,
      "outputs": [
        {
          "output_type": "execute_result",
          "data": {
            "text/plain": [
              "TtestResult(statistic=105.85739454056018, pvalue=0.0, df=38748.0)"
            ]
          },
          "metadata": {},
          "execution_count": 93
        }
      ]
    },
    {
      "cell_type": "markdown",
      "source": [
        "pvalue가 0.05보다 작으므로 귀무가설 기각\n",
        "두 그룹의 accommodates는 서로 다르다"
      ],
      "metadata": {
        "id": "YG0oJELEVIgN"
      }
    },
    {
      "cell_type": "code",
      "source": [
        "# bedrooms t-검정\n",
        "data_bedrooms_1 = interval_variable[categorical_variable['price_B'] == 1]['bedrooms']\n",
        "data_bedrooms_0 = interval_variable[categorical_variable['price_B'] == 0]['bedrooms']\n",
        "\n",
        "stats.ttest_ind(data_bedrooms_1, data_bedrooms_0)"
      ],
      "metadata": {
        "colab": {
          "base_uri": "https://localhost:8080/"
        },
        "id": "2tI-Fxcov0eX",
        "outputId": "beb4aeb8-6744-416c-9523-9282200c1956"
      },
      "execution_count": 94,
      "outputs": [
        {
          "output_type": "execute_result",
          "data": {
            "text/plain": [
              "TtestResult(statistic=22.75898836015731, pvalue=6.544556451836452e-114, df=38748.0)"
            ]
          },
          "metadata": {},
          "execution_count": 94
        }
      ]
    },
    {
      "cell_type": "markdown",
      "source": [
        "pvalue가 0.05보다 작으므로 귀무가설 기각\n",
        "두 그룹의 bedrooms는 서로 다르다"
      ],
      "metadata": {
        "id": "C4-zJe4HVLup"
      }
    },
    {
      "cell_type": "code",
      "source": [
        "# beds t-검정\n",
        "data_beds_1 = interval_variable[categorical_variable['price_B'] == 1]['beds']\n",
        "data_beds_0 = interval_variable[categorical_variable['price_B'] == 0]['beds']\n",
        "\n",
        "stats.ttest_ind(data_beds_1, data_beds_0)"
      ],
      "metadata": {
        "colab": {
          "base_uri": "https://localhost:8080/"
        },
        "id": "vFs2_b6-v819",
        "outputId": "e25b7130-f093-46e4-c032-9bdde650dbb5"
      },
      "execution_count": 95,
      "outputs": [
        {
          "output_type": "execute_result",
          "data": {
            "text/plain": [
              "TtestResult(statistic=80.90038738032332, pvalue=0.0, df=38748.0)"
            ]
          },
          "metadata": {},
          "execution_count": 95
        }
      ]
    },
    {
      "cell_type": "markdown",
      "source": [
        "pvalue가 0.05보다 작으므로 귀무가설 기각\n",
        "두 그룹의 beds는 서로 다르다"
      ],
      "metadata": {
        "id": "fubP8EqLVREs"
      }
    },
    {
      "cell_type": "code",
      "source": [
        "# amenities t-검정\n",
        "data_amenities_1 = interval_variable[categorical_variable['price_B'] == 1]['amenities']\n",
        "data_amenities_0 = interval_variable[categorical_variable['price_B'] == 0]['amenities']\n",
        "\n",
        "stats.ttest_ind(data_amenities_1, data_amenities_0)"
      ],
      "metadata": {
        "colab": {
          "base_uri": "https://localhost:8080/"
        },
        "id": "SiLzCxf1wNNU",
        "outputId": "083b8923-e491-46a3-8919-eb089f6ca016"
      },
      "execution_count": 96,
      "outputs": [
        {
          "output_type": "execute_result",
          "data": {
            "text/plain": [
              "TtestResult(statistic=45.84341552975711, pvalue=0.0, df=38748.0)"
            ]
          },
          "metadata": {},
          "execution_count": 96
        }
      ]
    },
    {
      "cell_type": "markdown",
      "source": [
        "pvalue가 0.05보다 작으므로 귀무가설 기각\n",
        "두 그룹의 amenities는 서로 다르다"
      ],
      "metadata": {
        "id": "iisblcsBVVBd"
      }
    },
    {
      "cell_type": "code",
      "source": [
        "# availability_90 t-검정\n",
        "data_availability_90_1 = interval_variable[categorical_variable['price_B'] == 1]['availability_90']\n",
        "data_availability_90_0 = interval_variable[categorical_variable['price_B'] == 0]['availability_90']\n",
        "\n",
        "stats.ttest_ind(data_availability_90_1, data_availability_90_0)"
      ],
      "metadata": {
        "colab": {
          "base_uri": "https://localhost:8080/"
        },
        "id": "KItVIHQHwazN",
        "outputId": "6a6f1e53-7453-43ba-d2df-05b666534d4d"
      },
      "execution_count": 97,
      "outputs": [
        {
          "output_type": "execute_result",
          "data": {
            "text/plain": [
              "TtestResult(statistic=27.107036259943715, pvalue=2.5611462816654945e-160, df=38748.0)"
            ]
          },
          "metadata": {},
          "execution_count": 97
        }
      ]
    },
    {
      "cell_type": "markdown",
      "source": [
        "pvalue가 0.05보다 작으므로 귀무가설 기각\n",
        "두 그룹의 availability_90은 서로 다르다"
      ],
      "metadata": {
        "id": "sMKYBZACVXEW"
      }
    },
    {
      "cell_type": "code",
      "source": [
        "# availability_365 t-검정\n",
        "data_aavailability_365_1 = interval_variable[categorical_variable['price_B'] == 1]['availability_365']\n",
        "data_availability_365_0 = interval_variable[categorical_variable['price_B'] == 0]['availability_365']\n",
        "\n",
        "stats.ttest_ind(data_aavailability_365_1, data_availability_365_0)"
      ],
      "metadata": {
        "colab": {
          "base_uri": "https://localhost:8080/"
        },
        "id": "3FvYlx06yJX6",
        "outputId": "7865f84a-22db-4753-d520-dab17d0cbba3"
      },
      "execution_count": 98,
      "outputs": [
        {
          "output_type": "execute_result",
          "data": {
            "text/plain": [
              "TtestResult(statistic=30.86722540160335, pvalue=1.0598580458310697e-206, df=38748.0)"
            ]
          },
          "metadata": {},
          "execution_count": 98
        }
      ]
    },
    {
      "cell_type": "markdown",
      "source": [
        "pvalue가 0.05보다 작으므로 귀무가설 기각\n",
        "두 그룹의 availability_365는 서로 다르다"
      ],
      "metadata": {
        "id": "JbmncIFVVcCy"
      }
    },
    {
      "cell_type": "code",
      "source": [
        "# number_of_reviews t-검정\n",
        "data_number_of_reviews_1 = interval_variable[categorical_variable['price_B'] == 1]['number_of_reviews']\n",
        "data_number_of_reviews_0 = interval_variable[categorical_variable['price_B'] == 0]['number_of_reviews']\n",
        "\n",
        "stats.ttest_ind(data_number_of_reviews_1, data_number_of_reviews_0)"
      ],
      "metadata": {
        "colab": {
          "base_uri": "https://localhost:8080/"
        },
        "id": "nQZHkUttyQts",
        "outputId": "49403066-9796-4aec-cfe8-ef9a7b77ca8a"
      },
      "execution_count": 99,
      "outputs": [
        {
          "output_type": "execute_result",
          "data": {
            "text/plain": [
              "TtestResult(statistic=2.990068334137311, pvalue=0.0027909018290161337, df=38748.0)"
            ]
          },
          "metadata": {},
          "execution_count": 99
        }
      ]
    },
    {
      "cell_type": "markdown",
      "source": [
        "pvalue가 0.05보다 작으므로 귀무가설 기각\n",
        "두 그룹의 number_of_reviews는 서로 다르다"
      ],
      "metadata": {
        "id": "ev8ACmJzVfi5"
      }
    },
    {
      "cell_type": "code",
      "source": [
        "# review_scores_rating t-검정\n",
        "data_review_scores_rating_1 = interval_variable[categorical_variable['price_B'] == 1]['review_scores_rating']\n",
        "data_review_scores_rating_0 = interval_variable[categorical_variable['price_B'] == 0]['review_scores_rating']\n",
        "\n",
        "stats.ttest_ind(data_review_scores_rating_1, data_review_scores_rating_0)"
      ],
      "metadata": {
        "colab": {
          "base_uri": "https://localhost:8080/"
        },
        "id": "ClKEHVN3yZJS",
        "outputId": "b956015c-0049-4cea-cfed-d732737d1ddb"
      },
      "execution_count": 100,
      "outputs": [
        {
          "output_type": "execute_result",
          "data": {
            "text/plain": [
              "TtestResult(statistic=13.298682367725586, pvalue=2.8873962495611256e-40, df=38748.0)"
            ]
          },
          "metadata": {},
          "execution_count": 100
        }
      ]
    },
    {
      "cell_type": "markdown",
      "source": [
        "pvalue가 0.05보다 작으므로 귀무가설 기각\n",
        "두 그룹의 review_scores_rating은 서로 다르다"
      ],
      "metadata": {
        "id": "4OuUTTHFVjGl"
      }
    },
    {
      "cell_type": "code",
      "source": [
        "# review_scores_accuracy t-검정\n",
        "data_review_scores_accuracy_1 = interval_variable[categorical_variable['price_B'] == 1]['review_scores_accuracy']\n",
        "data_review_scores_accuracy_0 = interval_variable[categorical_variable['price_B'] == 0]['review_scores_accuracy']\n",
        "\n",
        "stats.ttest_ind(data_review_scores_accuracy_1, data_review_scores_accuracy_0)"
      ],
      "metadata": {
        "colab": {
          "base_uri": "https://localhost:8080/"
        },
        "id": "c6nQIQUdyiL5",
        "outputId": "44b48759-4b64-4604-c501-1391d869c5fe"
      },
      "execution_count": 101,
      "outputs": [
        {
          "output_type": "execute_result",
          "data": {
            "text/plain": [
              "TtestResult(statistic=8.2313534256371, pvalue=1.908337272185342e-16, df=38748.0)"
            ]
          },
          "metadata": {},
          "execution_count": 101
        }
      ]
    },
    {
      "cell_type": "markdown",
      "source": [
        "pvalue가 0.05보다 작으므로 귀무가설 기각\n",
        "두 그룹의 review_scores_accuracy는 서로 다르다"
      ],
      "metadata": {
        "id": "XjaPNXaxVnPH"
      }
    },
    {
      "cell_type": "code",
      "source": [
        "# review_scores_cleanliness t-검정\n",
        "data_review_scores_cleanliness_1 = interval_variable[categorical_variable['price_B'] == 1]['review_scores_cleanliness']\n",
        "data_review_scores_cleanliness_0 = interval_variable[categorical_variable['price_B'] == 0]['review_scores_cleanliness']\n",
        "\n",
        "stats.ttest_ind(data_review_scores_cleanliness_1, data_review_scores_cleanliness_0)"
      ],
      "metadata": {
        "colab": {
          "base_uri": "https://localhost:8080/"
        },
        "id": "5tV3RyqTyqFn",
        "outputId": "ae31085c-0775-4e15-9ae6-11191b03a894"
      },
      "execution_count": 102,
      "outputs": [
        {
          "output_type": "execute_result",
          "data": {
            "text/plain": [
              "TtestResult(statistic=19.117299718496696, pvalue=4.287926451071487e-81, df=38748.0)"
            ]
          },
          "metadata": {},
          "execution_count": 102
        }
      ]
    },
    {
      "cell_type": "markdown",
      "source": [
        "pvalue가 0.05보다 작으므로 귀무가설 기각\n",
        "두 그룹의 review_scores_cleanliness는 서로 다르다"
      ],
      "metadata": {
        "id": "kijypPRRVq_I"
      }
    },
    {
      "cell_type": "code",
      "source": [
        "# review_scores_checkin t-검정\n",
        "data_review_scores_checkin_1 = interval_variable[categorical_variable['price_B'] == 1]['review_scores_checkin']\n",
        "data_review_scores_checkin_0 = interval_variable[categorical_variable['price_B'] == 0]['review_scores_checkin']\n",
        "\n",
        "stats.ttest_ind(data_review_scores_checkin_1, data_review_scores_checkin_0)"
      ],
      "metadata": {
        "colab": {
          "base_uri": "https://localhost:8080/"
        },
        "id": "hRDKWya2y1jz",
        "outputId": "6c119b7f-5235-40e3-df4c-68b3816ab13b"
      },
      "execution_count": 103,
      "outputs": [
        {
          "output_type": "execute_result",
          "data": {
            "text/plain": [
              "TtestResult(statistic=4.607397096367092, pvalue=4.090377500932186e-06, df=38748.0)"
            ]
          },
          "metadata": {},
          "execution_count": 103
        }
      ]
    },
    {
      "cell_type": "markdown",
      "source": [
        "pvalue가 0.05보다 작으므로 귀무가설 기각\n",
        "두 그룹의 review_scores_checkin은 서로 다르다"
      ],
      "metadata": {
        "id": "DT30JmYzVuUk"
      }
    },
    {
      "cell_type": "code",
      "source": [
        "# review_scores_communication t-검정\n",
        "data_review_scores_communication_1 = interval_variable[categorical_variable['price_B'] == 1]['review_scores_communication']\n",
        "data_review_scores_communication_0 = interval_variable[categorical_variable['price_B'] == 0]['review_scores_communication']\n",
        "\n",
        "stats.ttest_ind(data_review_scores_communication_1, data_review_scores_communication_0)"
      ],
      "metadata": {
        "colab": {
          "base_uri": "https://localhost:8080/"
        },
        "id": "r3-3BXgiy9ZJ",
        "outputId": "e994dce1-280a-4cf1-8d9d-36bde42dbaf4"
      },
      "execution_count": 104,
      "outputs": [
        {
          "output_type": "execute_result",
          "data": {
            "text/plain": [
              "TtestResult(statistic=6.143368601205813, pvalue=8.157416634113921e-10, df=38748.0)"
            ]
          },
          "metadata": {},
          "execution_count": 104
        }
      ]
    },
    {
      "cell_type": "markdown",
      "source": [
        "pvalue가 0.05보다 작으므로 귀무가설 기각\n",
        "두 그룹의 review_scores_communication은 서로 다르다"
      ],
      "metadata": {
        "id": "aS_Ij97fVxw-"
      }
    },
    {
      "cell_type": "code",
      "source": [
        "# review_scores_location t-검정\n",
        "data_review_scores_location_1 = interval_variable[categorical_variable['price_B'] == 1]['review_scores_location']\n",
        "data_review_scores_location_0 = interval_variable[categorical_variable['price_B'] == 0]['review_scores_location']\n",
        "\n",
        "stats.ttest_ind(data_review_scores_location_1, data_review_scores_location_0)"
      ],
      "metadata": {
        "colab": {
          "base_uri": "https://localhost:8080/"
        },
        "id": "kwRaCMiAzEuu",
        "outputId": "71d6840d-09c2-4879-d513-27c85cad3e2c"
      },
      "execution_count": 105,
      "outputs": [
        {
          "output_type": "execute_result",
          "data": {
            "text/plain": [
              "TtestResult(statistic=20.22835793130179, pvalue=1.619460337688526e-90, df=38748.0)"
            ]
          },
          "metadata": {},
          "execution_count": 105
        }
      ]
    },
    {
      "cell_type": "markdown",
      "source": [
        "pvalue가 0.05보다 작으므로 귀무가설 기각\n",
        "두 그룹의 review_scores_location은 서로 다르다"
      ],
      "metadata": {
        "id": "0ZW4teweV1Vr"
      }
    },
    {
      "cell_type": "code",
      "source": [
        "# review_scores_value t-검정\n",
        "data_review_scores_value_1 = interval_variable[categorical_variable['price_B'] == 1]['review_scores_value']\n",
        "data_review_scores_value_0 = interval_variable[categorical_variable['price_B'] == 0]['review_scores_value']\n",
        "\n",
        "stats.ttest_ind(data_review_scores_value_1, data_review_scores_value_0)"
      ],
      "metadata": {
        "colab": {
          "base_uri": "https://localhost:8080/"
        },
        "id": "_YXhRNAezM0j",
        "outputId": "363dfe81-34ab-47f1-de57-fdd5409a1b24"
      },
      "execution_count": 106,
      "outputs": [
        {
          "output_type": "execute_result",
          "data": {
            "text/plain": [
              "TtestResult(statistic=0.6835163029902508, pvalue=0.4942847391351013, df=38748.0)"
            ]
          },
          "metadata": {},
          "execution_count": 106
        }
      ]
    },
    {
      "cell_type": "markdown",
      "source": [
        "review_scores_value 변수만 귀무가설 채택 - 두 그룹별의 평균 점수는 차이가 없으므로 review_scores_value는 price_B 변수에 영향을 미칠 가능성이 작다"
      ],
      "metadata": {
        "id": "kLmMt9Q8zapL"
      }
    },
    {
      "cell_type": "markdown",
      "source": [
        "머신러닝 모델 수립\n",
        "\n",
        "\n",
        "결정 트리, 로지스틱 회귀, 신경망 모델, K-최근접 이웃, 랜덤 포레스트, 그레디언트 부스팅, Lasso, SVM, XGBoost, LightGBM, 앙상블 등 여러 모델을 사용하여 가장 높은 정확도를 가지고 있는 모델 판별"
      ],
      "metadata": {
        "id": "xNPYhJ3dbHsB"
      }
    },
    {
      "cell_type": "markdown",
      "source": [
        "머신 러닝 모델 실행"
      ],
      "metadata": {
        "id": "4yViQOxRgTZx"
      }
    },
    {
      "cell_type": "code",
      "source": [
        "#구간 변수 데이터프레임에 price변수 추가 후 최종 확인\n",
        "interval_variable['price'] = preprocessing_completed['price']\n",
        "print(interval_variable.info())\n",
        "print(categorical_variable.info())\n",
        "interval_variable.to_csv('/content/drive/MyDrive/Colab Notebooks/Data_Analysis/interval_variable.csv', index = False)\n",
        "categorical_variable.to_csv('/content/drive/MyDrive/Colab Notebooks/Data_Analysis/categorical_variable.csv', index = False)"
      ],
      "metadata": {
        "colab": {
          "base_uri": "https://localhost:8080/"
        },
        "id": "uyvFTE7OahNO",
        "outputId": "f7059c99-939d-49d2-c5f4-90324b4f4741"
      },
      "execution_count": 108,
      "outputs": [
        {
          "output_type": "stream",
          "name": "stderr",
          "text": [
            "<ipython-input-108-cee82b6a3987>:2: SettingWithCopyWarning: \n",
            "A value is trying to be set on a copy of a slice from a DataFrame.\n",
            "Try using .loc[row_indexer,col_indexer] = value instead\n",
            "\n",
            "See the caveats in the documentation: https://pandas.pydata.org/pandas-docs/stable/user_guide/indexing.html#returning-a-view-versus-a-copy\n",
            "  interval_variable['price'] = preprocessing_completed['price']\n"
          ]
        },
        {
          "output_type": "stream",
          "name": "stdout",
          "text": [
            "<class 'pandas.core.frame.DataFrame'>\n",
            "RangeIndex: 38750 entries, 0 to 38749\n",
            "Data columns (total 18 columns):\n",
            " #   Column                       Non-Null Count  Dtype  \n",
            "---  ------                       --------------  -----  \n",
            " 0   host_response_rate           38750 non-null  float64\n",
            " 1   latitude                     38750 non-null  float64\n",
            " 2   longitude                    38750 non-null  float64\n",
            " 3   accommodates                 38750 non-null  int64  \n",
            " 4   bedrooms                     38750 non-null  float64\n",
            " 5   beds                         38750 non-null  float64\n",
            " 6   amenities                    38750 non-null  int64  \n",
            " 7   availability_90              38750 non-null  int64  \n",
            " 8   availability_365             38750 non-null  int64  \n",
            " 9   number_of_reviews            38750 non-null  int64  \n",
            " 10  review_scores_rating         38750 non-null  float64\n",
            " 11  review_scores_accuracy       38750 non-null  float64\n",
            " 12  review_scores_cleanliness    38750 non-null  float64\n",
            " 13  review_scores_checkin        38750 non-null  float64\n",
            " 14  review_scores_communication  38750 non-null  float64\n",
            " 15  review_scores_location       38750 non-null  float64\n",
            " 16  review_scores_value          38750 non-null  float64\n",
            " 17  price                        38750 non-null  float64\n",
            "dtypes: float64(13), int64(5)\n",
            "memory usage: 5.3 MB\n",
            "None\n",
            "<class 'pandas.core.frame.DataFrame'>\n",
            "RangeIndex: 38750 entries, 0 to 38749\n",
            "Data columns (total 7 columns):\n",
            " #   Column                        Non-Null Count  Dtype \n",
            "---  ------                        --------------  ----- \n",
            " 0   host_response_time            38750 non-null  object\n",
            " 1   host_is_superhost             38750 non-null  object\n",
            " 2   neighbourhood_group_cleansed  38750 non-null  object\n",
            " 3   room_type                     38750 non-null  object\n",
            " 4   bathrooms_text                38750 non-null  object\n",
            " 5   instant_bookable              38750 non-null  object\n",
            " 6   price_B                       38750 non-null  object\n",
            "dtypes: object(7)\n",
            "memory usage: 2.1+ MB\n",
            "None\n"
          ]
        }
      ]
    }
  ]
}