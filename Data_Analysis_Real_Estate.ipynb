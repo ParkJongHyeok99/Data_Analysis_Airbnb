{
  "nbformat": 4,
  "nbformat_minor": 0,
  "metadata": {
    "colab": {
      "provenance": [],
      "authorship_tag": "ABX9TyOzBAArnfdS8BnoAFouf71y",
      "include_colab_link": true
    },
    "kernelspec": {
      "name": "python3",
      "display_name": "Python 3"
    },
    "language_info": {
      "name": "python"
    }
  },
  "cells": [
    {
      "cell_type": "markdown",
      "metadata": {
        "id": "view-in-github",
        "colab_type": "text"
      },
      "source": [
        "<a href=\"https://colab.research.google.com/github/ParkJongHyeok99/Data_Analysis_Airbnb/blob/main/Data_Analysis_Real_Estate.ipynb\" target=\"_parent\"><img src=\"https://colab.research.google.com/assets/colab-badge.svg\" alt=\"Open In Colab\"/></a>"
      ]
    },
    {
      "cell_type": "markdown",
      "source": [
        "google colab 연동 및 데이터 전처리"
      ],
      "metadata": {
        "id": "ep0YdHHqQLJ1"
      }
    },
    {
      "cell_type": "code",
      "execution_count": null,
      "metadata": {
        "colab": {
          "base_uri": "https://localhost:8080/"
        },
        "id": "J9V6Cv_BKkuJ",
        "outputId": "111884f4-8e32-48d1-dc2e-6628d487e80e"
      },
      "outputs": [
        {
          "output_type": "stream",
          "name": "stdout",
          "text": [
            "Mounted at /content/drive\n"
          ]
        }
      ],
      "source": [
        "from google.colab import drive\n",
        "drive.mount('/content/drive')"
      ]
    },
    {
      "cell_type": "code",
      "source": [
        "import pandas as pd\n",
        "\n",
        "source_data = pd.read_csv('/content/drive/MyDrive/Colab Notebooks/Data_Analysis/NYC Property Sales/nyc-rolling-sales.csv')\n",
        "source_data.shape"
      ],
      "metadata": {
        "colab": {
          "base_uri": "https://localhost:8080/"
        },
        "id": "aaAINyyMQe5O",
        "outputId": "39ad9667-c7a1-4b85-85c7-1a817f1451ff"
      },
      "execution_count": null,
      "outputs": [
        {
          "output_type": "execute_result",
          "data": {
            "text/plain": [
              "(84548, 22)"
            ]
          },
          "metadata": {},
          "execution_count": 23
        }
      ]
    },
    {
      "cell_type": "code",
      "source": [
        "delete_columns_data = source_data.drop(['Unnamed: 0', 'BLOCK', 'LOT', 'EASE-MENT', 'ADDRESS', 'APARTMENT NUMBER', 'ZIP CODE', 'TOTAL UNITS', 'BUILDING CLASS AT TIME OF SALE', 'SALE DATE', 'NEIGHBORHOOD'], axis=1)\n",
        "delete_columns_data.shape"
      ],
      "metadata": {
        "colab": {
          "base_uri": "https://localhost:8080/"
        },
        "id": "hbxOVZdrQuig",
        "outputId": "c1134216-0d1d-4d58-b670-41ba6bb09d76"
      },
      "execution_count": null,
      "outputs": [
        {
          "output_type": "execute_result",
          "data": {
            "text/plain": [
              "(84548, 11)"
            ]
          },
          "metadata": {},
          "execution_count": 24
        }
      ]
    },
    {
      "cell_type": "code",
      "source": [
        "delete_columns_data.info()"
      ],
      "metadata": {
        "colab": {
          "base_uri": "https://localhost:8080/"
        },
        "id": "Ln1UA-zwS6Sa",
        "outputId": "7dbccffd-156d-4753-85e3-73fc483e9e81"
      },
      "execution_count": null,
      "outputs": [
        {
          "output_type": "stream",
          "name": "stdout",
          "text": [
            "<class 'pandas.core.frame.DataFrame'>\n",
            "RangeIndex: 84548 entries, 0 to 84547\n",
            "Data columns (total 11 columns):\n",
            " #   Column                     Non-Null Count  Dtype \n",
            "---  ------                     --------------  ----- \n",
            " 0   BOROUGH                    84548 non-null  int64 \n",
            " 1   BUILDING CLASS CATEGORY    84548 non-null  object\n",
            " 2   TAX CLASS AT PRESENT       84548 non-null  object\n",
            " 3   BUILDING CLASS AT PRESENT  84548 non-null  object\n",
            " 4   RESIDENTIAL UNITS          84548 non-null  int64 \n",
            " 5   COMMERCIAL UNITS           84548 non-null  int64 \n",
            " 6   LAND SQUARE FEET           84548 non-null  object\n",
            " 7   GROSS SQUARE FEET          84548 non-null  object\n",
            " 8   YEAR BUILT                 84548 non-null  int64 \n",
            " 9   TAX CLASS AT TIME OF SALE  84548 non-null  int64 \n",
            " 10  SALE PRICE                 84548 non-null  object\n",
            "dtypes: int64(5), object(6)\n",
            "memory usage: 7.1+ MB\n"
          ]
        }
      ]
    },
    {
      "cell_type": "code",
      "source": [
        "# '-'가 있는 행 찾기\n",
        "rows_with_minus_sign = delete_columns_data[delete_columns_data.apply(lambda row: ' -  ' in row.values, axis=1)]\n",
        "\n",
        "# 해당 행을 삭제\n",
        "delete_columns_data = delete_columns_data.drop(rows_with_minus_sign.index)\n",
        "\n",
        "delete_columns_data.info()"
      ],
      "metadata": {
        "colab": {
          "base_uri": "https://localhost:8080/"
        },
        "id": "bWAPIGbjW1UD",
        "outputId": "ffbdad63-af73-4d2c-ae40-3977acd3d681"
      },
      "execution_count": null,
      "outputs": [
        {
          "output_type": "stream",
          "name": "stdout",
          "text": [
            "<class 'pandas.core.frame.DataFrame'>\n",
            "Int64Index: 48244 entries, 0 to 84547\n",
            "Data columns (total 11 columns):\n",
            " #   Column                     Non-Null Count  Dtype \n",
            "---  ------                     --------------  ----- \n",
            " 0   BOROUGH                    48244 non-null  int64 \n",
            " 1   BUILDING CLASS CATEGORY    48244 non-null  object\n",
            " 2   TAX CLASS AT PRESENT       48244 non-null  object\n",
            " 3   BUILDING CLASS AT PRESENT  48244 non-null  object\n",
            " 4   RESIDENTIAL UNITS          48244 non-null  int64 \n",
            " 5   COMMERCIAL UNITS           48244 non-null  int64 \n",
            " 6   LAND SQUARE FEET           48244 non-null  object\n",
            " 7   GROSS SQUARE FEET          48244 non-null  object\n",
            " 8   YEAR BUILT                 48244 non-null  int64 \n",
            " 9   TAX CLASS AT TIME OF SALE  48244 non-null  int64 \n",
            " 10  SALE PRICE                 48244 non-null  object\n",
            "dtypes: int64(5), object(6)\n",
            "memory usage: 4.4+ MB\n"
          ]
        }
      ]
    },
    {
      "cell_type": "code",
      "source": [
        "# 구간 변수 RESIDENTIAL UNITS, COMMERCIAL UNITS, LAND SQUARE FEET, GROSS SQUARE FEET, YEAR BUILT, SALE PRICE  (6)\n",
        "\n",
        "# 구간 변수 타입 변경\n",
        "delete_columns_data['LAND SQUARE FEET'] = delete_columns_data['LAND SQUARE FEET'].astype(int)\n",
        "delete_columns_data['GROSS SQUARE FEET'] = delete_columns_data['GROSS SQUARE FEET'].astype(int)\n",
        "delete_columns_data['SALE PRICE'] = delete_columns_data['SALE PRICE'].astype(int)"
      ],
      "metadata": {
        "id": "mwjbjV-Qb5bz"
      },
      "execution_count": null,
      "outputs": []
    },
    {
      "cell_type": "code",
      "source": [
        "# 범주형 변수 BOROUGH, BUILDING CLASS CATEGORY, TAX CLASS AT PRESENT, BUILDING CLASS AT PRESENT, TAX CLASS AT TIME OF SALE, PRICE_B (6)\n",
        "\n",
        "# PRICE_B 생성"
      ],
      "metadata": {
        "id": "k2xDyw28eIB5"
      },
      "execution_count": null,
      "outputs": []
    }
  ]
}